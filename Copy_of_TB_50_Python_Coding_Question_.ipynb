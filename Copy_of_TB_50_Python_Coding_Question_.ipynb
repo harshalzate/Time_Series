{
  "nbformat": 4,
  "nbformat_minor": 0,
  "metadata": {
    "colab": {
      "provenance": [],
      "include_colab_link": true
    },
    "kernelspec": {
      "name": "python3",
      "display_name": "Python 3"
    },
    "language_info": {
      "name": "python"
    }
  },
  "cells": [
    {
      "cell_type": "markdown",
      "metadata": {
        "id": "view-in-github",
        "colab_type": "text"
      },
      "source": [
        "<a href=\"https://colab.research.google.com/github/harshalzate/Time_Series/blob/main/Copy_of_TB_50_Python_Coding_Question_.ipynb\" target=\"_parent\"><img src=\"https://colab.research.google.com/assets/colab-badge.svg\" alt=\"Open In Colab\"/></a>"
      ]
    },
    {
      "cell_type": "code",
      "source": [
        "# Solve 1-2 questions everyday and really understand it!!!.\n",
        "# Try yourself first, if you are not able to solve it, then look at the solution and try to solve question again.\n",
        "# These 50 questions are logical and will help build the python competency.\n",
        "\n",
        "\n",
        "\n"
      ],
      "metadata": {
        "id": "oRu81xQqfUlf"
      },
      "execution_count": null,
      "outputs": []
    },
    {
      "cell_type": "markdown",
      "source": [
        "### 1. Python Program for Check if all digits of a number divide it\n",
        "\n",
        "Input : 128\n",
        "Output : Yes\n",
        "128 % 1 == 0, 128 % 2 == 0, and 128 % 8 == 0.\n",
        "\n",
        "Input : 130\n",
        "Output : No\n",
        "\n"
      ],
      "metadata": {
        "id": "3vw50o_nhxN8"
      }
    },
    {
      "cell_type": "code",
      "execution_count": null,
      "metadata": {
        "id": "k7ohfLhyK6ph",
        "outputId": "14edbf2c-9333-4edb-a0c4-ebd2a65dfb87",
        "colab": {
          "base_uri": "https://localhost:8080/"
        }
      },
      "outputs": [
        {
          "output_type": "stream",
          "name": "stdout",
          "text": [
            "130\n",
            "No\n"
          ]
        }
      ],
      "source": [
        "def check_divisibility_(num):\n",
        "  num_st = str(num)\n",
        "  return 'Yes' if all(num%int(i)==0 for i in num_st) else 'No'\n",
        "num = int(input())\n",
        "print(check_divisibility_(num))\n"
      ]
    },
    {
      "cell_type": "code",
      "source": [
        "# Solution -\n",
        "def check_divisibility(num):\n",
        "    # Convert the number to a string to iterate through its digits\n",
        "    num_str = str(num)\n",
        "\n",
        "    # Iterate through each digit and check if it divides the number\n",
        "    for digit_str in num_str:\n",
        "        digit = int(digit_str)\n",
        "        if digit == 0 or num % digit != 0:\n",
        "            return \"No\"\n",
        "\n",
        "    # If all digits divide the number, return \"Yes\"\n",
        "    return \"Yes\"\n",
        "\n",
        "# Test cases\n",
        "num1 = 128\n",
        "num2 = 130\n",
        "\n",
        "output1 = check_divisibility(num1)\n",
        "output2 = check_divisibility(num2)\n",
        "\n",
        "print(f\"Input: {num1}, Output: {output1}\")\n",
        "print(f\"Input: {num2}, Output: {output2}\")\n"
      ],
      "metadata": {
        "colab": {
          "base_uri": "https://localhost:8080/"
        },
        "id": "Fuu1l5ekdtyz",
        "outputId": "bcf2b9e6-6caf-479a-e122-ce3e9d7a8aec"
      },
      "execution_count": null,
      "outputs": [
        {
          "output_type": "stream",
          "name": "stdout",
          "text": [
            "Input: 128, Output: Yes\n",
            "Input: 130, Output: No\n"
          ]
        }
      ]
    },
    {
      "cell_type": "markdown",
      "source": [
        "2. Given A and B, the task is to find the number of possible values\n",
        "that X can take such that the given modular equation (A mod X) = B holds good.\n",
        "Here, X is also called a solution of the modular equation.\n",
        "\n",
        "Input : A = 26, B = 2\n",
        "Output : 6\n",
        "\n",
        "Explanation\n",
        "\n",
        "X can be equal to any of {3, 4, 6, 8,\n",
        "12, 24} as A modulus any of these values\n",
        "equals 2 i. e., (26 mod 3) = (26 mod 4)\n",
        "= (26 mod 6) = (26 mod 8) = Output: 2\n",
        "\n",
        "\n",
        "Input : 21 5\n",
        "Output : 2\n",
        "\n",
        "Explanation\n",
        "\n",
        "X can be equal to any of {8, 16} as A modulus\n",
        "any of these values equals 5 i.e. (21 mod\n",
        "8) = (21 mod 16) = 5\n",
        "\n",
        "Hint :\n"
      ],
      "metadata": {
        "id": "lfIxhp-nh-ui"
      }
    },
    {
      "cell_type": "code",
      "source": [
        "def count_mod(a,b):\n",
        "  cnt = 0\n",
        "  for i in range(1,a+1):\n",
        "    if a%i==b:\n",
        "      cnt+=1\n",
        "  return cnt\n",
        "a = int(input())\n",
        "b= int(input())\n",
        "print(count_mod(a,b))"
      ],
      "metadata": {
        "id": "gIMYNbfpMBAP",
        "outputId": "4c24f2a2-02e9-4b05-a2cb-7b784031a815",
        "colab": {
          "base_uri": "https://localhost:8080/"
        }
      },
      "execution_count": null,
      "outputs": [
        {
          "output_type": "stream",
          "name": "stdout",
          "text": [
            "21\n",
            "5\n",
            "2\n"
          ]
        }
      ]
    },
    {
      "cell_type": "code",
      "source": [
        "# Solution\n",
        "def count_solutions(A, B):\n",
        "    count = 0\n",
        "\n",
        "    # Iterate from 1 to A (inclusive) to find the possible values of X\n",
        "    for X in range(1, A + 1):\n",
        "        if A % X == B:\n",
        "            count += 1\n",
        "\n",
        "    return count\n",
        "\n",
        "# Test cases\n",
        "A1, B1 = 26, 2\n",
        "A2, B2 = 21, 5\n",
        "\n",
        "output1 = count_solutions(A1, B1)\n",
        "output2 = count_solutions(A2, B2)\n",
        "\n",
        "print(f\"Input: A={A1}, B={B1}, Output: {output1}\")\n",
        "print(f\"Input: A={A2}, B={B2}, Output: {output2}\")\n"
      ],
      "metadata": {
        "colab": {
          "base_uri": "https://localhost:8080/"
        },
        "id": "qF_iZzmleAwH",
        "outputId": "1f1c5a0e-1e29-45a3-93a1-77f2d341c124"
      },
      "execution_count": null,
      "outputs": [
        {
          "output_type": "stream",
          "name": "stdout",
          "text": [
            "Input: A=26, B=2, Output: 6\n",
            "Input: A=21, B=5, Output: 2\n"
          ]
        }
      ]
    },
    {
      "cell_type": "markdown",
      "source": [
        "## 3. Given a number n, the task is to find the even factor sum of a number. Examples:\n",
        "Input : 30\n",
        "\n",
        "Output : 48\n",
        "\n",
        "Even dividers sum 2 + 6 + 10 + 30 = 48\n",
        "\n",
        "Input : 18\n",
        "\n",
        "Output : 26\n",
        "\n",
        "Even dividers sum 2 + 6 + 18 = 26"
      ],
      "metadata": {
        "id": "1MUwC1yrECfR"
      }
    },
    {
      "cell_type": "code",
      "source": [
        "num = int(input())\n",
        "total = 0\n",
        "for i in range(1,num+1):\n",
        "  if num%i==0 and i%2==0:\n",
        "    total+=i\n",
        "print(total)"
      ],
      "metadata": {
        "id": "ha5HBdyfMyTD",
        "outputId": "4927490d-926e-41d6-8a6f-0146e8229a49",
        "colab": {
          "base_uri": "https://localhost:8080/"
        }
      },
      "execution_count": null,
      "outputs": [
        {
          "output_type": "stream",
          "name": "stdout",
          "text": [
            "18\n",
            "26\n"
          ]
        }
      ]
    },
    {
      "cell_type": "code",
      "source": [],
      "metadata": {
        "id": "nVJky5o7D_3p"
      },
      "execution_count": null,
      "outputs": []
    },
    {
      "cell_type": "code",
      "source": [
        "# Solution\n",
        "\n",
        "def even_factor_sum(n):\n",
        "    # Initialize sum to 0\n",
        "    even_sum = 0\n",
        "\n",
        "    # Iterate from 2 to the square root of n\n",
        "    for i in range(2, int(n**0.5) + 1):\n",
        "        # Check if i is a factor of n\n",
        "        if n % i == 0:\n",
        "            # Add the factor and its corresponding factor (n/i) to the sum\n",
        "            even_sum += i\n",
        "            if i != n // i:\n",
        "                even_sum += n // i\n",
        "\n",
        "    # Add the number itself to the sum if it is even\n",
        "    if n % 2 == 0:\n",
        "        even_sum += n\n",
        "\n",
        "    return even_sum\n",
        "\n",
        "# Test cases\n",
        "num1 = 30\n",
        "num2 = 18\n",
        "\n",
        "output1 = even_factor_sum(num1)\n",
        "output2 = even_factor_sum(num2)\n",
        "\n",
        "print(f\"Input: {num1}, Output: {output1}\")\n",
        "print(f\"Input: {num2}, Output: {output2}\")\n"
      ],
      "metadata": {
        "id": "XcW9lMo_etxF"
      },
      "execution_count": null,
      "outputs": []
    },
    {
      "cell_type": "markdown",
      "source": [
        "# 4. Given a string, write a python program to find the most occurrence character and its number of occurrences. Examples:\n",
        "\n",
        "Input : hello\n",
        "Output : ('l', 2)\n",
        "\n",
        "Input : geeksforgeeks\n",
        "Output : ('e', 4)\n"
      ],
      "metadata": {
        "id": "udozi542nYqj"
      }
    },
    {
      "cell_type": "code",
      "source": [
        "str1 = input()\n",
        "dic = {i:str1.count(i) for i in str1}\n",
        "print(max(dic.items(), key=lambda x:x[1]))"
      ],
      "metadata": {
        "id": "jh2i_Fj5NCgE",
        "outputId": "1a86b75b-121f-4c07-908e-3b8cee80daa0",
        "colab": {
          "base_uri": "https://localhost:8080/"
        }
      },
      "execution_count": null,
      "outputs": [
        {
          "output_type": "stream",
          "name": "stdout",
          "text": [
            "geeksforgeeks\n",
            "('e', 4)\n"
          ]
        }
      ]
    },
    {
      "cell_type": "code",
      "source": [
        " # here .get method is used for dictionary, student can use any other logic to solve the question.\n",
        "\n",
        "def most_occuring_character(input_str):\n",
        "    # Create a dictionary to store the count of each character\n",
        "    char_count = {}\n",
        "\n",
        "    # Iterate through each character in the string\n",
        "    for char in input_str:\n",
        "        # Update the count in the dictionary\n",
        "        char_count[char] = char_count.get(char, 0) + 1\n",
        "\n",
        "    # Find the character with the maximum count\n",
        "    most_occuring_char = max(char_count, key=char_count.get)\n",
        "\n",
        "    # Return a tuple containing the most occurring character and its count\n",
        "    return most_occuring_char, char_count[most_occuring_char]\n",
        "\n",
        "# Test cases\n",
        "str1 = \"hello\"\n",
        "str2 = \"geeksforgeeks\"\n",
        "\n",
        "output1 = most_occuring_character(str1)\n",
        "output2 = most_occuring_character(str2)\n",
        "\n",
        "print(f\"Input: {str1}, Output: {output1}\")\n",
        "print(f\"Input: {str2}, Output: {output2}\")"
      ],
      "metadata": {
        "id": "gA7OHoDofQxu"
      },
      "execution_count": null,
      "outputs": []
    },
    {
      "cell_type": "markdown",
      "source": [
        "# 5. Given three angles. The task is to check if it is possible to have a triangle of positive area with these angles.\n",
        "# If it is possible print “YES” else print “NO”.\n",
        "\n",
        "Input : ang1 = 50, ang2 = 60, ang3 = 70\n",
        "Output : YES\n",
        "\n",
        "Input : ang1 = 50, ang2 = 65, ang3 = 80\n",
        "Output : NO\n",
        "\n",
        "Note:\n",
        "The sum of the three given angles equals to 180.\n",
        "The sum of any two angles is greater than equal to the third one.\n",
        "None of the given angles is zero.\n",
        "\n"
      ],
      "metadata": {
        "id": "pUUPyxrsolVO"
      }
    },
    {
      "cell_type": "code",
      "source": [],
      "metadata": {
        "id": "CcbSK19bNsml"
      },
      "execution_count": null,
      "outputs": []
    },
    {
      "cell_type": "code",
      "source": [
        "# Solution\n",
        "def is_triangle_possible(ang1, ang2, ang3):\n",
        "    # Check if the sum of the three angles is 180\n",
        "    if ang1 + ang2 + ang3 == 180:\n",
        "        # Check if the sum of any two angles is greater than the third one\n",
        "        if ang1 + ang2 > ang3 and ang2 + ang3 > ang1 and ang1 + ang3 > ang2:\n",
        "            return \"YES\"\n",
        "\n",
        "    # If any condition is not met, return \"NO\"\n",
        "    return \"NO\"\n",
        "\n",
        "# Test cases\n",
        "ang1_1, ang2_1, ang3_1 = 50, 60, 70\n",
        "ang1_2, ang2_2, ang3_2 = 50, 65, 80\n",
        "\n",
        "output1 = is_triangle_possible(ang1_1, ang2_1, ang3_1)\n",
        "output2 = is_triangle_possible(ang1_2, ang2_2, ang3_2)\n",
        "\n",
        "print(f\"Input: ang1={ang1_1}, ang2={ang2_1}, ang3={ang3_1}, Output: {output1}\")\n",
        "print(f\"Input: ang1={ang1_2}, ang2={ang2_2}, ang3={ang3_2}, Output: {output2}\")\n"
      ],
      "metadata": {
        "colab": {
          "base_uri": "https://localhost:8080/"
        },
        "id": "T5we1_RbgCQZ",
        "outputId": "9d571ed3-ac99-464a-ab67-1516928ec481"
      },
      "execution_count": null,
      "outputs": [
        {
          "output_type": "stream",
          "name": "stdout",
          "text": [
            "Input: ang1=50, ang2=60, ang3=70, Output: YES\n",
            "Input: ang1=50, ang2=65, ang3=80, Output: NO\n"
          ]
        }
      ]
    },
    {
      "cell_type": "markdown",
      "source": [
        "# 6. Integers X and K are given. The task is to find smallest K-digit number divisible by X. Examples:\n",
        "\n",
        "Input : X = 83, K = 5\n",
        "Output : 10043\n",
        "10043 is the smallest 5 digit\n",
        "number that is multiple of 83.\n",
        "\n",
        "Input : X = 5, K = 2\n",
        "Output : 10\n",
        "Hint: Get the smallest number of K digits (10**(k-1)) and then get the remainder divided by X, then subtract it to get the number.\n",
        "\n"
      ],
      "metadata": {
        "id": "YuZo8kAJo7Sp"
      }
    },
    {
      "cell_type": "code",
      "source": [
        "x = int(input())\n",
        "k = int(input())\n",
        "smallest_num = 10** (k-1)\n",
        "remainder = smallest_num % x\n",
        "result = x - remainder + smallest_num\n",
        "print(result if x%2==0 else smallest_num)"
      ],
      "metadata": {
        "id": "gMiGYQkwOcgd",
        "outputId": "30806a0f-3067-4117-ede9-e7b2a69d6052",
        "colab": {
          "base_uri": "https://localhost:8080/"
        }
      },
      "execution_count": null,
      "outputs": [
        {
          "output_type": "stream",
          "name": "stdout",
          "text": [
            "5\n",
            "2\n",
            "10\n"
          ]
        }
      ]
    },
    {
      "cell_type": "code",
      "source": [
        "10000%83"
      ],
      "metadata": {
        "id": "EuGWIE-uR8kL",
        "outputId": "c3b90987-b7e0-4ad9-f38a-849bffe95149",
        "colab": {
          "base_uri": "https://localhost:8080/"
        }
      },
      "execution_count": null,
      "outputs": [
        {
          "output_type": "execute_result",
          "data": {
            "text/plain": [
              "40"
            ]
          },
          "metadata": {},
          "execution_count": 29
        }
      ]
    },
    {
      "cell_type": "code",
      "source": [
        "# Solution\n",
        "def smallest_k_digit_number(X, K):\n",
        "    # Find the smallest K-digit number with all digits as 1\n",
        "    smallest_number = 10**(K-1)\n",
        "\n",
        "    # Find the remainder when dividing the smallest_number by X\n",
        "    remainder = smallest_number % X\n",
        "\n",
        "    # Adjust the smallest_number to make it divisible by X\n",
        "    if remainder != 0:\n",
        "        smallest_number += X - remainder\n",
        "\n",
        "    return smallest_number\n",
        "\n",
        "# Test cases\n",
        "X1, K1 = 83, 5\n",
        "X2, K2 = 5, 2\n",
        "\n",
        "output1 = smallest_k_digit_number(X1, K1)\n",
        "output2 = smallest_k_digit_number(X2, K2)\n",
        "\n",
        "print(f\"Input: X={X1}, K={K1}, Output: {output1}\")\n",
        "print(f\"Input: X={X2}, K={K2}, Output: {output2}\")\n"
      ],
      "metadata": {
        "id": "Bt1a-9s-gMb-"
      },
      "execution_count": null,
      "outputs": []
    },
    {
      "cell_type": "code",
      "source": [],
      "metadata": {
        "id": "ZVRgO_qSgW__"
      },
      "execution_count": null,
      "outputs": []
    },
    {
      "cell_type": "markdown",
      "source": [
        "# 7. Given a square matrix of order n*n, we need to print elements of the matrix in Z form\n",
        "\n",
        "# Examples:\n",
        "\n",
        "Input : mat[][] =  {1, 2, 3,\n",
        "                    4, 5, 6,\n",
        "                    7, 8, 9}\n",
        "\n",
        "Output : 1 2 3 5 7 8 9\n",
        "\n",
        "Input : mat[][] = {5, 19, 8, 7,\n",
        "                   4, 1, 14, 8,\n",
        "                   2, 20, 1, 9,\n",
        "                   1, 2, 55, 4}\n",
        "\n",
        "Output: 5 19 8 7 14 20 1 2 55 4"
      ],
      "metadata": {
        "id": "ldsGt5L4UgpG"
      }
    },
    {
      "cell_type": "code",
      "source": [],
      "metadata": {
        "id": "BhBkDBj_PuTn"
      },
      "execution_count": null,
      "outputs": []
    },
    {
      "cell_type": "code",
      "source": [
        "# Solution\n",
        "def print_z_form(matrix):\n",
        "    n = len(matrix)\n",
        "\n",
        "    for i in range(n):\n",
        "        # Print the first row\n",
        "        print(matrix[0][i], end=\" \")\n",
        "\n",
        "    for i in range(1, n - 1):\n",
        "        # Print the diagonals\n",
        "        print(matrix[i][n - 1 - i], end=\" \")\n",
        "\n",
        "        # Print the middle row\n",
        "        print(matrix[i][i], end=\" \")\n",
        "\n",
        "    for i in range(n - 1, -1, -1):\n",
        "        # Print the last row\n",
        "        print(matrix[n - 1][i], end=\" \")\n",
        "\n",
        "# Test cases\n",
        "matrix1 = [[1, 2, 3],\n",
        "           [4, 5, 6],\n",
        "           [7, 8, 9]]\n",
        "\n",
        "matrix2 = [[5, 19, 8, 7],\n",
        "           [4, 1, 14, 8],\n",
        "           [2, 20, 1, 9],\n",
        "           [1, 2, 55, 4]]\n",
        "\n",
        "print(\"Matrix 1:\")\n",
        "print_z_form(matrix1)\n",
        "\n",
        "print(\"\\n\\nMatrix 2:\")\n",
        "print_z_form(matrix2)\n"
      ],
      "metadata": {
        "colab": {
          "base_uri": "https://localhost:8080/"
        },
        "id": "KWuHeQUmg1nu",
        "outputId": "a20bfb04-6ba1-492a-978b-fd6f3ab393d8"
      },
      "execution_count": null,
      "outputs": [
        {
          "output_type": "stream",
          "name": "stdout",
          "text": [
            "Matrix 1:\n",
            "1 2 3 5 5 9 8 7 \n",
            "\n",
            "Matrix 2:\n",
            "5 19 8 7 14 1 20 1 4 55 2 1 "
          ]
        }
      ]
    },
    {
      "cell_type": "code",
      "source": [
        "# 8. Write a python program for a given long integer,\n",
        "# we need to find if the difference between sum of odd position digits and sum of even position digits is 0 or not.\n",
        "# Input: 1212112\n",
        "# Output: Yes\n",
        "# Explanation:\n",
        "# the odd position element is 2+2+1=5\n",
        "# the even position element is 1+1+1+2=5\n",
        "# the difference is 5-5=0 equal to zero .\n",
        "# So print yes.\n",
        "\n",
        "# Input:12345\n",
        "# Output: No\n",
        "# Explanation:\n",
        "# the odd position element is 1+3+5=9\n",
        "# the even position element is 2+4=6\n",
        "# the difference is 9-6=3 not equal to zero.\n",
        "# So print no.\n",
        "num = input()\n",
        "print('Yes' if sum([int(e) for e in num[::2]])==sum([int(e) for e in num[1::2]]) else 'No')"
      ],
      "metadata": {
        "id": "1yURr4wPQA80",
        "outputId": "36388ec6-efe1-4822-9ac3-c89b55dd4301",
        "colab": {
          "base_uri": "https://localhost:8080/"
        }
      },
      "execution_count": null,
      "outputs": [
        {
          "output_type": "stream",
          "name": "stdout",
          "text": [
            "12345\n",
            "No\n"
          ]
        }
      ]
    },
    {
      "cell_type": "code",
      "source": [
        "# solution\n",
        "def is_difference_zero(num):\n",
        "    # Convert the number to a string to access individual digits\n",
        "    num_str = str(num)\n",
        "\n",
        "    # Initialize sums for odd and even positions\n",
        "    sum_odd = 0\n",
        "    sum_even = 0\n",
        "\n",
        "    # Iterate through each digit and update the sums based on their positions\n",
        "    for i in range(len(num_str)):\n",
        "        digit = int(num_str[i])\n",
        "        if i % 2 == 0:\n",
        "            # Even position\n",
        "            sum_even += digit\n",
        "        else:\n",
        "            # Odd position\n",
        "            sum_odd += digit\n",
        "\n",
        "    # Check if the difference between the sums is zero\n",
        "    return \"Yes\" if sum_odd - sum_even == 0 else \"No\"\n",
        "\n",
        "# Test cases\n",
        "num1 = 1212112\n",
        "num2 = 12345\n",
        "\n",
        "output1 = is_difference_zero(num1)\n",
        "output2 = is_difference_zero(num2)\n",
        "\n",
        "print(f\"Input: {num1}, Output: {output1}\")\n",
        "print(f\"Input: {num2}, Output: {output2}\")\n"
      ],
      "metadata": {
        "id": "MBrcaJZ4hB3C"
      },
      "execution_count": null,
      "outputs": []
    },
    {
      "cell_type": "code",
      "source": [
        "# 9. Given a number, find minimum sum of its factors.\n",
        "# Input : 12\n",
        "# Output : 7\n",
        "# Explanation:\n",
        "# Following are different ways to factorize 12 and\n",
        "# sum of factors in different ways.\n",
        "# 12 = 12 * 1 = 12 + 1 = 13\n",
        "# 12 = 2 * 6 = 2 + 6 = 8\n",
        "# 12 = 3 * 4 = 3 + 4 = 7\n",
        "# 12 = 2 * 2 * 3 = 2 + 2 + 3 = 7\n",
        "# Therefore minimum sum is 7\n",
        "# Input : 105\n",
        "# Output : 22\n",
        "num = 105\n",
        "lis = []\n",
        "for i in range(1,num+1):\n",
        "  for j in range(1,num):\n",
        "    if i*j==num:\n",
        "      lis.append(sum([i,j]))\n",
        "print(min(lis))"
      ],
      "metadata": {
        "id": "NodNb87DQQxs",
        "outputId": "868ee785-29d1-4a7e-bae6-0d7bc98a597e",
        "colab": {
          "base_uri": "https://localhost:8080/"
        }
      },
      "execution_count": null,
      "outputs": [
        {
          "output_type": "stream",
          "name": "stdout",
          "text": [
            "22\n"
          ]
        }
      ]
    },
    {
      "cell_type": "code",
      "source": [
        "# Solution\n",
        "def min_sum_of_factors(n):\n",
        "    # Initialize the minimum sum to the number itself\n",
        "    min_sum = n\n",
        "\n",
        "    # Iterate through possible divisors from 2 to the square root of n\n",
        "    for i in range(2, int(n**0.5) + 1):\n",
        "        if n % i == 0:\n",
        "            # Calculate the sum of factors for the current divisor and its complement\n",
        "            current_sum = i + n // i\n",
        "\n",
        "            # Update the minimum sum if the current sum is smaller\n",
        "            min_sum = min(min_sum, current_sum)\n",
        "\n",
        "    return min_sum\n",
        "\n",
        "# Test cases\n",
        "num1 = 12\n",
        "num2 = 105\n",
        "\n",
        "output1 = min_sum_of_factors(num1)\n",
        "output2 = min_sum_of_factors(num2)\n",
        "\n",
        "print(f\"Input: {num1}, Output: {output1}\")\n",
        "print(f\"Input: {num2}, Output: {output2}\")\n",
        "\n"
      ],
      "metadata": {
        "colab": {
          "base_uri": "https://localhost:8080/"
        },
        "id": "Ddm92sxChNey",
        "outputId": "d4d0e300-1069-464e-ffff-3379920d262a"
      },
      "execution_count": null,
      "outputs": [
        {
          "output_type": "stream",
          "name": "stdout",
          "text": [
            "Input: 12, Output: 7\n",
            "Input: 105, Output: 22\n"
          ]
        }
      ]
    },
    {
      "cell_type": "code",
      "source": [
        "# 10. We have N coins which need to arrange in form of a triangle, i.e. first row will have 1 coin,\n",
        "# second row will have 2 coins and so on,\n",
        "# we need to tell maximum height which we can achieve by using these N coins. Examples:\n",
        "# Input : N = 7\n",
        "# Output : 3\n",
        "# Explanation: Maximum height will be 3, putting 1, 2 and then 3 coins. It is not possible to use 1 coin left.\n",
        "\n",
        "# Input : N = 12\n",
        "# Output : 4\n",
        "# Explanation: Maximum height will be 4, putting 1, 2, 3 and 4 coins, it is not possible to make height as 5, because that will require 15 coins.\n"
      ],
      "metadata": {
        "id": "Fz-T6sKqQ69d"
      },
      "execution_count": null,
      "outputs": []
    },
    {
      "cell_type": "code",
      "source": [
        "# Solution\n",
        "def max_triangle_height(N):\n",
        "    # Initialize height and remaining coins\n",
        "    height = 0\n",
        "    remaining_coins = N\n",
        "\n",
        "    # Iterate until there are enough coins to form the next row\n",
        "    while remaining_coins >= height + 1:\n",
        "        height += 1\n",
        "        remaining_coins -= height\n",
        "\n",
        "    return height\n",
        "\n",
        "# Test cases\n",
        "N1 = 7\n",
        "N2 = 12\n",
        "\n",
        "output1 = max_triangle_height(N1)\n",
        "output2 = max_triangle_height(N2)\n",
        "\n",
        "print(f\"Input: N={N1}, Output: {output1}\")\n",
        "print(f\"Input: N={N2}, Output: {output2}\")\n"
      ],
      "metadata": {
        "colab": {
          "base_uri": "https://localhost:8080/"
        },
        "id": "SwVmWeZHhdeh",
        "outputId": "1a61d114-1ff9-4604-df41-3faa746531bf"
      },
      "execution_count": null,
      "outputs": [
        {
          "output_type": "stream",
          "name": "stdout",
          "text": [
            "Input: N=7, Output: 3\n",
            "Input: N=12, Output: 4\n"
          ]
        }
      ]
    },
    {
      "cell_type": "code",
      "source": [
        "# 11. Given an integer ‘n’, write a Python function that returns true\n",
        "# if binary representation of x is palindrome else return false. Examples:\n",
        "# Input : n = 9\n",
        "# Output : True\n",
        "# Binary representation of n=9 is 1001 which\n",
        "# is palindrome as well.\n",
        "\n",
        "# Input : n = 10\n",
        "# Output : False\n",
        "# Binary representation of n=10 is 1010 which\n",
        "# is not palindrome.\n",
        "n = int(input())\n",
        "binary = bin(n)[2:]\n",
        "print(binary==binary[::-1])"
      ],
      "metadata": {
        "id": "6XFAiqMpRUu7",
        "outputId": "9a41b857-150f-4bcc-9805-23ca7d9d8c94",
        "colab": {
          "base_uri": "https://localhost:8080/"
        }
      },
      "execution_count": null,
      "outputs": [
        {
          "output_type": "stream",
          "name": "stdout",
          "text": [
            "10\n",
            "False\n"
          ]
        }
      ]
    },
    {
      "cell_type": "code",
      "source": [
        "# Solution\n",
        "def is_binary_palindrome(n):\n",
        "    # Convert the integer to binary representation\n",
        "    binary_str = bin(n)[2:]\n",
        "\n",
        "    # Check if the binary representation is a palindrome\n",
        "    return binary_str == binary_str[::-1]\n",
        "\n",
        "# Test cases\n",
        "num1 = 9\n",
        "num2 = 10\n",
        "\n",
        "output1 = is_binary_palindrome(num1)\n",
        "output2 = is_binary_palindrome(num2)\n",
        "\n",
        "print(f\"Input: {num1}, Output: {output1}\")\n",
        "print(f\"Input: {num2}, Output: {output2}\")\n"
      ],
      "metadata": {
        "colab": {
          "base_uri": "https://localhost:8080/"
        },
        "id": "ysF6Jsk2hr7g",
        "outputId": "b947e385-0d56-4535-e3a5-8c8cc7c8cb4d"
      },
      "execution_count": null,
      "outputs": [
        {
          "output_type": "stream",
          "name": "stdout",
          "text": [
            "Input: 9, Output: True\n",
            "Input: 10, Output: False\n"
          ]
        }
      ]
    },
    {
      "cell_type": "code",
      "source": [
        "# 12. Given a value N, if we want to make change for N cents, and we have infinite supply of each of S = { S1, S2, .. , Sm} valued coins,\n",
        "# how many ways can we make the change? The order of coins doesn\\’t matter.\n",
        "# For example, for N = 4 and S = {1,2,3}, there are four solutions: {1,1,1,1},{1,1,2},{2,2},{1,3}. So output should be 4.\n",
        "# For N = 10 and S = {2, 5, 3, 6},\n",
        "# there are five solutions: {2,2,2,2,2}, {2,2,3,3}, {2,2,6}, {2,3,5} and {5,5}. So the output should be 5.\n",
        "#note: S is the valid coins  50 paise, one, two, five, ten, and twenty rupees for example : In India S ={ 0.5,1,2,5,10,20 }\n",
        "\n"
      ],
      "metadata": {
        "id": "aWSJHIF0RixY"
      },
      "execution_count": null,
      "outputs": []
    },
    {
      "cell_type": "code",
      "source": [
        "# Solution\n",
        "\n",
        "def count_ways_to_make_change(coins, n):\n",
        "    # Initialize a table to store the number of ways for each value from 0 to n\n",
        "    dp = [0] * (n + 1)\n",
        "\n",
        "    # There is one way to make change for amount 0 (no coins)\n",
        "    dp[0] = 1\n",
        "\n",
        "    # Iterate through each coin in the set\n",
        "    for coin in coins:\n",
        "        # Update the table based on the current coin\n",
        "        for i in range(coin, n + 1):\n",
        "            dp[i] += dp[i - coin]\n",
        "\n",
        "    return dp[n]\n",
        "\n",
        "# Test cases\n",
        "coins1 = [1, 2, 3]\n",
        "n1 = 4\n",
        "\n",
        "coins2 = [2, 5, 3, 6]\n",
        "n2 = 10\n",
        "\n",
        "output1 = count_ways_to_make_change(coins1, n1)\n",
        "output2 = count_ways_to_make_change(coins2, n2)\n",
        "\n",
        "print(f\"Coins: {coins1}, Amount: {n1}, Ways to make change: {output1}\")\n",
        "print(f\"Coins: {coins2}, Amount: {n2}, Ways to make change: {output2}\")\n"
      ],
      "metadata": {
        "colab": {
          "base_uri": "https://localhost:8080/"
        },
        "id": "BH1pKouBjkfo",
        "outputId": "540a28f7-79f9-4a30-afb9-16ab63e0dc2b"
      },
      "execution_count": null,
      "outputs": [
        {
          "output_type": "stream",
          "name": "stdout",
          "text": [
            "Coins: [1, 2, 3], Amount: 4, Ways to make change: 4\n",
            "Coins: [2, 5, 3, 6], Amount: 10, Ways to make change: 5\n"
          ]
        }
      ]
    },
    {
      "cell_type": "code",
      "source": [
        "# 13. Python Program for Find largest prime factor of a number\n",
        "# Input: 6\n",
        "# Output: 3\n",
        "# Explanation\n",
        "# Prime factor of 6 are - 2, 3\n",
        "# Largest of them is 3\n",
        "\n",
        "# Input: 15\n",
        "# Output: 5\n",
        " # Note: Input will be  > 2\n",
        "def largest_prime(num):\n",
        "  return max([e for e in range(2,num) if num%e==0])\n",
        "print(largest_prime(int(input())))"
      ],
      "metadata": {
        "id": "bogX81uBTxwd",
        "outputId": "fc724a3a-2f0f-4be1-e41a-66e426813119",
        "colab": {
          "base_uri": "https://localhost:8080/"
        }
      },
      "execution_count": null,
      "outputs": [
        {
          "output_type": "stream",
          "name": "stdout",
          "text": [
            "9\n",
            "3\n"
          ]
        }
      ]
    },
    {
      "cell_type": "code",
      "source": [],
      "metadata": {
        "id": "nV5tyfF9fgcn"
      },
      "execution_count": null,
      "outputs": []
    },
    {
      "cell_type": "code",
      "source": [
        "def max_prime_factors(n):\n",
        "    factors = []\n",
        "\n",
        "    for i in range(2,n):\n",
        "      if n%i == 0:\n",
        "        factors.append(i)\n",
        "\n",
        "    return max(factors)\n",
        "\n",
        "# Test case\n",
        "num = 6\n",
        "result = max_prime_factors(num)\n",
        "\n",
        "print(f\"Input: {num}, Largest Prime Factor: {result}\")\n"
      ],
      "metadata": {
        "colab": {
          "base_uri": "https://localhost:8080/"
        },
        "id": "xUiRhr7ckazv",
        "outputId": "d2a3f137-12d9-44a7-cffe-189267416182"
      },
      "execution_count": null,
      "outputs": [
        {
          "output_type": "stream",
          "name": "stdout",
          "text": [
            "Input: 6, Largest Prime Factor: 3\n"
          ]
        }
      ]
    },
    {
      "cell_type": "code",
      "source": [
        "# 14. Given two matrices X and Y, the task is to compute the sum of two matrices and then print it in Python.\n",
        "\n",
        "# Input :\n",
        "#  X= [[1,2,3],\n",
        "#     [4 ,5,6],\n",
        "#     [7 ,8,9]]\n",
        "\n",
        "# Y = [[9,8,7],\n",
        "#     [6,5,4],\n",
        "#     [3,2,1]]\n",
        "\n",
        "# Output :\n",
        "#  result= [[10,10,10],\n",
        "#          [10,10,10],\n",
        "#          [10,10,10]]\n"
      ],
      "metadata": {
        "id": "XOvEQKn_Vryh"
      },
      "execution_count": null,
      "outputs": []
    },
    {
      "cell_type": "code",
      "source": [
        "# Solution -\n",
        "def add_matrices(X, Y):\n",
        "    # Check if the matrices have the same dimensions\n",
        "    if len(X) != len(Y) or len(X[0]) != len(Y[0]):\n",
        "        print(\"Matrices have different dimensions. Unable to add.\")\n",
        "        return None\n",
        "\n",
        "    # Initialize an empty matrix for the result\n",
        "    result = [[0 for _ in range(len(X[0]))] for _ in range(len(X))]\n",
        "\n",
        "    # Perform matrix addition\n",
        "    for i in range(len(X)):\n",
        "        for j in range(len(X[0])):\n",
        "            result[i][j] = X[i][j] + Y[i][j]\n",
        "\n",
        "    return result\n",
        "\n",
        "# Test case\n",
        "X = [[1, 2, 3],\n",
        "     [4, 5, 6],\n",
        "     [7, 8, 9]]\n",
        "\n",
        "Y = [[9, 8, 7],\n",
        "     [6, 5, 4],\n",
        "     [3, 2, 1]]\n",
        "\n",
        "result = add_matrices(X, Y)\n",
        "\n",
        "if result is not None:\n",
        "    print(\"Matrix X:\")\n",
        "    for row in X:\n",
        "        print(row)\n",
        "\n",
        "    print(\"\\nMatrix Y:\")\n",
        "    for row in Y:\n",
        "        print(row)\n",
        "\n",
        "    print(\"\\nMatrix Sum:\")\n",
        "    for row in result:\n",
        "        print(row)\n"
      ],
      "metadata": {
        "colab": {
          "base_uri": "https://localhost:8080/"
        },
        "id": "pwlolXEKlcMl",
        "outputId": "eeaae41e-28c4-4dc4-8242-c92baf17607a"
      },
      "execution_count": null,
      "outputs": [
        {
          "output_type": "stream",
          "name": "stdout",
          "text": [
            "Matrix X:\n",
            "[1, 2, 3]\n",
            "[4, 5, 6]\n",
            "[7, 8, 9]\n",
            "\n",
            "Matrix Y:\n",
            "[9, 8, 7]\n",
            "[6, 5, 4]\n",
            "[3, 2, 1]\n",
            "\n",
            "Matrix Sum:\n",
            "[10, 10, 10]\n",
            "[10, 10, 10]\n",
            "[10, 10, 10]\n"
          ]
        }
      ]
    },
    {
      "cell_type": "code",
      "source": [
        "# 15.  Python program to check whether the string is Symmetrical or Palindrome\n",
        "# Input: khokho\n",
        "\n",
        "# Output:\n",
        "# The entered string is symmetrical\n",
        "# The entered string is not palindrome\n",
        "\n",
        "# Input:amaama\n",
        "# Output:\n",
        "# The entered string is symmetrical\n",
        "# The entered string is palindrome"
      ],
      "metadata": {
        "id": "uyQXb3-aVw05"
      },
      "execution_count": null,
      "outputs": []
    },
    {
      "cell_type": "code",
      "source": [
        "input_str = input()\n",
        "\n",
        "if input_str[:len(input_str)//2] == input_str[len(input_str)//2:]:\n",
        "  print('The entered string is symmetrical')\n",
        "else:\n",
        "  print('The entered string is not symmetrical')\n",
        "if input_str == input_str[::-1]:\n",
        "  print('The entered string is palindrome')\n",
        "else:\n",
        "  print('The entered string is not palindrome')\n"
      ],
      "metadata": {
        "colab": {
          "base_uri": "https://localhost:8080/"
        },
        "id": "k90LEsf8mxHh",
        "outputId": "63ecce7a-ced9-44d2-8ad9-230f61159b74"
      },
      "execution_count": null,
      "outputs": [
        {
          "output_type": "stream",
          "name": "stdout",
          "text": [
            "1144\n",
            "The entered string is not symmetrical\n",
            "The entered string is not palindrome\n"
          ]
        }
      ]
    },
    {
      "cell_type": "code",
      "source": [],
      "metadata": {
        "id": "E7hqq73KmnZI"
      },
      "execution_count": null,
      "outputs": []
    },
    {
      "cell_type": "code",
      "source": [
        "# solution\n",
        "def is_symmetrical(input_str):\n",
        "    # Check if the string is symmetrical\n",
        "    n = len(input_str)\n",
        "    if input_str[:n//2] == input_str[n//2:]:\n",
        "            return True\n",
        "    return False\n",
        "\n",
        "def is_palindrome(input_str):\n",
        "    # Check if the string is a palindrome\n",
        "    if input_str == input_str[::-1]:\n",
        "        return True\n",
        "    return False\n",
        "\n",
        "# Test cases\n",
        "str1 = \"khokho\"\n",
        "str2 = \"amaama\"\n",
        "\n",
        "print(\"Input:\", str1)\n",
        "if is_symmetrical(str1):\n",
        "    print(\"The entered string is symmetrical\")\n",
        "else:\n",
        "    print(\"The entered string is not symmetrical\")\n",
        "if is_palindrome(str1):\n",
        "    print(\"The entered string is palindrome\\n\")\n",
        "else:\n",
        "    print(\"The entered string is not palindrome\\n\")\n",
        "\n",
        "print(\"Input:\", str2)\n",
        "if is_symmetrical(str2):\n",
        "    print(\"The entered string is symmetrical\")\n",
        "else:\n",
        "    print(\"The entered string is not symmetrical\")\n",
        "if is_palindrome(str2):\n",
        "    print(\"The entered string is palindrome\")\n",
        "else:\n",
        "    print(\"The entered string is not palindrome\")\n"
      ],
      "metadata": {
        "colab": {
          "base_uri": "https://localhost:8080/"
        },
        "id": "B60svXRRltQi",
        "outputId": "3573ece5-9351-4108-9569-e65fd9083bda"
      },
      "execution_count": null,
      "outputs": [
        {
          "output_type": "stream",
          "name": "stdout",
          "text": [
            "Input: khokho\n",
            "The entered string is symmetrical\n",
            "The entered string is not palindrome\n",
            "\n",
            "Input: amaama\n",
            "The entered string is symmetrical\n",
            "The entered string is palindrome\n"
          ]
        }
      ]
    },
    {
      "cell_type": "code",
      "source": [
        "# 16. Question:\n",
        "# Write a program that calculates and prints the value according to the given formula:\n",
        "# Q = Square root of [(2 * C * D)/H]\n",
        "# Following are the fixed values of C and H:\n",
        "# C is 50. H is 30.\n",
        "# D is the variable whose values should be input to your program in a comma-separated sequence.\n",
        "# Example\n",
        "# Let us assume the following comma separated input sequence is given to the program:\n",
        "# 100,150,180\n",
        "# The output of the program should be:\n",
        "# 18,22,24\n",
        "\n",
        "# Hints:\n",
        "# If the output received is in decimal form,\n",
        "# it should be rounded off to its nearest value (for example, if the output received is 26.0, it should be printed as 26)\n",
        "# In case of input data being supplied to the question, it should be assumed to be a console input."
      ],
      "metadata": {
        "id": "_SCzGAihWBRg"
      },
      "execution_count": null,
      "outputs": []
    },
    {
      "cell_type": "code",
      "source": [
        "inp = list(map(int, input().split(',')))\n",
        "results = [int(((2*50*i)/30)**0.5) for i in inp]\n",
        "print(','.join(map(str, results)))"
      ],
      "metadata": {
        "id": "aeaIpKxXjGcN",
        "outputId": "e18351cb-8e7b-4f8c-94f7-1b0e09d1fccb",
        "colab": {
          "base_uri": "https://localhost:8080/"
        }
      },
      "execution_count": null,
      "outputs": [
        {
          "output_type": "stream",
          "name": "stdout",
          "text": [
            "100,150,180\n",
            "18,22,24\n"
          ]
        }
      ]
    },
    {
      "cell_type": "code",
      "source": [
        "# Solution\n",
        "\n",
        "\n",
        "def calculate_values(input_sequence, C=50, H=30):\n",
        "    # Split the input sequence into a list of integers\n",
        "    values = [int(val) for val in input_sequence.split(',')]\n",
        "\n",
        "    # Calculate the values using the formula\n",
        "    result = [int(((2 * C * D) / H) ** 0.5) for D in values]\n",
        "\n",
        "    return result\n",
        "\n",
        "# Example input sequence\n",
        "input_sequence = \"100,150,180\"\n",
        "\n",
        "# Calculate and print the values\n",
        "output_result = calculate_values(input_sequence)\n",
        "print(','.join(map(str, output_result)))\n"
      ],
      "metadata": {
        "colab": {
          "base_uri": "https://localhost:8080/"
        },
        "id": "EXL4NI-JnCXc",
        "outputId": "f322345e-2917-4a81-b238-1a91052ff1fe"
      },
      "execution_count": null,
      "outputs": [
        {
          "output_type": "stream",
          "name": "stdout",
          "text": [
            "18,22,24\n"
          ]
        }
      ]
    },
    {
      "cell_type": "code",
      "source": [
        "# 17. Write a program that accepts a comma separated sequence of words as input and prints the words in a comma-separated sequence after sorting them alphabetically.\n",
        "# Suppose the following input is supplied to the program:\n",
        "# without,hello,bag,world\n",
        "# Then, the output should be:\n",
        "# bag,hello,without,world\n",
        "\n",
        "# Hints:\n",
        "# In case of input data being supplied to the question, it should be assumed to be a console input. Try.sort()\n",
        "\n"
      ],
      "metadata": {
        "id": "bEjvcFdnYMc2"
      },
      "execution_count": null,
      "outputs": []
    },
    {
      "cell_type": "code",
      "source": [
        "lis = input().split(',')\n",
        "lis.sort()\n",
        "print(','.join(lis))"
      ],
      "metadata": {
        "id": "A_RTuw_P3Q-S",
        "outputId": "9e575eae-58da-4e0a-b8cc-9938cac676f1",
        "colab": {
          "base_uri": "https://localhost:8080/"
        }
      },
      "execution_count": null,
      "outputs": [
        {
          "output_type": "stream",
          "name": "stdout",
          "text": [
            "without,hello,bag,world\n",
            "bag,hello,without,world\n"
          ]
        }
      ]
    },
    {
      "cell_type": "code",
      "source": [
        "\n",
        "\n",
        "\n",
        "\n",
        "\n",
        "\n",
        "\n",
        "\n",
        "\n",
        "\n",
        "\n",
        "\n",
        "\n",
        "\n",
        "\n",
        "\n",
        "\n",
        "\n",
        "\n",
        "\n",
        "\n",
        "\n",
        "\n",
        "\n",
        "\n",
        "\n",
        "\n",
        "\n"
      ],
      "metadata": {
        "id": "Mjjv8kCRl32j"
      },
      "execution_count": null,
      "outputs": []
    },
    {
      "cell_type": "code",
      "source": [
        "# Solution\n",
        "def sort_words(input_sequence):\n",
        "    # Split the input sequence into a list of words\n",
        "    words = input_sequence.split(',')\n",
        "\n",
        "    # Sort the words alphabetically\n",
        "    sorted_words = sorted(words)\n",
        "\n",
        "    # Join the sorted words into a comma-separated string\n",
        "    result = ','.join(sorted_words)\n",
        "\n",
        "    return result\n",
        "\n",
        "# Example input sequence\n",
        "input_sequence = \"without,hello,bag,world\"\n",
        "\n",
        "# Sort and print the words\n",
        "output_result = sort_words(input_sequence)\n",
        "print(output_result)\n"
      ],
      "metadata": {
        "colab": {
          "base_uri": "https://localhost:8080/"
        },
        "id": "Hi7AuFDlngCJ",
        "outputId": "4c376fbe-6fbd-4049-fde9-93a7eee2fa7b"
      },
      "execution_count": null,
      "outputs": [
        {
          "output_type": "stream",
          "name": "stdout",
          "text": [
            "bag,hello,without,world\n"
          ]
        }
      ]
    },
    {
      "cell_type": "code",
      "source": [
        "# 18. Write a program which accepts a sequence of comma separated 4 digit binary numbers as its input\n",
        "# and then check whether they are divisible by 5 or not. The numbers that are divisible by 5 are to be printed in a comma separated sequence.\n",
        "# Example:\n",
        "# Input : 0100,0011,1010,1001\n",
        "# Then the output should be:\n",
        "# 1010"
      ],
      "metadata": {
        "id": "_JE_ljStYa4V"
      },
      "execution_count": null,
      "outputs": []
    },
    {
      "cell_type": "code",
      "source": [
        "binary = input().split(',')\n",
        "new_lis = []\n",
        "for i in binary:\n",
        "  if int(i,2)%5==0:\n",
        "    new_lis.append(i)\n",
        "print(','.join(new_lis))"
      ],
      "metadata": {
        "id": "OsvTw75L33Go",
        "outputId": "c4fbd683-cfc3-4ea4-d04f-ba421ad46d1c",
        "colab": {
          "base_uri": "https://localhost:8080/"
        }
      },
      "execution_count": null,
      "outputs": [
        {
          "output_type": "stream",
          "name": "stdout",
          "text": [
            "0100,0011,1010,1001\n",
            "1010\n"
          ]
        }
      ]
    },
    {
      "cell_type": "code",
      "source": [],
      "metadata": {
        "id": "boKnO2NL33PR"
      },
      "execution_count": null,
      "outputs": []
    },
    {
      "cell_type": "code",
      "source": [
        "# Solution\n",
        "def divisible_by_5(input_sequence):\n",
        "    # Split the input sequence into a list of binary numbers\n",
        "    binary_numbers = input_sequence.split(',')\n",
        "\n",
        "    # Filter the binary numbers that are divisible by 5\n",
        "    divisible_numbers = [binary for binary in binary_numbers if int(binary, 2) % 5 == 0]\n",
        "\n",
        "    # Join the divisible numbers into a comma-separated string\n",
        "    result = ','.join(divisible_numbers)\n",
        "\n",
        "    return result\n",
        "\n",
        "# Example input sequence\n",
        "input_sequence = \"0100,0011,1010,1001\"\n",
        "\n",
        "# Check and print the divisible numbers\n",
        "output_result = divisible_by_5(input_sequence)\n",
        "print(output_result)\n"
      ],
      "metadata": {
        "colab": {
          "base_uri": "https://localhost:8080/"
        },
        "id": "rhFwDFNSnoYw",
        "outputId": "944943bc-d9d6-4bdf-b7a5-5f30d547fe1f"
      },
      "execution_count": null,
      "outputs": [
        {
          "output_type": "stream",
          "name": "stdout",
          "text": [
            "1010\n"
          ]
        }
      ]
    },
    {
      "cell_type": "code",
      "source": [
        "# 19. Write a program, which will find all such numbers between 1000 and 3000 (both included) such that each digit of the number is an even number.\n",
        "# The numbers obtained should be printed in a comma-separated sequence on a single line.\n"
      ],
      "metadata": {
        "id": "IQeK1nruZA7-"
      },
      "execution_count": null,
      "outputs": []
    },
    {
      "cell_type": "code",
      "source": [
        "def is_even_digit(num):\n",
        "  return all(int(e)%2==0 for e in str(num))\n",
        "result = [e for e in range(1000,3001) if is_even_digit(e)]\n",
        "print(result)\n",
        "\n",
        "\n",
        "\n",
        "\n",
        "\n",
        "\n",
        "\n",
        "\n",
        "\n",
        "\n",
        "\n",
        "\n",
        "\n",
        "\n",
        "\n"
      ],
      "metadata": {
        "id": "PwJ2O12b4fN-",
        "outputId": "8fd442d1-a5b5-41c1-d4cc-c8e434d019e4",
        "colab": {
          "base_uri": "https://localhost:8080/"
        }
      },
      "execution_count": null,
      "outputs": [
        {
          "output_type": "stream",
          "name": "stdout",
          "text": [
            "[2000, 2002, 2004, 2006, 2008, 2020, 2022, 2024, 2026, 2028, 2040, 2042, 2044, 2046, 2048, 2060, 2062, 2064, 2066, 2068, 2080, 2082, 2084, 2086, 2088, 2200, 2202, 2204, 2206, 2208, 2220, 2222, 2224, 2226, 2228, 2240, 2242, 2244, 2246, 2248, 2260, 2262, 2264, 2266, 2268, 2280, 2282, 2284, 2286, 2288, 2400, 2402, 2404, 2406, 2408, 2420, 2422, 2424, 2426, 2428, 2440, 2442, 2444, 2446, 2448, 2460, 2462, 2464, 2466, 2468, 2480, 2482, 2484, 2486, 2488, 2600, 2602, 2604, 2606, 2608, 2620, 2622, 2624, 2626, 2628, 2640, 2642, 2644, 2646, 2648, 2660, 2662, 2664, 2666, 2668, 2680, 2682, 2684, 2686, 2688, 2800, 2802, 2804, 2806, 2808, 2820, 2822, 2824, 2826, 2828, 2840, 2842, 2844, 2846, 2848, 2860, 2862, 2864, 2866, 2868, 2880, 2882, 2884, 2886, 2888]\n"
          ]
        }
      ]
    },
    {
      "cell_type": "code",
      "source": [
        "# Solution: Here all function is used, it can be solved without using all function as well. Try it.!\n",
        "def are_all_digits_even(number):\n",
        "    return all(int(digit) % 2 == 0 for digit in str(number))\n",
        "\n",
        "def find_even_digit_numbers(start, end):\n",
        "    even_digit_numbers = [str(num) for num in range(start, end + 1) if are_all_digits_even(num)]\n",
        "    return ','.join(even_digit_numbers)\n",
        "\n",
        "# Find and print even digit numbers between 1000 and 3000\n",
        "result = find_even_digit_numbers(1000, 3000)\n",
        "print(result)\n"
      ],
      "metadata": {
        "id": "xZiiN9ydnzWW"
      },
      "execution_count": null,
      "outputs": []
    },
    {
      "cell_type": "code",
      "source": [
        "# 20. Write a program that accepts a sentence and calculate the number of letters and digits.\n",
        "# Suppose the following input is supplied to the program:\n",
        "# hello world! 123\n",
        "# Then, the output should be:\n",
        "# LETTERS 10\n",
        "# DIGITS 3\n",
        "# Hint : checkout : .isdigit() and .isalpha() method\n",
        "\n"
      ],
      "metadata": {
        "id": "cnBRgeMZZKqo"
      },
      "execution_count": null,
      "outputs": []
    },
    {
      "cell_type": "code",
      "source": [
        "# Solution\n",
        "def calculate_letters_digits(sentence):\n",
        "    # Initialize counters\n",
        "    num_letters = 0\n",
        "    num_digits = 0\n",
        "\n",
        "    # Iterate through each character in the sentence\n",
        "    for char in sentence:\n",
        "        if char.isalpha():\n",
        "            num_letters += 1\n",
        "        elif char.isdigit():\n",
        "            num_digits += 1\n",
        "\n",
        "    return num_letters, num_digits\n",
        "\n",
        "# Example input sentence\n",
        "input_sentence = \"hello world! 123\"\n",
        "\n",
        "# Calculate and print the number of letters and digits\n",
        "letters, digits = calculate_letters_digits(input_sentence)\n",
        "print(\"LETTERS\", letters)\n",
        "print(\"DIGITS\", digits)\n"
      ],
      "metadata": {
        "id": "YrBTwMJnol1j"
      },
      "execution_count": null,
      "outputs": []
    },
    {
      "cell_type": "code",
      "source": [
        "# 21. Write a program that accepts a sentence and calculate the number of upper case letters and lower case letters.\n",
        "# Suppose the following input is supplied to the program:\n",
        "# Hello world!\n",
        "# Then, the output should be:\n",
        "# UPPER CASE 1\n",
        "# LOWER CASE 9\n",
        "\n",
        "# Hint : Checkout : .isupper() and .islower() method\n",
        "\n"
      ],
      "metadata": {
        "id": "Pp0PaQblZdy4"
      },
      "execution_count": null,
      "outputs": []
    },
    {
      "cell_type": "code",
      "source": [
        "# Solution\n",
        "def calculate_upper_lower(sentence):\n",
        "    # Initialize counters\n",
        "    num_upper = 0\n",
        "    num_lower = 0\n",
        "\n",
        "    # Iterate through each character in the sentence\n",
        "    for char in sentence:\n",
        "        if char.isupper():\n",
        "            num_upper += 1\n",
        "        elif char.islower():\n",
        "            num_lower += 1\n",
        "\n",
        "    return num_upper, num_lower\n",
        "\n",
        "# Example input sentence\n",
        "input_sentence = \"Hello world!\"\n",
        "\n",
        "# Calculate and print the number of uppercase and lowercase letters\n",
        "upper, lower = calculate_upper_lower(input_sentence)\n",
        "print(\"UPPER CASE\", upper)\n",
        "print(\"LOWER CASE\", lower)\n"
      ],
      "metadata": {
        "colab": {
          "base_uri": "https://localhost:8080/"
        },
        "id": "OWBW7gOVoofm",
        "outputId": "8f12054d-3297-488b-ea9f-81f28ccc00d5"
      },
      "execution_count": null,
      "outputs": [
        {
          "output_type": "stream",
          "name": "stdout",
          "text": [
            "UPPER CASE 1\n",
            "LOWER CASE 9\n"
          ]
        }
      ]
    },
    {
      "cell_type": "code",
      "source": [
        "# 22. Write a program that computes the value of a+aa+aaa+aaaa (based on depth) with a given digit as the value of a.\n",
        "# Suppose the following input is supplied to the program:\n",
        "# depth = 4 and value of a = 9\n",
        "# Then, the output should be:\n",
        "# 11106\n",
        "\n",
        "depth = int(input())\n",
        "value = input()\n",
        "lis = [int(value*i) for i in range(1,depth+1)]\n",
        "print(sum(lis))\n",
        "\n",
        "\n",
        "\n",
        "\n",
        "\n",
        "\n",
        "\n",
        "\n",
        "\n",
        "\n"
      ],
      "metadata": {
        "id": "NziH-d6tZrCw",
        "outputId": "49b00c15-047f-4f54-bed3-670e5af79c96",
        "colab": {
          "base_uri": "https://localhost:8080/"
        }
      },
      "execution_count": null,
      "outputs": [
        {
          "output_type": "stream",
          "name": "stdout",
          "text": [
            "4\n",
            "9\n",
            "11106\n"
          ]
        }
      ]
    },
    {
      "cell_type": "code",
      "source": [
        "def compute_value(depth, a):\n",
        "    result = 0\n",
        "    current_term = 0\n",
        "\n",
        "    for i in range(1, depth + 1):\n",
        "        current_term = current_term * 10 + a\n",
        "        result += current_term\n",
        "\n",
        "    return result\n",
        "\n",
        "# Example input\n",
        "depth = 4\n",
        "a_value = 9\n",
        "\n",
        "# Compute and print the result\n",
        "output_result = compute_value(depth, a_value)\n",
        "print(output_result)\n"
      ],
      "metadata": {
        "colab": {
          "base_uri": "https://localhost:8080/"
        },
        "id": "o1Gp-vFyo_X6",
        "outputId": "69eff62e-cb42-4425-99f4-a991ff1e5d64"
      },
      "execution_count": null,
      "outputs": [
        {
          "output_type": "stream",
          "name": "stdout",
          "text": [
            "11106\n"
          ]
        }
      ]
    },
    {
      "cell_type": "code",
      "source": [
        "# 23. A robot moves in a plane starting from the original point (0,0). The robot can move toward UP, DOWN, LEFT and RIGHT with a given steps. The trace of robot movement is shown as the following:\n",
        "# UP 5\n",
        "# DOWN 3\n",
        "# LEFT 3\n",
        "# RIGHT 2\n",
        "#\n",
        "# The numbers after the direction are steps. Please write a program to compute the distance from current position after a sequence of movement and original point. If the distance is a float, then just print the nearest integer.\n",
        "# Example:\n",
        "# If the following tuples are given as input to the program:\n",
        "# ((UP,5),(DOWN,3),(LEFT,3),(RIGHT,2))\n",
        "# Then, the output of the program should be:\n",
        "# 2\n",
        "\n",
        "\n"
      ],
      "metadata": {
        "id": "g1KF1HtKaO-g"
      },
      "execution_count": null,
      "outputs": []
    },
    {
      "cell_type": "code",
      "source": [
        "# Solution\n",
        "import math\n",
        "\n",
        "def calculate_distance(movements):\n",
        "    x, y = 0, 0\n",
        "\n",
        "    for direction, steps in movements:\n",
        "        if direction == \"UP\":\n",
        "            y += steps\n",
        "        elif direction == \"DOWN\":\n",
        "            y -= steps\n",
        "        elif direction == \"LEFT\":\n",
        "            x -= steps\n",
        "        elif direction == \"RIGHT\":\n",
        "            x += steps\n",
        "\n",
        "    distance = math.sqrt(x**2 + y**2)\n",
        "    return round(distance)\n",
        "\n",
        "# Example input\n",
        "movements = [(\"UP\", 5), (\"DOWN\", 3), (\"LEFT\", 3), (\"RIGHT\", 2)]\n",
        "\n",
        "# Calculate and print the distance\n",
        "output_result = calculate_distance(movements)\n",
        "print(output_result)\n"
      ],
      "metadata": {
        "id": "Zi16uibSpMi3"
      },
      "execution_count": null,
      "outputs": []
    },
    {
      "cell_type": "code",
      "source": [
        "# 24. Assuming that we have some email addresses in the \"username@companyname.com\" format, please write program to print the company name of a given email address. Both user names and company names are composed of letters only.\n",
        "\n",
        "# Example:\n",
        "# If the following email address is given as input to the program:\n",
        "\n",
        "# john@google.com\n",
        "\n",
        "# Then, the output of the program should be:\n",
        "\n",
        "# google"
      ],
      "metadata": {
        "id": "fzbQCUpUavEg"
      },
      "execution_count": null,
      "outputs": []
    },
    {
      "cell_type": "code",
      "source": [
        "#Solution\n",
        "def extract_company_name(email):\n",
        "    # Split the email address at '@' to separate the username and domain\n",
        "    parts = email.split('@')\n",
        "\n",
        "    # Extract and print the company name\n",
        "    company_name = parts[1].split('.')[0]\n",
        "    print(company_name)\n",
        "\n",
        "# Example input\n",
        "email_address = \"john@google.com\"\n",
        "\n",
        "# Extract and print the company name\n",
        "extract_company_name(email_address)\n"
      ],
      "metadata": {
        "colab": {
          "base_uri": "https://localhost:8080/"
        },
        "id": "IpZycPIZpOpx",
        "outputId": "5901a1b1-87f8-41af-d256-7e1071313fef"
      },
      "execution_count": null,
      "outputs": [
        {
          "output_type": "stream",
          "name": "stdout",
          "text": [
            "google\n"
          ]
        }
      ]
    },
    {
      "cell_type": "code",
      "source": [
        "# 25. Write a Python program to\n",
        "# find the sum of heights of the top three buildings in descending order from n given buildings.\n",
        "# Input:\n",
        "# n = 8\n",
        "# Input the heights of eight buildings:\n",
        "# 25\n",
        "# 35\n",
        "# 15\n",
        "# 16\n",
        "# 30\n",
        "# 45\n",
        "# 37\n",
        "# 39\n",
        "# output : 121\n",
        "n = int(input())\n",
        "height = [int(input()) for _ in range(n)]\n",
        "def top_three_total(height):\n",
        "  height.sort(reverse=True)\n",
        "  return sum(height[:3])\n",
        "print(top_three_total(height))"
      ],
      "metadata": {
        "id": "fhagmc4Pb20_",
        "outputId": "ea8637b4-677d-416c-eb93-b534d8626d17",
        "colab": {
          "base_uri": "https://localhost:8080/"
        }
      },
      "execution_count": null,
      "outputs": [
        {
          "output_type": "stream",
          "name": "stdout",
          "text": [
            "8\n",
            "25\n",
            "35\n",
            "15\n",
            "16\n",
            "30\n",
            "45\n",
            "37\n",
            "39\n",
            "121\n"
          ]
        }
      ]
    },
    {
      "cell_type": "code",
      "source": [
        "# Solution\n",
        "def sum_of_top_three_buildings(heights):\n",
        "    # Sort the heights in descending order\n",
        "    sorted_heights = sorted(heights, reverse=True)\n",
        "\n",
        "    # Take the top three heights\n",
        "    top_three = sorted_heights[:3]\n",
        "\n",
        "    # Calculate and return the sum\n",
        "    return sum(top_three)\n",
        "\n",
        "# Example input\n",
        "n = 8\n",
        "heights = []\n",
        "\n",
        "# Input heights of buildings\n",
        "print(\"Input the heights of eight buildings:\")\n",
        "for i in range(n):\n",
        "    height = int(input('Enter the height of building: '))\n",
        "    heights.append(height)\n",
        "\n",
        "# Calculate and print the sum of heights of the top three buildings\n",
        "output_result = sum_of_top_three_buildings(heights)\n",
        "print(output_result)\n"
      ],
      "metadata": {
        "id": "vQOnZswPplcY"
      },
      "execution_count": null,
      "outputs": []
    },
    {
      "cell_type": "code",
      "source": [
        "# 26. Write a Python program to check whether three given lengths (integers) of three sides form a right triangle. Print \"Yes\" if the given sides form a right triangle otherwise print \"No\".\n",
        "# Input:\n",
        "# Integers separated by a single space.\n",
        "# Input three integers(sides of a triangle)\n",
        "# 8 6 7\n",
        "# No"
      ],
      "metadata": {
        "id": "6dWxR0ULdmF1"
      },
      "execution_count": null,
      "outputs": []
    },
    {
      "cell_type": "code",
      "source": [
        "# Solution\n",
        "def is_right_triangle(a, b, c):\n",
        "    # Sort the sides in ascending order\n",
        "    sides = sorted([a, b, c])\n",
        "\n",
        "    # Check the Pythagorean theorem to determine if it's a right triangle\n",
        "    if sides[0]**2 + sides[1]**2 == sides[2]**2:\n",
        "        return \"Yes\"\n",
        "    else:\n",
        "        return \"No\"\n",
        "\n",
        "# Example input\n",
        "input_sides = input(\"Input three integers (sides of a triangle) separated by a single space: \")\n",
        "side_list = [int(side) for side in input_sides.split()]\n",
        "\n",
        "# Check and print whether it's a right triangle or not\n",
        "result = is_right_triangle(*side_list)\n",
        "print(result)\n",
        "\n"
      ],
      "metadata": {
        "colab": {
          "base_uri": "https://localhost:8080/"
        },
        "id": "RpBFBdFXp1La",
        "outputId": "24a548b7-2463-4479-b00e-623f527160ad"
      },
      "execution_count": null,
      "outputs": [
        {
          "output_type": "stream",
          "name": "stdout",
          "text": [
            "Input three integers (sides of a triangle) separated by a single space: 3 4 5\n",
            "Yes\n"
          ]
        }
      ]
    },
    {
      "cell_type": "code",
      "source": [
        "# 27. There are two circles C1 with radius r1, central coordinate (x1, y1) and C2 with radius r2 and central coordinate (x2, y2).\n",
        "\n",
        "# Write a Python program to test the followings -\n",
        "\n",
        "# \"C2 is in C1\" if C2 is in C1\n",
        "# \"C1 is in C2\" if C1 is in C2\n",
        "# \"Circumference of C1 and C2 intersect\" if circumference of C1 and C2 intersect\n",
        "# \"C1 and C2 do not overlap\" if C1 and C2 do not overlap and\n",
        "# \"Circumference of C1 and C2 will touch\" if C1 and C2 touch\n",
        "\n",
        "# Hint :\n",
        "# Let the distance between the two centers be  𝑑\n",
        "#  , and the radiuses be  𝑟1,𝑟2\n",
        "#   with  𝑟1≤𝑟2\n",
        "\n",
        "# If you have  𝑑<𝑟2−𝑟1\n",
        "#  , then they don’t touch, and the smaller circle is inside the larger circle.\n",
        "\n",
        "# If you have  𝑑=𝑟2−𝑟1\n",
        "#  , then they touch at one point internally.\n",
        "\n",
        "# If you have  𝑟2−𝑟1<𝑑<𝑟2+𝑟1\n",
        "#  , then they touch at two points.\n",
        "\n",
        "# If you have  𝑑=𝑟2+𝑟1\n",
        "#  , then they touch at one point externally.\n",
        "\n",
        "# If you have  𝑑>𝑟2+𝑟1\n",
        "#  , then they don’t touch, and neither is inside the other.\n",
        "\n",
        "# If you know that it is either touching internally or externally — that is, by the chart above, that  𝑑=𝑟2−𝑟1\n",
        "#   or  𝑑=𝑟2+𝑟1\n",
        "#  , then you can simplify things.\n",
        "\n",
        "# If you have  𝑑2>𝑟22,\n",
        "#   then they touch externally.\n",
        "\n",
        "# If you have  𝑑2<𝑟22\n",
        "#  , then they touch internally.\n",
        "\n",
        "# Computing  𝑑 = sqaure root of ((𝑥2−𝑥1)^2+(𝑦2−𝑦1)^2)\n",
        "#   involves a square root calculation, which is why I used  𝑑2\n",
        "#   for the “simplified” version."
      ],
      "metadata": {
        "id": "-r2nUA0vfZ17"
      },
      "execution_count": null,
      "outputs": []
    },
    {
      "cell_type": "code",
      "source": [
        "# Solution\n",
        "\n",
        "\n",
        "def circle_relationship(x1, y1, r1, x2, y2, r2):\n",
        "    # Calculate the distance between the two centers\n",
        "    d = ((x2 - x1)**2 + (y2 - y1)**2) ** (0.5)\n",
        "\n",
        "    # Check various conditions based on the distances and radii\n",
        "    if d < r2 - r1:\n",
        "        return \"C2 is in C1\"\n",
        "    elif d < r1 - r2:\n",
        "        return \"C1 is in C2\"\n",
        "    elif d == r2 - r1 or d == r1 + r2:\n",
        "        return \"Circumference of C1 and C2 touch\"\n",
        "    elif d > r1 + r2:\n",
        "        return \"C1 and C2 do not overlap\"\n",
        "    else:\n",
        "        return \"Circumference of C1 and C2 intersect\"\n",
        "\n",
        "# Example input\n",
        "x1, y1, r1 = map(float, input(\"Enter coordinates and radius of C1 (x y r): \").split())\n",
        "x2, y2, r2 = map(float, input(\"Enter coordinates and radius of C2 (x y r): \").split())\n",
        "\n",
        "# Check and print the relationship between the circles\n",
        "result = circle_relationship(x1, y1, r1, x2, y2, r2)\n",
        "print(result)\n"
      ],
      "metadata": {
        "id": "VzvqwprfqDxh"
      },
      "execution_count": null,
      "outputs": []
    },
    {
      "cell_type": "code",
      "source": [
        "# 28. Write a Python program that reads text (only alphabetical characters and spaces) and prints two words.\n",
        "# The first word is the one that appears most often in the text.\n",
        "# The second one is the word with the most letters.\n"
      ],
      "metadata": {
        "id": "g-4roiRqggJs"
      },
      "execution_count": null,
      "outputs": []
    },
    {
      "cell_type": "code",
      "source": [
        "def analyze_data(text):\n",
        "  dic = {i:text.split().count(i) for i in text}\n",
        "  return dic"
      ],
      "metadata": {
        "id": "mkLcAQ1AwpWL"
      },
      "execution_count": null,
      "outputs": []
    },
    {
      "cell_type": "code",
      "source": [],
      "metadata": {
        "id": "kv3jb0Q56iM_"
      },
      "execution_count": null,
      "outputs": []
    },
    {
      "cell_type": "code",
      "source": [
        "t = 'My name is pramod kolekar and kolekar is brand not only name this is what I want to tell'.split()\n",
        "dic= {i:t.count(i) for i in t}\n",
        "print(max(dic, key=lambda x:dic[x]))\n",
        "print(max(dic, key= len))"
      ],
      "metadata": {
        "id": "ntXsg7JW6pEb",
        "outputId": "f87e5050-4a52-4d9b-ba4b-d1b9a5be5049",
        "colab": {
          "base_uri": "https://localhost:8080/"
        }
      },
      "execution_count": null,
      "outputs": [
        {
          "output_type": "stream",
          "name": "stdout",
          "text": [
            "is\n",
            "kolekar\n"
          ]
        }
      ]
    },
    {
      "cell_type": "code",
      "source": [
        "print(analyze_data(''))"
      ],
      "metadata": {
        "id": "ekebPx1W6Jvk",
        "outputId": "60295fb1-a6f4-491a-e761-82495a86338b",
        "colab": {
          "base_uri": "https://localhost:8080/"
        }
      },
      "execution_count": null,
      "outputs": [
        {
          "output_type": "stream",
          "name": "stdout",
          "text": [
            "{'M': 0, 'y': 0, ' ': 0, 'n': 0, 'a': 0, 'm': 0, 'e': 0, 'i': 0, 's': 0, 'p': 0, 'r': 0, 'o': 0, 'd': 0, 'k': 0, 'l': 0, 'b': 0, 't': 0, 'h': 0, 'w': 0, 'I': 1}\n"
          ]
        }
      ]
    },
    {
      "cell_type": "code",
      "source": [
        "# Solution\n",
        "def analyze_text(text):\n",
        "    # Remove non-alphabetical characters and split the text into words\n",
        "    words = [word.strip() for word in text.split() if word.isalpha()]\n",
        "\n",
        "    # Count the occurrences of each word\n",
        "    word_counts = {}\n",
        "    for word in words:\n",
        "        if word in word_counts:\n",
        "            word_counts[word] += 1\n",
        "        else:\n",
        "            word_counts[word] = 1\n",
        "\n",
        "    # Find the word that appears most often\n",
        "    most_common_word = max(word_counts, key=word_counts.get)\n",
        "\n",
        "    # Find the word with the most letters\n",
        "    longest_word = max(words, key=len)\n",
        "\n",
        "    return most_common_word, longest_word\n",
        "\n",
        "# Example input\n",
        "input_text = input(\"Enter text (only alphabetical characters and spaces): \")\n",
        "\n",
        "# Analyze and print the result\n",
        "most_common, longest = analyze_text(input_text)\n",
        "print(\"Most common word:\", most_common)\n",
        "print(\"Longest word:\", longest)\n"
      ],
      "metadata": {
        "id": "cvKDZ4lXqXJo"
      },
      "execution_count": null,
      "outputs": []
    },
    {
      "cell_type": "code",
      "source": [
        "# 29. If you draw a straight line on a plane, the plane is divided into two regions.\n",
        "# For example, if you draw two straight lines in parallel, you get three areas, and if you draw vertically one to the other you get 4 areas.\n",
        "# Write a Python program to create the maximum number of regions obtained by drawing n given straight lines.\n",
        "# Input:\n",
        "# (1 <= n <= 10,000)\n",
        "# Input number of straight lines (o to exit):\n",
        "# 5\n",
        "# Number of regions:\n",
        "# 16\n",
        "# Hint : Formula to calculate number of regions  (n*n+n+2)//2"
      ],
      "metadata": {
        "id": "cTaSOmdLgy2l"
      },
      "execution_count": null,
      "outputs": []
    },
    {
      "cell_type": "code",
      "source": [
        "# Solution\n",
        "def calculate_regions(n):\n",
        "    # Formula to calculate the number of regions\n",
        "    return (n * n + n + 2) // 2\n",
        "\n",
        "calculate_regions(n = 5)\n"
      ],
      "metadata": {
        "colab": {
          "base_uri": "https://localhost:8080/"
        },
        "id": "_KbIco4mqifJ",
        "outputId": "f5178ab4-58d5-4df5-d078-658c9d65d233"
      },
      "execution_count": null,
      "outputs": [
        {
          "output_type": "execute_result",
          "data": {
            "text/plain": [
              "16"
            ]
          },
          "metadata": {},
          "execution_count": 35
        }
      ]
    },
    {
      "cell_type": "code",
      "source": [
        "# 30. When character are consecutive in a string , it is possible to shorten the character string by replacing the character with a certain rule.\n",
        "# For example, in the case of the character string YYYYY, if it is expressed as @ 5 Y, it is compressed by one character.\n",
        "# Write a Python program to restore the original string by entering the compressed string with this rule. However, the @ character does not appear in the restored character string.\n",
        "# Input:\n",
        "# The restored character string for each character on one line.\n",
        "# Original text: XY@6Z1@4023\n",
        "# XYZZZZZZ1000023\n",
        "# Original text: @39+1=1@30\n",
        "# 999+1=1000\n",
        "# Consider 1-9 after @"
      ],
      "metadata": {
        "id": "6uLJdQimh-6z"
      },
      "execution_count": null,
      "outputs": []
    },
    {
      "cell_type": "code",
      "source": [
        "# Solution\n",
        "def text_decode(input_text):\n",
        "  output_text = ''\n",
        "  i = 0\n",
        "  while i < len(input_text):\n",
        "    if input_text[i] != '@':\n",
        "      output_text += input_text[i]\n",
        "      i = i + 1\n",
        "    else:\n",
        "      output_text += input_text[ i + 2] * int(input_text[i+ 1])\n",
        "      input_text = input_text[i+3:] # Slice the input_text\n",
        "      i = 0 # Restart the index\n",
        "  return output_text\n",
        "\n",
        "\n",
        "print(text_decode(input_text = 'XY@6Z1@4023' ))\n",
        "print(text_decode(input_text = '@39+1=1@30' ))\n",
        "\n"
      ],
      "metadata": {
        "colab": {
          "base_uri": "https://localhost:8080/"
        },
        "id": "Ryse6Tl1qtou",
        "outputId": "6c876582-e91a-4aff-bc24-5eb1978c3b1b"
      },
      "execution_count": null,
      "outputs": [
        {
          "output_type": "stream",
          "name": "stdout",
          "text": [
            "XYZZZZZZ1000023\n",
            "999+1=1000\n"
          ]
        }
      ]
    },
    {
      "cell_type": "code",
      "source": [
        "# 31. Write a Python program to find the longest common prefix string among a given array of strings. Return false if there is no common prefix.\n",
        "# For Example, longest common prefix of \"abcdefgh\" and \"abcefgh\" is \"abc\".\n",
        "# Sample Input:\n",
        "# [\"abcdefgh\",\"abcefgh\"]\n",
        "# [\"w3r\",\"w3resource\"]\n",
        "# [\"Python\",\"PHP\", \"Perl\"]\n",
        "# [\"Python\",\"PHP\", \"Java\"]\n",
        "# Sample Output:\n",
        "# abc\n",
        "# w3r\n",
        "# P\n",
        "\n"
      ],
      "metadata": {
        "id": "lX87jCb0ihei"
      },
      "execution_count": null,
      "outputs": []
    },
    {
      "cell_type": "code",
      "source": [],
      "metadata": {
        "id": "X-9I6iCtUFX2",
        "outputId": "bd5c3e02-aa0d-4314-bfd6-464eb1392c1f",
        "colab": {
          "base_uri": "https://localhost:8080/"
        }
      },
      "execution_count": null,
      "outputs": [
        {
          "output_type": "stream",
          "name": "stdout",
          "text": [
            "0\n"
          ]
        }
      ]
    },
    {
      "cell_type": "code",
      "source": [
        "def longest_pre(lis):\n",
        "  pre = ''\n",
        "  short = min(lis, key = len)\n",
        "  for i in range(len(short)):\n",
        "    if all(short[i]==x[i] for x in lis):\n",
        "      pre+=short[i]\n",
        "  return pre if pre else 'False'"
      ],
      "metadata": {
        "id": "FV7Yn1tQSZb7"
      },
      "execution_count": null,
      "outputs": []
    },
    {
      "cell_type": "code",
      "source": [
        "lis = [\"w3r\",\"pramod\"]\n",
        "longest_pre(lis)"
      ],
      "metadata": {
        "id": "EeqEwk_XTy8Q",
        "outputId": "e2ee7172-b4aa-40db-9115-74eb8aef601c",
        "colab": {
          "base_uri": "https://localhost:8080/",
          "height": 36
        }
      },
      "execution_count": null,
      "outputs": [
        {
          "output_type": "execute_result",
          "data": {
            "text/plain": [
              "'False'"
            ],
            "application/vnd.google.colaboratory.intrinsic+json": {
              "type": "string"
            }
          },
          "metadata": {},
          "execution_count": 11
        }
      ]
    },
    {
      "cell_type": "code",
      "source": [
        "# Solution\n",
        "def longest_common_prefix(strings):\n",
        "    if not strings:\n",
        "        return False\n",
        "\n",
        "    common_prefix = strings[0]\n",
        "\n",
        "    for string in strings[1:]:\n",
        "        i = 0\n",
        "        while i < len(common_prefix) and i < len(string) and common_prefix[i] == string[i]:\n",
        "            i += 1\n",
        "\n",
        "        common_prefix = common_prefix[:i]\n",
        "\n",
        "    return common_prefix\n",
        "\n",
        "# Sample input\n",
        "input_strings = [\n",
        "    [\"abcdefgh\", \"abcefgh\"],\n",
        "    [\"w3r\", \"w3resource\"],\n",
        "    [\"Python\", \"PHP\", \"Perl\"],\n",
        "    [\"Python\", \"PHP\", \"Java\"]\n",
        "]\n",
        "\n",
        "# Sample output\n",
        "for strings in input_strings:\n",
        "    result = longest_common_prefix(strings)\n",
        "    print(result if result else \"False\")\n"
      ],
      "metadata": {
        "colab": {
          "base_uri": "https://localhost:8080/"
        },
        "id": "L4i-7xEirV8o",
        "outputId": "37f33420-385c-4db6-abd5-e9fa2fb366c5"
      },
      "execution_count": null,
      "outputs": [
        {
          "output_type": "stream",
          "name": "stdout",
          "text": [
            "abc\n",
            "w3r\n",
            "P\n",
            "False\n"
          ]
        }
      ]
    },
    {
      "cell_type": "code",
      "source": [
        "# 32. The price of a given stock on each day is stored in an array.\n",
        "# Write a Python program to find the maximum profit in one transaction i.e., buy one and sell one share of the stock from the given price value of the said array. You cannot sell a stock before you buy one.\n",
        "# Input (Stock price of each day): [224, 236, 247, 258, 259, 225]\n",
        "# Output: 35\n",
        "# Explanation:\n",
        "# 236 - 224 = 12\n",
        "# 247 - 224 = 23\n",
        "# 258 - 224 = 34\n",
        "# 259 - 224 = 35\n",
        "# 225 - 224 = 1\n",
        "# 247 - 236 = 11\n",
        "# 258 - 236 = 22\n",
        "# 259 - 236 = 23\n",
        "# 225 - 236 = -11\n",
        "# 258 - 247 = 11\n",
        "# 259 - 247 = 12\n",
        "# 225 - 247 = -22\n",
        "# 259 - 258 = 1\n",
        "# 225 - 258 = -33\n",
        "# 225 - 259 = -34\n"
      ],
      "metadata": {
        "id": "SXzTDFNfjQ7h"
      },
      "execution_count": null,
      "outputs": []
    },
    {
      "cell_type": "code",
      "source": [],
      "metadata": {
        "id": "QzvZ1e2nVFLp"
      },
      "execution_count": null,
      "outputs": []
    },
    {
      "cell_type": "code",
      "source": [
        "# Solution\n",
        "def max_profit(prices):\n",
        "    if len(prices) < 2:\n",
        "        return 0\n",
        "\n",
        "    max_profit = 0\n",
        "    min_price = prices[0]\n",
        "\n",
        "    for price in prices[1:]:\n",
        "        max_profit = max(max_profit, price - min_price)\n",
        "        min_price = min(min_price, price)\n",
        "\n",
        "    return max_profit\n",
        "\n",
        "# Example input\n",
        "stock_prices = [224, 236, 247, 258, 259, 225]\n",
        "\n",
        "# Calculate and print the maximum profit\n",
        "output_result = max_profit(stock_prices)\n",
        "print(\"Output:\", output_result)\n"
      ],
      "metadata": {
        "id": "oKayKFaerZes"
      },
      "execution_count": null,
      "outputs": []
    },
    {
      "cell_type": "code",
      "source": [
        "# 33. Write a Python program to compute the largest product of three integers from a given list of integers.\n",
        "# Sample Input:\n",
        "# [-10, -20, 20, 1]\n",
        "# [-1, -1, 4, 2, 1]\n",
        "# [1, 2, 3, 4, 5, 6]\n",
        "# Sample Output:\n",
        "# 4000\n",
        "# 8\n",
        "# 120\n",
        "lis  = eval(input())\n",
        "def largest_product(lis):\n",
        "  products = []\n",
        "  for i in range(len(lis)-2):\n",
        "    products.append(lis[i]*lis[i+1]*lis[i+2])\n",
        "  return max(products)\n",
        "print(largest_product(lis))"
      ],
      "metadata": {
        "id": "eceujZugj4ex",
        "outputId": "dabb77a3-0c97-4796-a3fc-cc0fe4d7d3e1",
        "colab": {
          "base_uri": "https://localhost:8080/"
        }
      },
      "execution_count": null,
      "outputs": [
        {
          "output_type": "stream",
          "name": "stdout",
          "text": [
            "[-1, -1, 4, 2, 1]\n",
            "8\n"
          ]
        }
      ]
    },
    {
      "cell_type": "code",
      "source": [
        "# Solution\n",
        "def max_product_of_three(nums):\n",
        "    nums.sort()\n",
        "\n",
        "    # Compare the product of two smallest and one largest number with three largest numbers\n",
        "    return max(nums[0] * nums[1] * nums[-1], nums[-3] * nums[-2] * nums[-1])\n",
        "\n",
        "# Sample input\n",
        "input_lists = [\n",
        "    [-10, -20, 20, 1,-20],\n",
        "    [-1, -1, 4, 2, 1],\n",
        "    [1, 2, 3, 4, 5, 6,0]\n",
        "]\n",
        "\n",
        "# Sample output\n",
        "for nums in input_lists:\n",
        "    result = max_product_of_three(nums)\n",
        "    print(\"Output:\", result)\n"
      ],
      "metadata": {
        "id": "VJ8EjNbirmUC",
        "outputId": "9cb7cee2-a0cb-44e9-ec8f-e0a35085fac0",
        "colab": {
          "base_uri": "https://localhost:8080/"
        }
      },
      "execution_count": null,
      "outputs": [
        {
          "output_type": "stream",
          "name": "stdout",
          "text": [
            "Output: 8000\n",
            "Output: 8\n",
            "Output: 120\n"
          ]
        }
      ]
    },
    {
      "cell_type": "code",
      "source": [
        "a =  [-10, -20, 20, 1,-20]\n",
        "a.sort()\n",
        "a"
      ],
      "metadata": {
        "id": "qlx1yiCeeNPz",
        "outputId": "07c1cdae-2112-4bef-c21c-bae98bc82c45",
        "colab": {
          "base_uri": "https://localhost:8080/"
        }
      },
      "execution_count": null,
      "outputs": [
        {
          "output_type": "execute_result",
          "data": {
            "text/plain": [
              "[-20, -20, -10, 1, 20]"
            ]
          },
          "metadata": {},
          "execution_count": 13
        }
      ]
    },
    {
      "cell_type": "code",
      "source": [
        "print(lis)"
      ],
      "metadata": {
        "id": "PwJJPuF3ebhS",
        "outputId": "c72556ba-b201-4e1f-e12f-b0dd0d5ad65e",
        "colab": {
          "base_uri": "https://localhost:8080/"
        }
      },
      "execution_count": null,
      "outputs": [
        {
          "output_type": "stream",
          "name": "stdout",
          "text": [
            "[-20, -20, -10, 1, 20]\n"
          ]
        }
      ]
    },
    {
      "cell_type": "code",
      "source": [
        "# 34. Write a Python program that accepts a list of numbers. Count the negative numbers and compute the sum of the positive numbers of the said list. Return these values through a list.\n",
        "# Original list: [1, 2, 3, 4, 5]\n",
        "# Number of negative of numbers and sum of the positive numbers of the said list: [0, 15]\n",
        "# Original list: [-1, -2, -3, -4, -5]\n",
        "# [5, 0]\n",
        "# Number of negative of numbers and sum of the positive numbers of the said list: [5, 0]\n",
        "# Original list: [1, 2, 3, -4, -5]\n",
        "# [2, 6]\n",
        "# Number of negative of numbers and sum of the positive numbers of the said list: [2, 6]\n",
        "# Original list: [1, 2, -3, -4, -5]\n",
        "# [3, 3]\n",
        "# Number of negative of numbers and sum of the positive numbers of the said list: [3, 3]\n",
        "\n",
        "\n",
        "def oper(lis):\n",
        "  neg = 0\n",
        "  pos_sum = 0\n",
        "  for i in lis:\n",
        "    if i<0:\n",
        "      neg+=1\n",
        "    else:\n",
        "      pos_sum+=i\n",
        "  return [neg, pos_sum]"
      ],
      "metadata": {
        "id": "tAa-SiiykEPo"
      },
      "execution_count": null,
      "outputs": []
    },
    {
      "cell_type": "code",
      "source": [
        "lis = eval(input())\n",
        "print(oper(lis))"
      ],
      "metadata": {
        "id": "zwxEL6p6hYMx",
        "outputId": "e989f199-1557-4c26-fb2b-d0a06229d594",
        "colab": {
          "base_uri": "https://localhost:8080/"
        }
      },
      "execution_count": null,
      "outputs": [
        {
          "output_type": "stream",
          "name": "stdout",
          "text": [
            "[1, 2, -3, -4, -5]\n",
            "[3, 3]\n"
          ]
        }
      ]
    },
    {
      "cell_type": "code",
      "source": [
        "# Solution\n",
        "def count_negatives_sum_positives(numbers):\n",
        "    count_negatives = len([num for num in numbers if num < 0])\n",
        "    sum_positives = sum([num for num in numbers if num > 0])\n",
        "\n",
        "    return [count_negatives, sum_positives]\n",
        "\n",
        "# Sample input\n",
        "input_lists = [\n",
        "    [1, 2, 3, 4, 5],\n",
        "    [-1, -2, -3, -4, -5],\n",
        "    [1, 2, 3, -4, -5],\n",
        "    [1, 2, -3, -4, -5]\n",
        "]\n",
        "\n",
        "# Sample output\n",
        "for numbers in input_lists:\n",
        "    result = count_negatives_sum_positives(numbers)\n",
        "    print(f\"Original list: {numbers}\\nNumber of negative numbers and sum of positive numbers: {result}\\n\")\n"
      ],
      "metadata": {
        "colab": {
          "base_uri": "https://localhost:8080/"
        },
        "id": "lL-t-2sMrzOD",
        "outputId": "44f4daf5-ffb6-4fc7-8301-305d7036ae44"
      },
      "execution_count": null,
      "outputs": [
        {
          "output_type": "stream",
          "name": "stdout",
          "text": [
            "Original list: [1, 2, 3, 4, 5]\n",
            "Number of negative numbers and sum of positive numbers: [0, 15]\n",
            "\n",
            "Original list: [-1, -2, -3, -4, -5]\n",
            "Number of negative numbers and sum of positive numbers: [5, 0]\n",
            "\n",
            "Original list: [1, 2, 3, -4, -5]\n",
            "Number of negative numbers and sum of positive numbers: [2, 6]\n",
            "\n",
            "Original list: [1, 2, -3, -4, -5]\n",
            "Number of negative numbers and sum of positive numbers: [3, 3]\n",
            "\n"
          ]
        }
      ]
    },
    {
      "cell_type": "code",
      "source": [
        "# 35. Write a Python program to check whether a sequence of numbers has an increasing trend or not.\n",
        "# Sample Input:\n",
        "# [1,2,3,4]\n",
        "# [1,2,5,3,4]\n",
        "# [-1,-2,-3,-4]\n",
        "# [-4,-3,-2,-1]\n",
        "# [1,2,3,4,0]\n",
        "# Sample Output:\n",
        "# True\n",
        "# False\n",
        "# False\n",
        "# True\n",
        "# False\n"
      ],
      "metadata": {
        "id": "49XcP5MdkU5y"
      },
      "execution_count": null,
      "outputs": []
    },
    {
      "cell_type": "code",
      "source": [
        "# Solution\n",
        "def has_increasing_trend(sequence):\n",
        "    return all(sequence[i] < sequence[i + 1] for i in range(len(sequence) - 1))\n",
        "\n",
        "# Sample input\n",
        "input_sequences = [\n",
        "    [1, 2, 3, 4],\n",
        "    [1, 2, 5, 3, 4],\n",
        "    [-1, -2, -3, -4],\n",
        "    [-4, -3, -2, -1],\n",
        "    [1, 2, 3, 4, 0]\n",
        "]\n",
        "\n",
        "# Sample output\n",
        "for sequence in input_sequences:\n",
        "    result = has_increasing_trend(sequence)\n",
        "    print(result)\n"
      ],
      "metadata": {
        "colab": {
          "base_uri": "https://localhost:8080/"
        },
        "id": "yrxZQAssr9X1",
        "outputId": "617a45d9-f784-4429-f852-07d9a11d3f77"
      },
      "execution_count": null,
      "outputs": [
        {
          "output_type": "stream",
          "name": "stdout",
          "text": [
            "True\n",
            "False\n",
            "False\n",
            "True\n",
            "False\n"
          ]
        }
      ]
    },
    {
      "cell_type": "code",
      "source": [
        "# 36. Write a Python program to check whether two given lines are parallel or not.\n",
        "# Note: Parallel lines are two or more lines that never intersect. Parallel Lines are like railroad tracks that never intersect.\n",
        "# The General Form of the equation of a straight line is: ax + by = c\n",
        "# The said straight line is represented in a list as [a, b, c]\n",
        "# Example of two parallel lines:\n",
        "# x + 4y = 10 and x + 4y = 14\n",
        "# Sample Input:\n",
        "# ([2,3,4], [2,3,8])\n",
        "# ([2,3,4], [4,-3,8])\n",
        "# Sample Output:\n",
        "# True\n",
        "# False\n"
      ],
      "metadata": {
        "id": "51EnSYIuk7I7"
      },
      "execution_count": null,
      "outputs": []
    },
    {
      "cell_type": "code",
      "source": [
        "# Solution\n",
        "def are_lines_parallel(line1, line2):\n",
        "    # Check if the coefficients are proportional\n",
        "    return line1[0] * line2[1] == line2[0] * line1[1]\n",
        "\n",
        "# Sample input\n",
        "input_lines = [\n",
        "    ([2, 3, 4], [2, 3, 8]),\n",
        "    ([2, 3, 4], [4, -3, 8])\n",
        "]\n",
        "\n",
        "# Sample output\n",
        "for lines in input_lines:\n",
        "    result = are_lines_parallel(*lines)\n",
        "    print(result)\n"
      ],
      "metadata": {
        "colab": {
          "base_uri": "https://localhost:8080/"
        },
        "id": "MwaPnd6ysTx8",
        "outputId": "b71b7852-6546-4891-bd18-085ae74cfdc5"
      },
      "execution_count": null,
      "outputs": [
        {
          "output_type": "stream",
          "name": "stdout",
          "text": [
            "True\n",
            "False\n"
          ]
        }
      ]
    },
    {
      "cell_type": "code",
      "source": [
        "# 37. Write a Python program to reverse all words of odd lengths.\n",
        "# Sample Input:\n",
        "# (\"The quick brown fox jumps over the lazy dog\")\n",
        "# (\"Python Exercises\")\n",
        "# Sample Output:\n",
        "# The quick brown fox jumps revo the yzal dog\n",
        "# nohtyP Exercises\n",
        "\n"
      ],
      "metadata": {
        "id": "fwnCPy8klVbw"
      },
      "execution_count": null,
      "outputs": []
    },
    {
      "cell_type": "code",
      "source": [
        "sent = input()\n",
        "lis = sent.split()\n",
        "new_lis = []\n",
        "for i in lis:\n",
        "  if len(i)%2!=0:\n",
        "    new_lis.append(i)\n",
        "  else:\n",
        "    new_lis.append(i[::-1])\n",
        "print(' '.join(new_lis))"
      ],
      "metadata": {
        "id": "NmF80HjviPVv",
        "outputId": "3d9f86a4-2f44-4019-93e7-5de9b6993892",
        "colab": {
          "base_uri": "https://localhost:8080/"
        }
      },
      "execution_count": null,
      "outputs": [
        {
          "output_type": "stream",
          "name": "stdout",
          "text": [
            "The quick brown fox jumps over the lazy dog\n",
            "The quick brown fox jumps revo the yzal dog\n"
          ]
        }
      ]
    },
    {
      "cell_type": "code",
      "source": [
        "\n",
        "\n",
        "\n",
        "\n",
        "\n",
        "\n",
        "\n",
        "\n",
        "\n",
        "\n",
        "\n",
        "\n",
        "\n",
        "\n",
        "\n",
        "\n",
        "\n"
      ],
      "metadata": {
        "id": "RgKOZSkviOVL"
      },
      "execution_count": null,
      "outputs": []
    },
    {
      "cell_type": "code",
      "source": [
        "# Solution\n",
        "def reverse_odd_length_words(sentence):\n",
        "    words = sentence.split()\n",
        "    reversed_words = [word[::-1] if len(word) % 2 == 0 else word for word in words]\n",
        "    reversed_sentence = ' '.join(reversed_words)\n",
        "    return reversed_sentence\n",
        "\n",
        "# Sample input\n",
        "input_sentences = [\n",
        "    \"The quick brown fox jumps over the lazy dog\",\n",
        "    \"Python Exercises\"\n",
        "]\n",
        "\n",
        "# Sample output\n",
        "for sentence in input_sentences:\n",
        "    result = reverse_odd_length_words(sentence)\n",
        "    print(result)\n"
      ],
      "metadata": {
        "colab": {
          "base_uri": "https://localhost:8080/"
        },
        "id": "GdZLTAB7sZtT",
        "outputId": "24fc9458-e9e5-4abe-9a0d-e5e0daef66b6"
      },
      "execution_count": null,
      "outputs": [
        {
          "output_type": "stream",
          "name": "stdout",
          "text": [
            "The quick brown fox jumps revo the yzal dog\n",
            "nohtyP Exercises\n"
          ]
        }
      ]
    },
    {
      "cell_type": "code",
      "source": [
        "# 38.\n",
        "# 1\n",
        "# 2    1\n",
        "# 4    2    1\n",
        "# 8    4    2    1\n",
        "# 16    8    4    2    1\n",
        "# 32   16    8    4    2    1\n",
        "# 64   32   16    8    4    2    1\n",
        "# 128   64   32   16    8    4    2    1\n",
        "\n",
        "# Print the above pattern\n",
        "depth = int(input())\n",
        "for i in range(1,depth+1):\n",
        "  for j in range(i-1, -1, -1):\n",
        "    print(2**(j), end=' ')\n",
        "  print()"
      ],
      "metadata": {
        "id": "EapsW0CDl22k",
        "outputId": "e110054e-2f09-46c7-9c5c-024910914a52",
        "colab": {
          "base_uri": "https://localhost:8080/"
        }
      },
      "execution_count": null,
      "outputs": [
        {
          "output_type": "stream",
          "name": "stdout",
          "text": [
            "7\n",
            "1 \n",
            "2 1 \n",
            "4 2 1 \n",
            "8 4 2 1 \n",
            "16 8 4 2 1 \n",
            "32 16 8 4 2 1 \n",
            "64 32 16 8 4 2 1 \n"
          ]
        }
      ]
    },
    {
      "cell_type": "code",
      "source": [
        "# Solution\n",
        "\n",
        "depth = int(input())\n",
        "for i in range(1, depth + 1):\n",
        "  for j in range(i - 1,-1, -1):\n",
        "    print(2**(j), end = ' ')\n",
        "  print()\n"
      ],
      "metadata": {
        "colab": {
          "base_uri": "https://localhost:8080/"
        },
        "id": "rbGhVfkwsqis",
        "outputId": "a9504303-5d21-4d1b-9f26-5d9254c65198"
      },
      "execution_count": null,
      "outputs": [
        {
          "output_type": "stream",
          "name": "stdout",
          "text": [
            "5\n",
            "1 \n",
            "2 1 \n",
            "4 2 1 \n",
            "8 4 2 1 \n",
            "16 8 4 2 1 \n"
          ]
        }
      ]
    },
    {
      "cell_type": "code",
      "source": [
        "# 39. Create a function that takes a string s and returns a list of two-paired characters. If the string has an odd number of characters, add an asterisk * in the final pair.\n",
        "\n",
        "# See the below examples for a better understanding:\n",
        "\n",
        "# Examples\n",
        "# string_pairs(\"mubashir\") ➞ [\"mu\", \"ba\", \"sh\", \"ir\"]\n",
        "\n",
        "# string_pairs(\"edabit\") ➞ [\"ed\", \"ab\", \"it\"]\n",
        "\n",
        "# string_pairs(\"airforces\") ➞ [\"ai\", \"rf\", \"or\", \"ce\", \"s*\"]\n",
        "# Notes\n",
        "# Return [] if the given string is empty.\n"
      ],
      "metadata": {
        "id": "gX2aiTjYn5Rw"
      },
      "execution_count": null,
      "outputs": []
    },
    {
      "cell_type": "code",
      "source": [
        "string = input()\n",
        "lis = [string[i:i+2] for i in range(0,len(string))]\n",
        "lis"
      ],
      "metadata": {
        "id": "Zndee99PkAP2",
        "outputId": "c14a4af3-6341-4243-e2e0-faf892dd52be",
        "colab": {
          "base_uri": "https://localhost:8080/"
        }
      },
      "execution_count": null,
      "outputs": [
        {
          "name": "stdout",
          "output_type": "stream",
          "text": [
            "pramod\n"
          ]
        },
        {
          "output_type": "execute_result",
          "data": {
            "text/plain": [
              "['pr', 'ra', 'am', 'mo', 'od', 'd']"
            ]
          },
          "metadata": {},
          "execution_count": 29
        }
      ]
    },
    {
      "cell_type": "code",
      "source": [
        "\n",
        "\n",
        "\n",
        "\n",
        "\n",
        "\n",
        "\n",
        "\n",
        "\n",
        "\n",
        "\n",
        "\n",
        "\n"
      ],
      "metadata": {
        "id": "GkYRYjpr7xs-"
      },
      "execution_count": null,
      "outputs": []
    },
    {
      "cell_type": "code",
      "source": [
        "# Solution\n",
        "def string_pairs(s):\n",
        "    if not s:\n",
        "        return []\n",
        "\n",
        "    pairs = [s[i:i+2] for i in range(0, len(s), 2)]\n",
        "\n",
        "    # If the length is odd, add an asterisk to the last pair\n",
        "    if len(s) % 2 != 0:\n",
        "        pairs[-1] += \"*\"\n",
        "\n",
        "    return pairs\n",
        "\n",
        "# Examples\n",
        "print(string_pairs(\"mubashir\"))  # [\"mu\", \"ba\", \"sh\", \"ir\"]\n",
        "print(string_pairs(\"edabit\"))    # [\"ed\", \"ab\", \"it\"]\n",
        "print(string_pairs(\"airforces\")) # [\"ai\", \"rf\", \"or\", \"ce\", \"s*\"]\n"
      ],
      "metadata": {
        "colab": {
          "base_uri": "https://localhost:8080/"
        },
        "id": "uL8CQuzYs2mm",
        "outputId": "f55328be-a8b8-404c-9a7b-68c02af62f03"
      },
      "execution_count": null,
      "outputs": [
        {
          "output_type": "stream",
          "name": "stdout",
          "text": [
            "['mu', 'ba', 'sh', 'ir']\n",
            "['ed', 'ab', 'it']\n",
            "['ai', 'rf', 'or', 'ce', 's*']\n"
          ]
        }
      ]
    },
    {
      "cell_type": "code",
      "source": [
        "# 40. Write a function that takes a credit card number and only displays the last four characters. The rest of the card number must be replaced by ************.\n",
        "\n",
        "# Examples\n",
        "# card_hide(\"1234123456785678\") ➞ \"************5678\"\n",
        "\n",
        "# card_hide(\"8754456321113213\") ➞ \"************3213\"\n",
        "\n",
        "# card_hide(\"35123413355523\") ➞ \"**********5523\"\n",
        "# Examples\n",
        "# Ensure you return a string.\n",
        "# The length of the string must remain the same as the input.\n",
        "\n",
        "\n",
        "\n",
        "card = '1234123456785678'"
      ],
      "metadata": {
        "id": "vHQ3VLtRpWRn"
      },
      "execution_count": null,
      "outputs": []
    },
    {
      "cell_type": "code",
      "source": [
        "n = len(card) - 4\n",
        "last_digit = card[n:]\n",
        "print(last_digit)\n",
        "print('*'*n + last_digit)"
      ],
      "metadata": {
        "id": "nNvkAitqIcll",
        "outputId": "ca49c51e-b0b4-4c9b-cd64-c1d3a72ee2fe",
        "colab": {
          "base_uri": "https://localhost:8080/"
        }
      },
      "execution_count": null,
      "outputs": [
        {
          "output_type": "stream",
          "name": "stdout",
          "text": [
            "5678\n",
            "************5678\n"
          ]
        }
      ]
    },
    {
      "cell_type": "code",
      "source": [],
      "metadata": {
        "id": "2y6cIJA9IciX"
      },
      "execution_count": null,
      "outputs": []
    },
    {
      "cell_type": "code",
      "source": [],
      "metadata": {
        "id": "xBE5E1RQIcgB"
      },
      "execution_count": null,
      "outputs": []
    },
    {
      "cell_type": "code",
      "source": [],
      "metadata": {
        "id": "opnFiS56Icdd"
      },
      "execution_count": null,
      "outputs": []
    },
    {
      "cell_type": "code",
      "source": [
        "# Solution\n",
        "def card_hide(card_number):\n",
        "    return '*' * (len(card_number) - 4) + card_number[-4:]\n",
        "\n",
        "# Examples\n",
        "print(card_hide(\"1234123456785678\"))  # \"************5678\"\n",
        "print(card_hide(\"8754456321113213\"))  # \"************3213\"\n",
        "print(card_hide(\"35123413355523\"))    # \"**********5523\"\n"
      ],
      "metadata": {
        "colab": {
          "base_uri": "https://localhost:8080/"
        },
        "id": "UARDMluJtEYr",
        "outputId": "e8d2005a-f26e-47b1-a451-2180f426df30"
      },
      "execution_count": null,
      "outputs": [
        {
          "output_type": "stream",
          "name": "stdout",
          "text": [
            "************5678\n",
            "************3213\n",
            "**********5523\n"
          ]
        }
      ]
    },
    {
      "cell_type": "code",
      "source": [
        "a='pramod'"
      ],
      "metadata": {
        "id": "EHsku7XsLYMq"
      },
      "execution_count": null,
      "outputs": []
    },
    {
      "cell_type": "code",
      "source": [
        "a.replace('p', 'P')"
      ],
      "metadata": {
        "id": "RImYbzhbLQRA",
        "outputId": "ffdda5f6-0f61-433c-8b72-0e8d3f1d3f13",
        "colab": {
          "base_uri": "https://localhost:8080/",
          "height": 36
        }
      },
      "execution_count": null,
      "outputs": [
        {
          "output_type": "execute_result",
          "data": {
            "text/plain": [
              "'Pramod'"
            ],
            "application/vnd.google.colaboratory.intrinsic+json": {
              "type": "string"
            }
          },
          "metadata": {},
          "execution_count": 66
        }
      ]
    },
    {
      "cell_type": "code",
      "source": [
        "a"
      ],
      "metadata": {
        "id": "TSUtSmrGLVLl",
        "outputId": "44139096-5a1e-46c9-910b-675a5738c405",
        "colab": {
          "base_uri": "https://localhost:8080/",
          "height": 36
        }
      },
      "execution_count": null,
      "outputs": [
        {
          "output_type": "execute_result",
          "data": {
            "text/plain": [
              "'pramod'"
            ],
            "application/vnd.google.colaboratory.intrinsic+json": {
              "type": "string"
            }
          },
          "metadata": {},
          "execution_count": 67
        }
      ]
    },
    {
      "cell_type": "code",
      "source": [
        "# 41. Transcribe the given DNA strand into corresponding mRNA - a type of RNA, that will be formed from it after transcription. DNA has the bases A, T, G and C, while RNA converts to U, A, C and G respectively.\n",
        "\n",
        "# Examples\n",
        "# dna_to_rna(\"ATTAGCGCGATATACGCGTAC\") ➞ \"UAAUCGCGCUAUAUGCGCAUG\"\n",
        "\n",
        "# dna_to_rna(\"CGATATA\") ➞ \"GCUAUAU\"\n",
        "\n",
        "# dna_to_rna(\"GTCATACGACGTA\") ➞ \"CAGUAUGCUGCAU\"\n",
        "# Notes\n",
        "# Transcription is the process of making complementary strand.\n",
        "# A, T, G and C in DNA converts to U, A, C and G respectively, when in mRNA.\n",
        "\n",
        "\n"
      ],
      "metadata": {
        "id": "XEEsYr5cpude"
      },
      "execution_count": null,
      "outputs": []
    },
    {
      "cell_type": "code",
      "source": [
        "# Solution\n",
        "def dna_to_rna(dna_strand):\n",
        "    transcription_dict = {'A': 'U', 'T': 'A', 'G': 'C', 'C': 'G'}\n",
        "    return ''.join(transcription_dict[base] for base in dna_strand)\n",
        "\n",
        "# Examples\n",
        "print(dna_to_rna(\"ATTAGCGCGATATACGCGTAC\"))  # \"UAAUCGCGCUAUAUGCGCAUG\"\n",
        "print(dna_to_rna(\"CGATATA\"))               # \"GCUAUAU\"\n",
        "print(dna_to_rna(\"GTCATACGACGTA\"))         # \"CAGUAUGCUGCAU\"\n"
      ],
      "metadata": {
        "colab": {
          "base_uri": "https://localhost:8080/"
        },
        "id": "aQHDbub9tTfE",
        "outputId": "b4f45f1c-343a-4067-fed3-8ece3ff2471a"
      },
      "execution_count": null,
      "outputs": [
        {
          "output_type": "stream",
          "name": "stdout",
          "text": [
            "UAAUCGCGCUAUAUGCGCAUG\n",
            "GCUAUAU\n",
            "CAGUAUGCUGCAU\n"
          ]
        }
      ]
    },
    {
      "cell_type": "code",
      "source": [
        "# 42. \"Loves me, loves me not\" is a traditional game in which a person plucks off all the petals of a flower one by one, saying the phrase \"Loves me\" and \"Loves me not\" when determining whether the one that they love, loves them back.\n",
        "\n",
        "# Given a number of petals, return a string which repeats the phrases \"Loves me\" and \"Loves me not\" for every alternating petal, and return the last phrase in all caps. Remember to put a comma and space between phrases.\n",
        "\n",
        "# Examples\n",
        "# loves_me(3) ➞ \"Loves me, Loves me not, LOVES ME\"\n",
        "\n",
        "# loves_me(6) ➞ \"Loves me, Loves me not, Loves me, Loves me not, Loves me, LOVES ME NOT\"\n",
        "\n",
        "# loves_me(1) ➞ \"LOVES ME\"\n",
        "# Notes\n",
        "# Remember to return a string.\n",
        "# The first phrase is always \"Loves me\".\n",
        "\n",
        "\n"
      ],
      "metadata": {
        "id": "EsgoIBxWrpRp"
      },
      "execution_count": null,
      "outputs": []
    },
    {
      "cell_type": "code",
      "source": [
        "# Solution\n",
        "def loves_me(petals):\n",
        "    phrases = [\"Loves me\" if i % 2 == 0 else \"Loves me not\" for i in range(petals - 1)]\n",
        "    last_phrase = \"LOVES ME\" if petals % 2 == 1 else \"LOVES ME NOT\"\n",
        "    return \", \".join(phrases + [last_phrase])\n",
        "\n",
        "# Examples\n",
        "print(loves_me(3))  # \"Loves me, Loves me not, LOVES ME\"\n",
        "print(loves_me(6))  # \"Loves me, Loves me not, Loves me, Loves me not, Loves me, LOVES ME NOT\"\n",
        "print(loves_me(1))  # \"LOVES ME\"\n"
      ],
      "metadata": {
        "colab": {
          "base_uri": "https://localhost:8080/"
        },
        "id": "cLzSNy-3tjUW",
        "outputId": "f526439f-1609-44ae-e475-45f0b14138f1"
      },
      "execution_count": null,
      "outputs": [
        {
          "output_type": "stream",
          "name": "stdout",
          "text": [
            "Loves me, Loves me not, LOVES ME\n",
            "Loves me, Loves me not, Loves me, Loves me not, Loves me, LOVES ME NOT\n",
            "LOVES ME\n"
          ]
        }
      ]
    },
    {
      "cell_type": "code",
      "source": [
        "chr(109)"
      ],
      "metadata": {
        "id": "waL965rsAP_2",
        "outputId": "5e0a4a54-2695-4a9c-c057-824e8cb7d22a",
        "colab": {
          "base_uri": "https://localhost:8080/",
          "height": 36
        }
      },
      "execution_count": null,
      "outputs": [
        {
          "output_type": "execute_result",
          "data": {
            "text/plain": [
              "'m'"
            ],
            "application/vnd.google.colaboratory.intrinsic+json": {
              "type": "string"
            }
          },
          "metadata": {},
          "execution_count": 2
        }
      ]
    },
    {
      "cell_type": "code",
      "source": [
        "ord('H')"
      ],
      "metadata": {
        "id": "3elQBr18ANIE",
        "outputId": "1c8f8e53-6600-4eb7-9be8-c175a5706a01",
        "colab": {
          "base_uri": "https://localhost:8080/"
        }
      },
      "execution_count": null,
      "outputs": [
        {
          "output_type": "execute_result",
          "data": {
            "text/plain": [
              "72"
            ]
          },
          "metadata": {},
          "execution_count": 5
        }
      ]
    },
    {
      "cell_type": "code",
      "source": [
        "# 43. Create a function that takes two arguments (text, key) and returns a new encrypted text using the key.\n",
        "# For example, if the input is \"a\" and the key is 1, it should move that letter 1 step in alphabetic order so the output would be \"b\".\n",
        "\n",
        "# Examples\n",
        "# caesar_cipher(\"hello\", 5) ➞ \"mjqqt\"\n",
        "\n",
        "# caesar_cipher(\"hello world\", 1) ➞ \"ifmmp xpsme\"\n",
        "\n",
        "# caesar_cipher(\"a\", 2) ➞ \"c\"\n",
        "\n",
        "def new_encrypted(text,key):\n",
        "  new_text = ''\n",
        "  for i in text:\n",
        "    if i.isalpha():\n",
        "      new_text+=chr(ord(i)+key)\n",
        "    else:\n",
        "      new_text+=i\n",
        "  return new_text\n",
        "print(new_encrypted('Hello',5))\n",
        "print(new_encrypted(\"hello world\", 1))\n",
        "print(new_encrypted(\"a\", 2))\n",
        "\n"
      ],
      "metadata": {
        "id": "YdfEbaX6teoV",
        "outputId": "919ce68e-dbcc-40e4-939c-2864cd72fa66",
        "colab": {
          "base_uri": "https://localhost:8080/"
        }
      },
      "execution_count": null,
      "outputs": [
        {
          "output_type": "stream",
          "name": "stdout",
          "text": [
            "Mjqqt\n",
            "ifmmp xpsme\n",
            "c\n"
          ]
        }
      ]
    },
    {
      "cell_type": "code",
      "source": [
        "# Solution\n",
        "def caesar_cipher(text, key):\n",
        "    encrypted_text = \"\"\n",
        "    for char in text:\n",
        "        if char.isalpha():\n",
        "            shift = (ord(char) + key - ord('a') if char.islower() else ord(char) + key - ord('A')) % 26\n",
        "            encrypted_char = chr(shift + ord('a') if char.islower() else shift + ord('A'))\n",
        "            encrypted_text += encrypted_char\n",
        "        else:\n",
        "            encrypted_text += char\n",
        "    return encrypted_text\n",
        "\n",
        "# Examples\n",
        "print(caesar_cipher(\"hello\", 5))         # \"mjqqt\"\n",
        "print(caesar_cipher(\"hello world\", 1))   # \"ifmmp xpsme\"\n",
        "print(caesar_cipher(\"a\", 2))             # \"c\"\n"
      ],
      "metadata": {
        "colab": {
          "base_uri": "https://localhost:8080/"
        },
        "id": "3o0HRxFgtqxX",
        "outputId": "9fd7a372-330d-4e75-ca48-a7912f2abb78"
      },
      "execution_count": null,
      "outputs": [
        {
          "output_type": "stream",
          "name": "stdout",
          "text": [
            "mjqqt\n",
            "ifmmp xpsme\n",
            "c\n"
          ]
        }
      ]
    },
    {
      "cell_type": "code",
      "source": [
        "# 44. Create a function that will take a HEX number and returns the binary equivalent (as a string).\n",
        "# to_binary(FF) ➞ \"11111111\"\n",
        "\n",
        "# to_binary(AA) ➞ \"10101010\"\n",
        "\n",
        "# to_binary(FA) ➞ \"11111010\"\n",
        "\n"
      ],
      "metadata": {
        "id": "RJlo3eOQvkzC",
        "outputId": "4c4b3e96-3b06-4a06-9926-df8187689f02",
        "colab": {
          "base_uri": "https://localhost:8080/",
          "height": 36
        }
      },
      "execution_count": null,
      "outputs": [
        {
          "output_type": "execute_result",
          "data": {
            "text/plain": [
              "'0b11111111'"
            ],
            "application/vnd.google.colaboratory.intrinsic+json": {
              "type": "string"
            }
          },
          "metadata": {},
          "execution_count": 33
        }
      ]
    },
    {
      "cell_type": "code",
      "source": [
        "#Solution\n",
        "def to_binary(hex_number):\n",
        "    binary_number = bin(int(hex_number, 16))[2:]\n",
        "    return binary_number\n",
        "\n",
        "# Examples\n",
        "print(to_binary(\"FF\"))  # \"11111111\"\n",
        "print(to_binary(\"AA\"))  # \"10101010\"\n",
        "print(to_binary(\"FA\"))  # \"11111010\""
      ],
      "metadata": {
        "colab": {
          "base_uri": "https://localhost:8080/"
        },
        "id": "nRObqMbzt2yN",
        "outputId": "1037b8f4-a6cc-44af-dbc3-5ef0c282c623"
      },
      "execution_count": null,
      "outputs": [
        {
          "output_type": "stream",
          "name": "stdout",
          "text": [
            "11111111\n",
            "10101010\n",
            "11111010\n"
          ]
        }
      ]
    },
    {
      "cell_type": "code",
      "source": [
        "lis = 'FF AA FA'.split()\n",
        "for i in lis:\n",
        "  print(bin(int(i,16))[2::])"
      ],
      "metadata": {
        "id": "TIEif7MionAs",
        "outputId": "05e5cc7d-7aea-4ff5-c0b7-e9ad4c3d6782",
        "colab": {
          "base_uri": "https://localhost:8080/"
        }
      },
      "execution_count": null,
      "outputs": [
        {
          "output_type": "stream",
          "name": "stdout",
          "text": [
            "11111111\n",
            "10101010\n",
            "11111010\n"
          ]
        }
      ]
    },
    {
      "cell_type": "code",
      "source": [
        "# 45. Given a list of numbers and a variable K, where K is also a number, write a Python program to find the number in a list which is closest to the given number K.\n",
        "\n",
        "# Examples:\n",
        "\n",
        "# Input : lst = [3.64, 5.2, 9.42, 9.35, 8.5, 8], K = 9.1\n",
        "# Output : 9.35\n",
        "\n",
        "# Input : lst = [9, 11, 5, 3, 25, 18], K = 6\n",
        "# Output : 5"
      ],
      "metadata": {
        "id": "X1UhJFMRyNYn"
      },
      "execution_count": null,
      "outputs": []
    },
    {
      "cell_type": "code",
      "source": [
        "lis = [9, 11, 5, 3, 25, 18]\n",
        "n= float(input())\n",
        "new_lis= []\n",
        "for i in lis:\n",
        "  new_lis.append(abs(i-n))\n",
        "min_index = new_lis.index(min(new_lis))\n",
        "print(lis[min_index])\n",
        "\n"
      ],
      "metadata": {
        "id": "K-wy6N2tpFfd",
        "outputId": "d2aa8666-2408-4a63-afa9-c7a33efba459",
        "colab": {
          "base_uri": "https://localhost:8080/"
        }
      },
      "execution_count": null,
      "outputs": [
        {
          "output_type": "stream",
          "name": "stdout",
          "text": [
            "6\n",
            "5\n"
          ]
        }
      ]
    },
    {
      "cell_type": "code",
      "source": [],
      "metadata": {
        "id": "pDrVk2mdpdHU",
        "outputId": "893b8b1f-a023-41cb-eb9d-a1f766049cfe",
        "colab": {
          "base_uri": "https://localhost:8080/"
        }
      },
      "execution_count": null,
      "outputs": [
        {
          "output_type": "execute_result",
          "data": {
            "text/plain": [
              "8"
            ]
          },
          "metadata": {},
          "execution_count": 36
        }
      ]
    },
    {
      "cell_type": "code",
      "source": [
        "abs(84.2543)"
      ],
      "metadata": {
        "id": "x0m5HsAIpe6a",
        "outputId": "41208681-b511-4e47-ed0a-01a9f4406b33",
        "colab": {
          "base_uri": "https://localhost:8080/"
        }
      },
      "execution_count": null,
      "outputs": [
        {
          "output_type": "execute_result",
          "data": {
            "text/plain": [
              "84.2543"
            ]
          },
          "metadata": {},
          "execution_count": 37
        }
      ]
    },
    {
      "cell_type": "code",
      "source": [
        "\n",
        "\n",
        "\n",
        "\n",
        "\n",
        "\n",
        "\n",
        "\n",
        "\n",
        "\n",
        "\n",
        "\n",
        "\n",
        "\n",
        "\n",
        "\n",
        "\n",
        "\n",
        "\n",
        "\n"
      ],
      "metadata": {
        "id": "elIBMaqro5x4"
      },
      "execution_count": null,
      "outputs": []
    },
    {
      "cell_type": "code",
      "source": [
        "# Solution\n",
        "def closest_number(lst, K):\n",
        "    closest = min(lst, key=lambda x: abs(x - K))\n",
        "    return closest\n",
        "\n",
        "# Examples\n",
        "lst1, K1 = [3.64, 5.2, 9.42, 9.35, 8.5, 8], 9.1\n",
        "print(closest_number(lst1, K1))  # Output: 9.35\n",
        "\n",
        "lst2, K2 = [9, 11, 5, 3, 25, 18], 6\n",
        "print(closest_number(lst2, K2))  # Output: 5\n"
      ],
      "metadata": {
        "colab": {
          "base_uri": "https://localhost:8080/"
        },
        "id": "wM0sBagWt86H",
        "outputId": "77f5d3ce-163b-4fac-dbaf-948f3c39151c"
      },
      "execution_count": null,
      "outputs": [
        {
          "output_type": "stream",
          "name": "stdout",
          "text": [
            "9.35\n",
            "5\n"
          ]
        }
      ]
    },
    {
      "cell_type": "code",
      "source": [
        "# 46. In this challenge, you have to establish if a given integer n is a Sastry number. If the number resulting from the concatenation of an integer n with its successor is a perfect square, then n is a Sastry Number.\n",
        "\n",
        "# Given a positive integer n, implement a function that returns True if n is a Sastry number, or False if it's not.\n",
        "\n",
        "# Examples\n",
        "# is_sastry(183) ➞ True\n",
        "# # Concatenation of n and its successor = 183184\n",
        "# # 183184 is a perfect square (428 ^ 2)\n",
        "\n",
        "# is_sastry(184) ➞ False\n",
        "# # Concatenation of n and its successor = 184185\n",
        "# # 184185 is not a perfect square\n",
        "\n",
        "# is_sastry(106755) ➞ True\n",
        "# # Concatenation of n and its successor = 106755106756\n",
        "# # 106755106756 is a perfect square (326734 ^ 2)\n",
        "\n",
        "\n",
        "n = int(input())\n",
        "def is_mistry(n):\n",
        "  con = int(str(n) + str(n+1))\n",
        "  sq = int(con**0.5)\n",
        "  return sq**2 == con\n",
        "is_mistry(n)"
      ],
      "metadata": {
        "id": "vfDBtAnQyQ1-",
        "outputId": "10a3e736-cd67-485f-e1eb-a06809975ca5",
        "colab": {
          "base_uri": "https://localhost:8080/"
        }
      },
      "execution_count": null,
      "outputs": [
        {
          "name": "stdout",
          "output_type": "stream",
          "text": [
            "184\n"
          ]
        },
        {
          "output_type": "execute_result",
          "data": {
            "text/plain": [
              "False"
            ]
          },
          "metadata": {},
          "execution_count": 45
        }
      ]
    },
    {
      "cell_type": "code",
      "source": [],
      "metadata": {
        "id": "Eg6x8VljshGe"
      },
      "execution_count": null,
      "outputs": []
    },
    {
      "cell_type": "code",
      "source": [
        "# Solution\n",
        "def is_sastry(n):\n",
        "    concatenated = int(str(n) + str(n + 1))\n",
        "    square_root = int(concatenated**0.5)\n",
        "    return square_root**2 == concatenated\n",
        "\n",
        "# Examples\n",
        "print(is_sastry(183))     # True\n",
        "print(is_sastry(184))     # False\n",
        "print(is_sastry(106755))  # True\n"
      ],
      "metadata": {
        "colab": {
          "base_uri": "https://localhost:8080/"
        },
        "id": "fVbJqqeGuEaF",
        "outputId": "332656fc-ff45-4fab-d209-963d08920036"
      },
      "execution_count": null,
      "outputs": [
        {
          "output_type": "stream",
          "name": "stdout",
          "text": [
            "True\n",
            "False\n",
            "True\n"
          ]
        }
      ]
    },
    {
      "cell_type": "code",
      "source": [
        "# 47. Given two strings comprised of + and -, return a new string which shows how the two strings interact in the following way:\n",
        "\n",
        "# When positives and positives interact, they remain positive.\n",
        "# When negatives and negatives interact, they remain negative.\n",
        "# But when negatives and positives interact, they become neutral, and are shown as the number 0.\n",
        "# Worked Example\n",
        "# neutralise(\"+-+\", \"+--\") ➞ \"+-0\"\n",
        "# # Compare the first characters of each string, then the next in turn.\n",
        "# # \"+\" against a \"+\" returns another \"+\".\n",
        "# # \"-\" against a \"-\" returns another \"-\".\n",
        "# # \"+\" against a \"-\" returns \"0\".\n",
        "# # Return the string of characters.\n",
        "# Examples\n",
        "# neutralise(\"--++--\", \"++--++\") ➞ \"000000\"\n",
        "\n",
        "# neutralise(\"-+-+-+\", \"-+-+-+\") ➞ \"-+-+-+\"\n",
        "\n",
        "# neutralise(\"-++-\", \"-+-+\") ➞ \"-+00\"\n",
        "# Notes\n",
        "# The two strings will be the same length."
      ],
      "metadata": {
        "id": "o7wyfwD_073m"
      },
      "execution_count": null,
      "outputs": []
    },
    {
      "cell_type": "code",
      "source": [
        "\n",
        "\n",
        "\n",
        "\n",
        "\n",
        "\n",
        "\n",
        "\n",
        "\n",
        "\n",
        "\n",
        "\n"
      ],
      "metadata": {
        "id": "hKxadKg90efI"
      },
      "execution_count": null,
      "outputs": []
    },
    {
      "cell_type": "code",
      "source": [
        "# Solution\n",
        "def neutralise(s1, s2):\n",
        "    result = \"\"\n",
        "    for char1, char2 in zip(s1, s2):\n",
        "        if char1 == char2:\n",
        "            result += char1\n",
        "        else:\n",
        "            result += \"0\"\n",
        "    return result\n",
        "\n",
        "# Examples\n",
        "print(neutralise(\"+-+\", \"+--\"))        # Output: \"+-0\"\n",
        "print(neutralise(\"--++--\", \"++--++\"))  # Output: \"000000\"\n",
        "print(neutralise(\"-+-+-+\", \"-+-+-+\"))  # Output: \"-+-+-+\"\n",
        "print(neutralise(\"-++-\", \"-+-+\"))       # Output: \"-+00\"\n"
      ],
      "metadata": {
        "colab": {
          "base_uri": "https://localhost:8080/"
        },
        "id": "M9mA7OE2uOlK",
        "outputId": "b1d9835b-0e93-4ad1-a9d0-1efdb0cbbf25"
      },
      "execution_count": null,
      "outputs": [
        {
          "output_type": "stream",
          "name": "stdout",
          "text": [
            "+-0\n",
            "000000\n",
            "-+-+-+\n",
            "-+00\n"
          ]
        }
      ]
    },
    {
      "cell_type": "code",
      "source": [
        "# 48.\n",
        "# The digit distance between two numbers is the total value of the difference between each pair of digits.\n",
        "\n",
        "# To illustrate:\n",
        "\n",
        "# digit_distance(234, 489) ➞ 12\n",
        "# # Since |2 - 4| + |3 - 8| + |4 - 9| = 2 + 5 + 5\n",
        "# Create a function that returns the digit distance between two integers.\n",
        "\n",
        "# Examples\n",
        "# digit_distance(121, 599) ➞ 19\n",
        "\n",
        "# digit_distance(12, 12) ➞ 0\n",
        "\n",
        "# digit_distance(10, 20) ➞ 1\n",
        "# Notes:\n",
        "# Both integers will be exactly the same length.\n",
        "# All digits in num2 have to be higher than their counterparts in num1."
      ],
      "metadata": {
        "id": "m9ROETdo088l"
      },
      "execution_count": null,
      "outputs": []
    },
    {
      "cell_type": "code",
      "source": [
        "# Solution\n",
        "def digit_distance(num1, num2):\n",
        "    distance = sum(abs(int(digit1) - int(digit2)) for digit1, digit2 in zip(str(num1), str(num2)))\n",
        "    return distance\n",
        "\n",
        "# Examples\n",
        "print(digit_distance(121, 599))  # Output: 19\n",
        "print(digit_distance(12, 12))    # Output: 0\n",
        "print(digit_distance(10, 20))    # Output: 1\n"
      ],
      "metadata": {
        "colab": {
          "base_uri": "https://localhost:8080/"
        },
        "id": "SOs3-1iRuU3H",
        "outputId": "31eb406e-78d8-4d06-85a1-047cec8b0a05"
      },
      "execution_count": null,
      "outputs": [
        {
          "output_type": "stream",
          "name": "stdout",
          "text": [
            "19\n",
            "0\n",
            "1\n"
          ]
        }
      ]
    },
    {
      "cell_type": "code",
      "source": [
        "# 49.\n",
        "# To train for an upcoming marathon, Johnny goes on one long-distance run each Saturday.\n",
        "# He wants to track how often the number of miles he runs exceeds the previous Saturday. This is called a progress day.\n",
        "\n",
        "# Create a function that takes in a list of miles run every Saturday and returns Johnny's total number of progress days.\n",
        "\n",
        "# Examples\n",
        "# progress_days([3, 4, 1, 2]) ➞ 2\n",
        "# # There are two progress days, (3->4) and (1->2)\n",
        "\n",
        "# progress_days([10, 11, 12, 9, 10]) ➞ 3\n",
        "\n",
        "# progress_days([6, 5, 4, 3, 2, 9]) ➞ 1\n",
        "\n",
        "# progress_days([9, 9])  ➞ 0"
      ],
      "metadata": {
        "id": "WrcVYOne0-PJ"
      },
      "execution_count": null,
      "outputs": []
    },
    {
      "cell_type": "code",
      "source": [
        "# Solution\n",
        "def progress_days(miles_run):\n",
        "    progress_count = sum(miles_run[i] > miles_run[i - 1] for i in range(1, len(miles_run)))\n",
        "    return progress_count\n",
        "\n",
        "# Examples\n",
        "print(progress_days([3, 4, 1, 2]))      # Output: 2\n",
        "print(progress_days([10, 11, 12, 9, 10]))  # Output: 3\n",
        "print(progress_days([6, 5, 4, 3, 2, 9]))   # Output: 1\n",
        "print(progress_days([9, 9]))               # Output: 0\n"
      ],
      "metadata": {
        "colab": {
          "base_uri": "https://localhost:8080/"
        },
        "id": "X8_K8sg1uaHJ",
        "outputId": "f6f54fae-086c-400e-cf3a-d2b06b47b1e3"
      },
      "execution_count": null,
      "outputs": [
        {
          "output_type": "stream",
          "name": "stdout",
          "text": [
            "2\n",
            "3\n",
            "1\n",
            "0\n"
          ]
        }
      ]
    },
    {
      "cell_type": "code",
      "source": [
        "# 50.\n",
        "\n",
        "# A large flat field measures 50x50 kilometers. At a time t = 0, a bomb explodes somewhere on the field.\n",
        "# There are 3 scattered sensors with synchronized clocks that record the exact time (in seconds) that the sound of the exploding bomb reaches them.\n",
        "\n",
        "# Given the x, y coordinates of each of the 3 sensors and the recorded time of each, find the location of the bomb:\n",
        "\n",
        "# bomb([[x1, y1, t1], [x2, y2, t2], [x3, y3, t3]]) ➞ (xb, yb)\n",
        "# # Bomb location\n",
        "# Examples\n",
        "# bomb([[0, 0, 72.886], [0, 50, 72.886], [25, 25, 72.886]]) ➞ (0, 25)\n",
        "\n",
        "# bomb([[0, 50, 145.773], [50, 50, 206.154], [50, 0, 145.773]]) ➞ (0, 0)\n",
        "\n",
        "# bomb([[5, 8, 48.872], [12, 21, 35.107], [24, 20, 22.203]]) ➞ (21, 13)\n",
        "\n",
        "# bomb([[18, 42, 35.558], [39, 16, 106.004], [7, 24, 32.202]]) ➞ (8, 35)\n",
        "# Notes :\n",
        "# The origin is at one corner of the square field so all the coordinates are positive integers in km units.\n",
        "# The bomb's coordinates are integers.\n",
        "# The speed of sound in air is 0.343 km/sec.\n",
        "\n",
        "# Hint:\n",
        "# Assuming bomb coordinates. as x0,y0\n",
        "# Solve three equations distance between\n",
        "# x1,y1 to x0, y0 is t1 * 0.343 (Sound of speed)\n",
        "# x2,y2 to x0, y0 is t2 * 0.343 (Sound of speed)\n",
        "# x3,y3 to x0, y0 is t3 * 0.343 (Sound of speed)\n",
        "\n",
        "# Solution :\n",
        "# If Input is [[x1,y1,t1],[x2,y2,t2],[x3,y3,t3]]\n",
        "# If you solve for\n",
        "# Assuming bomb coordinates. as x0,y0\n",
        "# Solve three equations distance between\n",
        "# x1,y1 to x0, y0 is t1 * 0.343 (Sound of speed)\n",
        "# x2,y2 to x0, y0 is t2 * 0.343 (Sound of speed)\n",
        "# x3,y3 to x0, y0 is t3 * 0.343 (Sound of speed)\n",
        "\n",
        "# Result will be this - Try to solve it on your own\n",
        "\n",
        "# x0 = round(c1/a1 - (b1/a1*((c1*a2 - c2*a1)/ (b1*a2 - a1*b2))\n",
        "# y0 = round((c1 * a2 - c2 * a1) / ( b1* a2 - a1*b2 ))\n",
        "\n",
        "# Where\n",
        "# a1 = (x2-x1)\n",
        "# a2 = (x3-x1)\n",
        "# b1 = (y2 -y1)\n",
        "# b2 = (y3-y1)\n",
        "# d1 = t1 * 0.343\n",
        "# d2 = t2 * 0.343\n",
        "# d3 = t3 * 0.343\n",
        "# c1 = ((d1**2 - (x1**2 + y1**2)) - (d2**2 - (x2**2+y2**2)))/2\n",
        "# c2 = ((d1**2 - (x1**2 + y1**2)) - (d3**2 - (x3**2+y3**2)))/2\n",
        "\n"
      ],
      "metadata": {
        "id": "Xzb1PQ3e0_Kx"
      },
      "execution_count": null,
      "outputs": []
    },
    {
      "cell_type": "code",
      "source": [
        "# Solution\n",
        "def bomb_coordinates(input):\n",
        "  x1 = input[0][0]\n",
        "  y1 = input[0][1]\n",
        "  t1 = input[0][2]\n",
        "  x2 = input[1][0]\n",
        "  y2 = input[1][1]\n",
        "  t2 = input[1][2]\n",
        "  x3 = input[2][0]\n",
        "  y3 = input[2][1]\n",
        "  t3 = input[2][2]\n",
        "  a1 = (x2-x1) + 0.000000001 # To avoid 0 division\n",
        "  a2 = (x3-x1) + 0.000000001 # To avoid 0 division\n",
        "  b1 = (y2 -y1) + 0.000000001 # To avoid 0 division\n",
        "  b2 = (y3-y1) + 0.000000001 # To avoid 0 division\n",
        "  d1 = t1 * 0.343\n",
        "  d2 = t2 * 0.343\n",
        "  d3 = t3 * 0.343\n",
        "  c1 = ((d1**2 - (x1**2 + y1**2)) - (d2**2 - (x2**2+y2**2)))/2\n",
        "  c2 = ((d1**2 - (x1**2 + y1**2)) - (d3**2 - (x3**2+y3**2)))/2\n",
        "\n",
        "  x0 = round(c1/a1 - (b1/a1*((c1*a2 - c2*a1)/ (b1*a2 - a1*b2))))\n",
        "  y0 = round((c1 * a2 - c2 * a1) / ( b1* a2 - a1*b2 ))\n",
        "\n",
        "  return (x0,y0)\n"
      ],
      "metadata": {
        "id": "yreIGAbouiqC"
      },
      "execution_count": null,
      "outputs": []
    },
    {
      "cell_type": "code",
      "source": [
        "bomb_coordinates(input = [[0, 0, 72.886], [0, 50, 72.886], [25, 25, 72.886]])"
      ],
      "metadata": {
        "colab": {
          "base_uri": "https://localhost:8080/"
        },
        "id": "qgxYWJEluwzU",
        "outputId": "6a5c286c-406a-4e47-dacd-53bcdb762369"
      },
      "execution_count": null,
      "outputs": [
        {
          "output_type": "execute_result",
          "data": {
            "text/plain": [
              "(0, 25)"
            ]
          },
          "metadata": {},
          "execution_count": 17
        }
      ]
    },
    {
      "cell_type": "code",
      "source": [
        "bomb_coordinates(input = [[0, 50, 145.773], [50, 50, 206.154], [50, 0, 145.773]])"
      ],
      "metadata": {
        "colab": {
          "base_uri": "https://localhost:8080/"
        },
        "id": "nFa8ksvHhc7Q",
        "outputId": "e59c0264-6f42-409d-f968-8541b01e13cd"
      },
      "execution_count": null,
      "outputs": [
        {
          "output_type": "execute_result",
          "data": {
            "text/plain": [
              "(0, 0)"
            ]
          },
          "metadata": {},
          "execution_count": 18
        }
      ]
    },
    {
      "cell_type": "code",
      "source": [
        "bomb_coordinates(input = [[5, 8, 48.872], [12, 21, 35.107], [24, 20, 22.203]])"
      ],
      "metadata": {
        "colab": {
          "base_uri": "https://localhost:8080/"
        },
        "id": "3bci1qyziAUf",
        "outputId": "3e180810-a4f0-42ee-f37b-b55885694a84"
      },
      "execution_count": null,
      "outputs": [
        {
          "output_type": "execute_result",
          "data": {
            "text/plain": [
              "(21, 13)"
            ]
          },
          "metadata": {},
          "execution_count": 19
        }
      ]
    },
    {
      "cell_type": "code",
      "source": [
        "bomb_coordinates(input = [[18, 42, 35.558], [39, 16, 106.004], [7, 24, 32.202]])"
      ],
      "metadata": {
        "id": "XJ6osOuPiEQ6",
        "outputId": "66f68bdb-7a79-42b0-a276-3f058b69f0ba",
        "colab": {
          "base_uri": "https://localhost:8080/"
        }
      },
      "execution_count": null,
      "outputs": [
        {
          "output_type": "execute_result",
          "data": {
            "text/plain": [
              "(8, 35)"
            ]
          },
          "metadata": {},
          "execution_count": 20
        }
      ]
    },
    {
      "cell_type": "code",
      "source": [],
      "metadata": {
        "id": "iZKqKMtbiIJ-"
      },
      "execution_count": null,
      "outputs": []
    },
    {
      "cell_type": "code",
      "source": [],
      "metadata": {
        "colab": {
          "base_uri": "https://localhost:8080/"
        },
        "id": "zrXoNq7rKSyW",
        "outputId": "0abd994f-d349-4129-d32c-d6f1649a6bef"
      },
      "execution_count": null,
      "outputs": [
        {
          "output_type": "stream",
          "name": "stdout",
          "text": [
            "210\n",
            "12\n"
          ]
        }
      ]
    },
    {
      "cell_type": "code",
      "source": [
        "def fibonacci(n):\n",
        "    # Base case: if n is 0 or 1, Fibonacci number is n\n",
        "    if n <= 1:\n",
        "        return n\n",
        "    else:\n",
        "        # Recursive case: Fibonacci number is sum of previous two Fibonacci numbers\n",
        "        return fibonacci(n-1) + fibonacci(n-2)\n",
        "\n",
        "# Example usage:\n",
        "terms = 1  # Change this value to generate Fibonacci series up to a different number of terms\n",
        "print(\"Fibonacci series up to\", terms, \"terms:\")\n",
        "for i in range(terms):\n",
        "    print(fibonacci(i), end=\" \")\n"
      ],
      "metadata": {
        "id": "u31Mbs1mKmEz",
        "outputId": "01617e6a-287b-40f0-e73e-486d0ea4016d",
        "colab": {
          "base_uri": "https://localhost:8080/"
        }
      },
      "execution_count": null,
      "outputs": [
        {
          "output_type": "stream",
          "name": "stdout",
          "text": [
            "Fibonacci series up to 1 terms:\n",
            "0 "
          ]
        }
      ]
    },
    {
      "cell_type": "code",
      "source": [
        "fibonacci(10)"
      ],
      "metadata": {
        "id": "TnzfFwfO6F5O",
        "outputId": "1b2e9ec0-1203-4a9e-ab25-cb1c8c8007c3",
        "colab": {
          "base_uri": "https://localhost:8080/"
        }
      },
      "execution_count": null,
      "outputs": [
        {
          "output_type": "execute_result",
          "data": {
            "text/plain": [
              "55"
            ]
          },
          "metadata": {},
          "execution_count": 60
        }
      ]
    },
    {
      "cell_type": "code",
      "source": [],
      "metadata": {
        "id": "yvYAG8LT5-Iz",
        "outputId": "c80581ce-3a67-46f5-90a1-e758942a9858",
        "colab": {
          "base_uri": "https://localhost:8080/",
          "height": 298
        }
      },
      "execution_count": null,
      "outputs": [
        {
          "output_type": "error",
          "ename": "KeyboardInterrupt",
          "evalue": "",
          "traceback": [
            "\u001b[0;31m---------------------------------------------------------------------------\u001b[0m",
            "\u001b[0;31mKeyboardInterrupt\u001b[0m                         Traceback (most recent call last)",
            "\u001b[0;32m<ipython-input-57-4aa0aa3c987a>\u001b[0m in \u001b[0;36m<cell line: 1>\u001b[0;34m()\u001b[0m\n\u001b[0;32m----> 1\u001b[0;31m \u001b[0mfibonacci\u001b[0m\u001b[0;34m(\u001b[0m\u001b[0;36m45\u001b[0m\u001b[0;34m)\u001b[0m\u001b[0;34m\u001b[0m\u001b[0;34m\u001b[0m\u001b[0m\n\u001b[0m",
            "\u001b[0;32m<ipython-input-51-5319eeeba83f>\u001b[0m in \u001b[0;36mfibonacci\u001b[0;34m(n)\u001b[0m\n\u001b[1;32m      5\u001b[0m     \u001b[0;32melse\u001b[0m\u001b[0;34m:\u001b[0m\u001b[0;34m\u001b[0m\u001b[0;34m\u001b[0m\u001b[0m\n\u001b[1;32m      6\u001b[0m         \u001b[0;31m# Recursive case: Fibonacci number is sum of previous two Fibonacci numbers\u001b[0m\u001b[0;34m\u001b[0m\u001b[0;34m\u001b[0m\u001b[0m\n\u001b[0;32m----> 7\u001b[0;31m         \u001b[0;32mreturn\u001b[0m \u001b[0mfibonacci\u001b[0m\u001b[0;34m(\u001b[0m\u001b[0mn\u001b[0m\u001b[0;34m-\u001b[0m\u001b[0;36m1\u001b[0m\u001b[0;34m)\u001b[0m \u001b[0;34m+\u001b[0m \u001b[0mfibonacci\u001b[0m\u001b[0;34m(\u001b[0m\u001b[0mn\u001b[0m\u001b[0;34m-\u001b[0m\u001b[0;36m2\u001b[0m\u001b[0;34m)\u001b[0m\u001b[0;34m\u001b[0m\u001b[0;34m\u001b[0m\u001b[0m\n\u001b[0m\u001b[1;32m      8\u001b[0m \u001b[0;34m\u001b[0m\u001b[0m\n\u001b[1;32m      9\u001b[0m \u001b[0;31m# Example usage:\u001b[0m\u001b[0;34m\u001b[0m\u001b[0;34m\u001b[0m\u001b[0m\n",
            "\u001b[0;32m<ipython-input-51-5319eeeba83f>\u001b[0m in \u001b[0;36mfibonacci\u001b[0;34m(n)\u001b[0m\n\u001b[1;32m      5\u001b[0m     \u001b[0;32melse\u001b[0m\u001b[0;34m:\u001b[0m\u001b[0;34m\u001b[0m\u001b[0;34m\u001b[0m\u001b[0m\n\u001b[1;32m      6\u001b[0m         \u001b[0;31m# Recursive case: Fibonacci number is sum of previous two Fibonacci numbers\u001b[0m\u001b[0;34m\u001b[0m\u001b[0;34m\u001b[0m\u001b[0m\n\u001b[0;32m----> 7\u001b[0;31m         \u001b[0;32mreturn\u001b[0m \u001b[0mfibonacci\u001b[0m\u001b[0;34m(\u001b[0m\u001b[0mn\u001b[0m\u001b[0;34m-\u001b[0m\u001b[0;36m1\u001b[0m\u001b[0;34m)\u001b[0m \u001b[0;34m+\u001b[0m \u001b[0mfibonacci\u001b[0m\u001b[0;34m(\u001b[0m\u001b[0mn\u001b[0m\u001b[0;34m-\u001b[0m\u001b[0;36m2\u001b[0m\u001b[0;34m)\u001b[0m\u001b[0;34m\u001b[0m\u001b[0;34m\u001b[0m\u001b[0m\n\u001b[0m\u001b[1;32m      8\u001b[0m \u001b[0;34m\u001b[0m\u001b[0m\n\u001b[1;32m      9\u001b[0m \u001b[0;31m# Example usage:\u001b[0m\u001b[0;34m\u001b[0m\u001b[0;34m\u001b[0m\u001b[0m\n",
            "\u001b[0;32m<ipython-input-51-5319eeeba83f>\u001b[0m in \u001b[0;36mfibonacci\u001b[0;34m(n)\u001b[0m\n\u001b[1;32m      5\u001b[0m     \u001b[0;32melse\u001b[0m\u001b[0;34m:\u001b[0m\u001b[0;34m\u001b[0m\u001b[0;34m\u001b[0m\u001b[0m\n\u001b[1;32m      6\u001b[0m         \u001b[0;31m# Recursive case: Fibonacci number is sum of previous two Fibonacci numbers\u001b[0m\u001b[0;34m\u001b[0m\u001b[0;34m\u001b[0m\u001b[0m\n\u001b[0;32m----> 7\u001b[0;31m         \u001b[0;32mreturn\u001b[0m \u001b[0mfibonacci\u001b[0m\u001b[0;34m(\u001b[0m\u001b[0mn\u001b[0m\u001b[0;34m-\u001b[0m\u001b[0;36m1\u001b[0m\u001b[0;34m)\u001b[0m \u001b[0;34m+\u001b[0m \u001b[0mfibonacci\u001b[0m\u001b[0;34m(\u001b[0m\u001b[0mn\u001b[0m\u001b[0;34m-\u001b[0m\u001b[0;36m2\u001b[0m\u001b[0;34m)\u001b[0m\u001b[0;34m\u001b[0m\u001b[0;34m\u001b[0m\u001b[0m\n\u001b[0m\u001b[1;32m      8\u001b[0m \u001b[0;34m\u001b[0m\u001b[0m\n\u001b[1;32m      9\u001b[0m \u001b[0;31m# Example usage:\u001b[0m\u001b[0;34m\u001b[0m\u001b[0;34m\u001b[0m\u001b[0m\n",
            "\u001b[0;32m<ipython-input-51-5319eeeba83f>\u001b[0m in \u001b[0;36mfibonacci\u001b[0;34m(n)\u001b[0m\n\u001b[1;32m      5\u001b[0m     \u001b[0;32melse\u001b[0m\u001b[0;34m:\u001b[0m\u001b[0;34m\u001b[0m\u001b[0;34m\u001b[0m\u001b[0m\n\u001b[1;32m      6\u001b[0m         \u001b[0;31m# Recursive case: Fibonacci number is sum of previous two Fibonacci numbers\u001b[0m\u001b[0;34m\u001b[0m\u001b[0;34m\u001b[0m\u001b[0m\n\u001b[0;32m----> 7\u001b[0;31m         \u001b[0;32mreturn\u001b[0m \u001b[0mfibonacci\u001b[0m\u001b[0;34m(\u001b[0m\u001b[0mn\u001b[0m\u001b[0;34m-\u001b[0m\u001b[0;36m1\u001b[0m\u001b[0;34m)\u001b[0m \u001b[0;34m+\u001b[0m \u001b[0mfibonacci\u001b[0m\u001b[0;34m(\u001b[0m\u001b[0mn\u001b[0m\u001b[0;34m-\u001b[0m\u001b[0;36m2\u001b[0m\u001b[0;34m)\u001b[0m\u001b[0;34m\u001b[0m\u001b[0;34m\u001b[0m\u001b[0m\n\u001b[0m\u001b[1;32m      8\u001b[0m \u001b[0;34m\u001b[0m\u001b[0m\n\u001b[1;32m      9\u001b[0m \u001b[0;31m# Example usage:\u001b[0m\u001b[0;34m\u001b[0m\u001b[0;34m\u001b[0m\u001b[0m\n",
            "\u001b[0;32m<ipython-input-51-5319eeeba83f>\u001b[0m in \u001b[0;36mfibonacci\u001b[0;34m(n)\u001b[0m\n\u001b[1;32m      5\u001b[0m     \u001b[0;32melse\u001b[0m\u001b[0;34m:\u001b[0m\u001b[0;34m\u001b[0m\u001b[0;34m\u001b[0m\u001b[0m\n\u001b[1;32m      6\u001b[0m         \u001b[0;31m# Recursive case: Fibonacci number is sum of previous two Fibonacci numbers\u001b[0m\u001b[0;34m\u001b[0m\u001b[0;34m\u001b[0m\u001b[0m\n\u001b[0;32m----> 7\u001b[0;31m         \u001b[0;32mreturn\u001b[0m \u001b[0mfibonacci\u001b[0m\u001b[0;34m(\u001b[0m\u001b[0mn\u001b[0m\u001b[0;34m-\u001b[0m\u001b[0;36m1\u001b[0m\u001b[0;34m)\u001b[0m \u001b[0;34m+\u001b[0m \u001b[0mfibonacci\u001b[0m\u001b[0;34m(\u001b[0m\u001b[0mn\u001b[0m\u001b[0;34m-\u001b[0m\u001b[0;36m2\u001b[0m\u001b[0;34m)\u001b[0m\u001b[0;34m\u001b[0m\u001b[0;34m\u001b[0m\u001b[0m\n\u001b[0m\u001b[1;32m      8\u001b[0m \u001b[0;34m\u001b[0m\u001b[0m\n\u001b[1;32m      9\u001b[0m \u001b[0;31m# Example usage:\u001b[0m\u001b[0;34m\u001b[0m\u001b[0;34m\u001b[0m\u001b[0m\n",
            "\u001b[0;32m<ipython-input-51-5319eeeba83f>\u001b[0m in \u001b[0;36mfibonacci\u001b[0;34m(n)\u001b[0m\n\u001b[1;32m      5\u001b[0m     \u001b[0;32melse\u001b[0m\u001b[0;34m:\u001b[0m\u001b[0;34m\u001b[0m\u001b[0;34m\u001b[0m\u001b[0m\n\u001b[1;32m      6\u001b[0m         \u001b[0;31m# Recursive case: Fibonacci number is sum of previous two Fibonacci numbers\u001b[0m\u001b[0;34m\u001b[0m\u001b[0;34m\u001b[0m\u001b[0m\n\u001b[0;32m----> 7\u001b[0;31m         \u001b[0;32mreturn\u001b[0m \u001b[0mfibonacci\u001b[0m\u001b[0;34m(\u001b[0m\u001b[0mn\u001b[0m\u001b[0;34m-\u001b[0m\u001b[0;36m1\u001b[0m\u001b[0;34m)\u001b[0m \u001b[0;34m+\u001b[0m \u001b[0mfibonacci\u001b[0m\u001b[0;34m(\u001b[0m\u001b[0mn\u001b[0m\u001b[0;34m-\u001b[0m\u001b[0;36m2\u001b[0m\u001b[0;34m)\u001b[0m\u001b[0;34m\u001b[0m\u001b[0;34m\u001b[0m\u001b[0m\n\u001b[0m\u001b[1;32m      8\u001b[0m \u001b[0;34m\u001b[0m\u001b[0m\n\u001b[1;32m      9\u001b[0m \u001b[0;31m# Example usage:\u001b[0m\u001b[0;34m\u001b[0m\u001b[0;34m\u001b[0m\u001b[0m\n",
            "\u001b[0;32m<ipython-input-51-5319eeeba83f>\u001b[0m in \u001b[0;36mfibonacci\u001b[0;34m(n)\u001b[0m\n\u001b[1;32m      5\u001b[0m     \u001b[0;32melse\u001b[0m\u001b[0;34m:\u001b[0m\u001b[0;34m\u001b[0m\u001b[0;34m\u001b[0m\u001b[0m\n\u001b[1;32m      6\u001b[0m         \u001b[0;31m# Recursive case: Fibonacci number is sum of previous two Fibonacci numbers\u001b[0m\u001b[0;34m\u001b[0m\u001b[0;34m\u001b[0m\u001b[0m\n\u001b[0;32m----> 7\u001b[0;31m         \u001b[0;32mreturn\u001b[0m \u001b[0mfibonacci\u001b[0m\u001b[0;34m(\u001b[0m\u001b[0mn\u001b[0m\u001b[0;34m-\u001b[0m\u001b[0;36m1\u001b[0m\u001b[0;34m)\u001b[0m \u001b[0;34m+\u001b[0m \u001b[0mfibonacci\u001b[0m\u001b[0;34m(\u001b[0m\u001b[0mn\u001b[0m\u001b[0;34m-\u001b[0m\u001b[0;36m2\u001b[0m\u001b[0;34m)\u001b[0m\u001b[0;34m\u001b[0m\u001b[0;34m\u001b[0m\u001b[0m\n\u001b[0m\u001b[1;32m      8\u001b[0m \u001b[0;34m\u001b[0m\u001b[0m\n\u001b[1;32m      9\u001b[0m \u001b[0;31m# Example usage:\u001b[0m\u001b[0;34m\u001b[0m\u001b[0;34m\u001b[0m\u001b[0m\n",
            "\u001b[0;32m<ipython-input-51-5319eeeba83f>\u001b[0m in \u001b[0;36mfibonacci\u001b[0;34m(n)\u001b[0m\n\u001b[1;32m      5\u001b[0m     \u001b[0;32melse\u001b[0m\u001b[0;34m:\u001b[0m\u001b[0;34m\u001b[0m\u001b[0;34m\u001b[0m\u001b[0m\n\u001b[1;32m      6\u001b[0m         \u001b[0;31m# Recursive case: Fibonacci number is sum of previous two Fibonacci numbers\u001b[0m\u001b[0;34m\u001b[0m\u001b[0;34m\u001b[0m\u001b[0m\n\u001b[0;32m----> 7\u001b[0;31m         \u001b[0;32mreturn\u001b[0m \u001b[0mfibonacci\u001b[0m\u001b[0;34m(\u001b[0m\u001b[0mn\u001b[0m\u001b[0;34m-\u001b[0m\u001b[0;36m1\u001b[0m\u001b[0;34m)\u001b[0m \u001b[0;34m+\u001b[0m \u001b[0mfibonacci\u001b[0m\u001b[0;34m(\u001b[0m\u001b[0mn\u001b[0m\u001b[0;34m-\u001b[0m\u001b[0;36m2\u001b[0m\u001b[0;34m)\u001b[0m\u001b[0;34m\u001b[0m\u001b[0;34m\u001b[0m\u001b[0m\n\u001b[0m\u001b[1;32m      8\u001b[0m \u001b[0;34m\u001b[0m\u001b[0m\n\u001b[1;32m      9\u001b[0m \u001b[0;31m# Example usage:\u001b[0m\u001b[0;34m\u001b[0m\u001b[0;34m\u001b[0m\u001b[0m\n",
            "\u001b[0;32m<ipython-input-51-5319eeeba83f>\u001b[0m in \u001b[0;36mfibonacci\u001b[0;34m(n)\u001b[0m\n\u001b[1;32m      5\u001b[0m     \u001b[0;32melse\u001b[0m\u001b[0;34m:\u001b[0m\u001b[0;34m\u001b[0m\u001b[0;34m\u001b[0m\u001b[0m\n\u001b[1;32m      6\u001b[0m         \u001b[0;31m# Recursive case: Fibonacci number is sum of previous two Fibonacci numbers\u001b[0m\u001b[0;34m\u001b[0m\u001b[0;34m\u001b[0m\u001b[0m\n\u001b[0;32m----> 7\u001b[0;31m         \u001b[0;32mreturn\u001b[0m \u001b[0mfibonacci\u001b[0m\u001b[0;34m(\u001b[0m\u001b[0mn\u001b[0m\u001b[0;34m-\u001b[0m\u001b[0;36m1\u001b[0m\u001b[0;34m)\u001b[0m \u001b[0;34m+\u001b[0m \u001b[0mfibonacci\u001b[0m\u001b[0;34m(\u001b[0m\u001b[0mn\u001b[0m\u001b[0;34m-\u001b[0m\u001b[0;36m2\u001b[0m\u001b[0;34m)\u001b[0m\u001b[0;34m\u001b[0m\u001b[0;34m\u001b[0m\u001b[0m\n\u001b[0m\u001b[1;32m      8\u001b[0m \u001b[0;34m\u001b[0m\u001b[0m\n\u001b[1;32m      9\u001b[0m \u001b[0;31m# Example usage:\u001b[0m\u001b[0;34m\u001b[0m\u001b[0;34m\u001b[0m\u001b[0m\n",
            "\u001b[0;32m<ipython-input-51-5319eeeba83f>\u001b[0m in \u001b[0;36mfibonacci\u001b[0;34m(n)\u001b[0m\n\u001b[1;32m      5\u001b[0m     \u001b[0;32melse\u001b[0m\u001b[0;34m:\u001b[0m\u001b[0;34m\u001b[0m\u001b[0;34m\u001b[0m\u001b[0m\n\u001b[1;32m      6\u001b[0m         \u001b[0;31m# Recursive case: Fibonacci number is sum of previous two Fibonacci numbers\u001b[0m\u001b[0;34m\u001b[0m\u001b[0;34m\u001b[0m\u001b[0m\n\u001b[0;32m----> 7\u001b[0;31m         \u001b[0;32mreturn\u001b[0m \u001b[0mfibonacci\u001b[0m\u001b[0;34m(\u001b[0m\u001b[0mn\u001b[0m\u001b[0;34m-\u001b[0m\u001b[0;36m1\u001b[0m\u001b[0;34m)\u001b[0m \u001b[0;34m+\u001b[0m \u001b[0mfibonacci\u001b[0m\u001b[0;34m(\u001b[0m\u001b[0mn\u001b[0m\u001b[0;34m-\u001b[0m\u001b[0;36m2\u001b[0m\u001b[0;34m)\u001b[0m\u001b[0;34m\u001b[0m\u001b[0;34m\u001b[0m\u001b[0m\n\u001b[0m\u001b[1;32m      8\u001b[0m \u001b[0;34m\u001b[0m\u001b[0m\n\u001b[1;32m      9\u001b[0m \u001b[0;31m# Example usage:\u001b[0m\u001b[0;34m\u001b[0m\u001b[0;34m\u001b[0m\u001b[0m\n",
            "\u001b[0;32m<ipython-input-51-5319eeeba83f>\u001b[0m in \u001b[0;36mfibonacci\u001b[0;34m(n)\u001b[0m\n\u001b[1;32m      5\u001b[0m     \u001b[0;32melse\u001b[0m\u001b[0;34m:\u001b[0m\u001b[0;34m\u001b[0m\u001b[0;34m\u001b[0m\u001b[0m\n\u001b[1;32m      6\u001b[0m         \u001b[0;31m# Recursive case: Fibonacci number is sum of previous two Fibonacci numbers\u001b[0m\u001b[0;34m\u001b[0m\u001b[0;34m\u001b[0m\u001b[0m\n\u001b[0;32m----> 7\u001b[0;31m         \u001b[0;32mreturn\u001b[0m \u001b[0mfibonacci\u001b[0m\u001b[0;34m(\u001b[0m\u001b[0mn\u001b[0m\u001b[0;34m-\u001b[0m\u001b[0;36m1\u001b[0m\u001b[0;34m)\u001b[0m \u001b[0;34m+\u001b[0m \u001b[0mfibonacci\u001b[0m\u001b[0;34m(\u001b[0m\u001b[0mn\u001b[0m\u001b[0;34m-\u001b[0m\u001b[0;36m2\u001b[0m\u001b[0;34m)\u001b[0m\u001b[0;34m\u001b[0m\u001b[0;34m\u001b[0m\u001b[0m\n\u001b[0m\u001b[1;32m      8\u001b[0m \u001b[0;34m\u001b[0m\u001b[0m\n\u001b[1;32m      9\u001b[0m \u001b[0;31m# Example usage:\u001b[0m\u001b[0;34m\u001b[0m\u001b[0;34m\u001b[0m\u001b[0m\n",
            "\u001b[0;32m<ipython-input-51-5319eeeba83f>\u001b[0m in \u001b[0;36mfibonacci\u001b[0;34m(n)\u001b[0m\n\u001b[1;32m      5\u001b[0m     \u001b[0;32melse\u001b[0m\u001b[0;34m:\u001b[0m\u001b[0;34m\u001b[0m\u001b[0;34m\u001b[0m\u001b[0m\n\u001b[1;32m      6\u001b[0m         \u001b[0;31m# Recursive case: Fibonacci number is sum of previous two Fibonacci numbers\u001b[0m\u001b[0;34m\u001b[0m\u001b[0;34m\u001b[0m\u001b[0m\n\u001b[0;32m----> 7\u001b[0;31m         \u001b[0;32mreturn\u001b[0m \u001b[0mfibonacci\u001b[0m\u001b[0;34m(\u001b[0m\u001b[0mn\u001b[0m\u001b[0;34m-\u001b[0m\u001b[0;36m1\u001b[0m\u001b[0;34m)\u001b[0m \u001b[0;34m+\u001b[0m \u001b[0mfibonacci\u001b[0m\u001b[0;34m(\u001b[0m\u001b[0mn\u001b[0m\u001b[0;34m-\u001b[0m\u001b[0;36m2\u001b[0m\u001b[0;34m)\u001b[0m\u001b[0;34m\u001b[0m\u001b[0;34m\u001b[0m\u001b[0m\n\u001b[0m\u001b[1;32m      8\u001b[0m \u001b[0;34m\u001b[0m\u001b[0m\n\u001b[1;32m      9\u001b[0m \u001b[0;31m# Example usage:\u001b[0m\u001b[0;34m\u001b[0m\u001b[0;34m\u001b[0m\u001b[0m\n",
            "\u001b[0;32m<ipython-input-51-5319eeeba83f>\u001b[0m in \u001b[0;36mfibonacci\u001b[0;34m(n)\u001b[0m\n\u001b[1;32m      5\u001b[0m     \u001b[0;32melse\u001b[0m\u001b[0;34m:\u001b[0m\u001b[0;34m\u001b[0m\u001b[0;34m\u001b[0m\u001b[0m\n\u001b[1;32m      6\u001b[0m         \u001b[0;31m# Recursive case: Fibonacci number is sum of previous two Fibonacci numbers\u001b[0m\u001b[0;34m\u001b[0m\u001b[0;34m\u001b[0m\u001b[0m\n\u001b[0;32m----> 7\u001b[0;31m         \u001b[0;32mreturn\u001b[0m \u001b[0mfibonacci\u001b[0m\u001b[0;34m(\u001b[0m\u001b[0mn\u001b[0m\u001b[0;34m-\u001b[0m\u001b[0;36m1\u001b[0m\u001b[0;34m)\u001b[0m \u001b[0;34m+\u001b[0m \u001b[0mfibonacci\u001b[0m\u001b[0;34m(\u001b[0m\u001b[0mn\u001b[0m\u001b[0;34m-\u001b[0m\u001b[0;36m2\u001b[0m\u001b[0;34m)\u001b[0m\u001b[0;34m\u001b[0m\u001b[0;34m\u001b[0m\u001b[0m\n\u001b[0m\u001b[1;32m      8\u001b[0m \u001b[0;34m\u001b[0m\u001b[0m\n\u001b[1;32m      9\u001b[0m \u001b[0;31m# Example usage:\u001b[0m\u001b[0;34m\u001b[0m\u001b[0;34m\u001b[0m\u001b[0m\n",
            "\u001b[0;32m<ipython-input-51-5319eeeba83f>\u001b[0m in \u001b[0;36mfibonacci\u001b[0;34m(n)\u001b[0m\n\u001b[1;32m      5\u001b[0m     \u001b[0;32melse\u001b[0m\u001b[0;34m:\u001b[0m\u001b[0;34m\u001b[0m\u001b[0;34m\u001b[0m\u001b[0m\n\u001b[1;32m      6\u001b[0m         \u001b[0;31m# Recursive case: Fibonacci number is sum of previous two Fibonacci numbers\u001b[0m\u001b[0;34m\u001b[0m\u001b[0;34m\u001b[0m\u001b[0m\n\u001b[0;32m----> 7\u001b[0;31m         \u001b[0;32mreturn\u001b[0m \u001b[0mfibonacci\u001b[0m\u001b[0;34m(\u001b[0m\u001b[0mn\u001b[0m\u001b[0;34m-\u001b[0m\u001b[0;36m1\u001b[0m\u001b[0;34m)\u001b[0m \u001b[0;34m+\u001b[0m \u001b[0mfibonacci\u001b[0m\u001b[0;34m(\u001b[0m\u001b[0mn\u001b[0m\u001b[0;34m-\u001b[0m\u001b[0;36m2\u001b[0m\u001b[0;34m)\u001b[0m\u001b[0;34m\u001b[0m\u001b[0;34m\u001b[0m\u001b[0m\n\u001b[0m\u001b[1;32m      8\u001b[0m \u001b[0;34m\u001b[0m\u001b[0m\n\u001b[1;32m      9\u001b[0m \u001b[0;31m# Example usage:\u001b[0m\u001b[0;34m\u001b[0m\u001b[0;34m\u001b[0m\u001b[0m\n",
            "\u001b[0;32m<ipython-input-51-5319eeeba83f>\u001b[0m in \u001b[0;36mfibonacci\u001b[0;34m(n)\u001b[0m\n\u001b[1;32m      5\u001b[0m     \u001b[0;32melse\u001b[0m\u001b[0;34m:\u001b[0m\u001b[0;34m\u001b[0m\u001b[0;34m\u001b[0m\u001b[0m\n\u001b[1;32m      6\u001b[0m         \u001b[0;31m# Recursive case: Fibonacci number is sum of previous two Fibonacci numbers\u001b[0m\u001b[0;34m\u001b[0m\u001b[0;34m\u001b[0m\u001b[0m\n\u001b[0;32m----> 7\u001b[0;31m         \u001b[0;32mreturn\u001b[0m \u001b[0mfibonacci\u001b[0m\u001b[0;34m(\u001b[0m\u001b[0mn\u001b[0m\u001b[0;34m-\u001b[0m\u001b[0;36m1\u001b[0m\u001b[0;34m)\u001b[0m \u001b[0;34m+\u001b[0m \u001b[0mfibonacci\u001b[0m\u001b[0;34m(\u001b[0m\u001b[0mn\u001b[0m\u001b[0;34m-\u001b[0m\u001b[0;36m2\u001b[0m\u001b[0;34m)\u001b[0m\u001b[0;34m\u001b[0m\u001b[0;34m\u001b[0m\u001b[0m\n\u001b[0m\u001b[1;32m      8\u001b[0m \u001b[0;34m\u001b[0m\u001b[0m\n\u001b[1;32m      9\u001b[0m \u001b[0;31m# Example usage:\u001b[0m\u001b[0;34m\u001b[0m\u001b[0;34m\u001b[0m\u001b[0m\n",
            "\u001b[0;32m<ipython-input-51-5319eeeba83f>\u001b[0m in \u001b[0;36mfibonacci\u001b[0;34m(n)\u001b[0m\n\u001b[1;32m      5\u001b[0m     \u001b[0;32melse\u001b[0m\u001b[0;34m:\u001b[0m\u001b[0;34m\u001b[0m\u001b[0;34m\u001b[0m\u001b[0m\n\u001b[1;32m      6\u001b[0m         \u001b[0;31m# Recursive case: Fibonacci number is sum of previous two Fibonacci numbers\u001b[0m\u001b[0;34m\u001b[0m\u001b[0;34m\u001b[0m\u001b[0m\n\u001b[0;32m----> 7\u001b[0;31m         \u001b[0;32mreturn\u001b[0m \u001b[0mfibonacci\u001b[0m\u001b[0;34m(\u001b[0m\u001b[0mn\u001b[0m\u001b[0;34m-\u001b[0m\u001b[0;36m1\u001b[0m\u001b[0;34m)\u001b[0m \u001b[0;34m+\u001b[0m \u001b[0mfibonacci\u001b[0m\u001b[0;34m(\u001b[0m\u001b[0mn\u001b[0m\u001b[0;34m-\u001b[0m\u001b[0;36m2\u001b[0m\u001b[0;34m)\u001b[0m\u001b[0;34m\u001b[0m\u001b[0;34m\u001b[0m\u001b[0m\n\u001b[0m\u001b[1;32m      8\u001b[0m \u001b[0;34m\u001b[0m\u001b[0m\n\u001b[1;32m      9\u001b[0m \u001b[0;31m# Example usage:\u001b[0m\u001b[0;34m\u001b[0m\u001b[0;34m\u001b[0m\u001b[0m\n",
            "\u001b[0;32m<ipython-input-51-5319eeeba83f>\u001b[0m in \u001b[0;36mfibonacci\u001b[0;34m(n)\u001b[0m\n\u001b[1;32m      5\u001b[0m     \u001b[0;32melse\u001b[0m\u001b[0;34m:\u001b[0m\u001b[0;34m\u001b[0m\u001b[0;34m\u001b[0m\u001b[0m\n\u001b[1;32m      6\u001b[0m         \u001b[0;31m# Recursive case: Fibonacci number is sum of previous two Fibonacci numbers\u001b[0m\u001b[0;34m\u001b[0m\u001b[0;34m\u001b[0m\u001b[0m\n\u001b[0;32m----> 7\u001b[0;31m         \u001b[0;32mreturn\u001b[0m \u001b[0mfibonacci\u001b[0m\u001b[0;34m(\u001b[0m\u001b[0mn\u001b[0m\u001b[0;34m-\u001b[0m\u001b[0;36m1\u001b[0m\u001b[0;34m)\u001b[0m \u001b[0;34m+\u001b[0m \u001b[0mfibonacci\u001b[0m\u001b[0;34m(\u001b[0m\u001b[0mn\u001b[0m\u001b[0;34m-\u001b[0m\u001b[0;36m2\u001b[0m\u001b[0;34m)\u001b[0m\u001b[0;34m\u001b[0m\u001b[0;34m\u001b[0m\u001b[0m\n\u001b[0m\u001b[1;32m      8\u001b[0m \u001b[0;34m\u001b[0m\u001b[0m\n\u001b[1;32m      9\u001b[0m \u001b[0;31m# Example usage:\u001b[0m\u001b[0;34m\u001b[0m\u001b[0;34m\u001b[0m\u001b[0m\n",
            "\u001b[0;32m<ipython-input-51-5319eeeba83f>\u001b[0m in \u001b[0;36mfibonacci\u001b[0;34m(n)\u001b[0m\n\u001b[1;32m      5\u001b[0m     \u001b[0;32melse\u001b[0m\u001b[0;34m:\u001b[0m\u001b[0;34m\u001b[0m\u001b[0;34m\u001b[0m\u001b[0m\n\u001b[1;32m      6\u001b[0m         \u001b[0;31m# Recursive case: Fibonacci number is sum of previous two Fibonacci numbers\u001b[0m\u001b[0;34m\u001b[0m\u001b[0;34m\u001b[0m\u001b[0m\n\u001b[0;32m----> 7\u001b[0;31m         \u001b[0;32mreturn\u001b[0m \u001b[0mfibonacci\u001b[0m\u001b[0;34m(\u001b[0m\u001b[0mn\u001b[0m\u001b[0;34m-\u001b[0m\u001b[0;36m1\u001b[0m\u001b[0;34m)\u001b[0m \u001b[0;34m+\u001b[0m \u001b[0mfibonacci\u001b[0m\u001b[0;34m(\u001b[0m\u001b[0mn\u001b[0m\u001b[0;34m-\u001b[0m\u001b[0;36m2\u001b[0m\u001b[0;34m)\u001b[0m\u001b[0;34m\u001b[0m\u001b[0;34m\u001b[0m\u001b[0m\n\u001b[0m\u001b[1;32m      8\u001b[0m \u001b[0;34m\u001b[0m\u001b[0m\n\u001b[1;32m      9\u001b[0m \u001b[0;31m# Example usage:\u001b[0m\u001b[0;34m\u001b[0m\u001b[0;34m\u001b[0m\u001b[0m\n",
            "\u001b[0;32m<ipython-input-51-5319eeeba83f>\u001b[0m in \u001b[0;36mfibonacci\u001b[0;34m(n)\u001b[0m\n\u001b[1;32m      5\u001b[0m     \u001b[0;32melse\u001b[0m\u001b[0;34m:\u001b[0m\u001b[0;34m\u001b[0m\u001b[0;34m\u001b[0m\u001b[0m\n\u001b[1;32m      6\u001b[0m         \u001b[0;31m# Recursive case: Fibonacci number is sum of previous two Fibonacci numbers\u001b[0m\u001b[0;34m\u001b[0m\u001b[0;34m\u001b[0m\u001b[0m\n\u001b[0;32m----> 7\u001b[0;31m         \u001b[0;32mreturn\u001b[0m \u001b[0mfibonacci\u001b[0m\u001b[0;34m(\u001b[0m\u001b[0mn\u001b[0m\u001b[0;34m-\u001b[0m\u001b[0;36m1\u001b[0m\u001b[0;34m)\u001b[0m \u001b[0;34m+\u001b[0m \u001b[0mfibonacci\u001b[0m\u001b[0;34m(\u001b[0m\u001b[0mn\u001b[0m\u001b[0;34m-\u001b[0m\u001b[0;36m2\u001b[0m\u001b[0;34m)\u001b[0m\u001b[0;34m\u001b[0m\u001b[0;34m\u001b[0m\u001b[0m\n\u001b[0m\u001b[1;32m      8\u001b[0m \u001b[0;34m\u001b[0m\u001b[0m\n\u001b[1;32m      9\u001b[0m \u001b[0;31m# Example usage:\u001b[0m\u001b[0;34m\u001b[0m\u001b[0;34m\u001b[0m\u001b[0m\n",
            "\u001b[0;32m<ipython-input-51-5319eeeba83f>\u001b[0m in \u001b[0;36mfibonacci\u001b[0;34m(n)\u001b[0m\n\u001b[1;32m      5\u001b[0m     \u001b[0;32melse\u001b[0m\u001b[0;34m:\u001b[0m\u001b[0;34m\u001b[0m\u001b[0;34m\u001b[0m\u001b[0m\n\u001b[1;32m      6\u001b[0m         \u001b[0;31m# Recursive case: Fibonacci number is sum of previous two Fibonacci numbers\u001b[0m\u001b[0;34m\u001b[0m\u001b[0;34m\u001b[0m\u001b[0m\n\u001b[0;32m----> 7\u001b[0;31m         \u001b[0;32mreturn\u001b[0m \u001b[0mfibonacci\u001b[0m\u001b[0;34m(\u001b[0m\u001b[0mn\u001b[0m\u001b[0;34m-\u001b[0m\u001b[0;36m1\u001b[0m\u001b[0;34m)\u001b[0m \u001b[0;34m+\u001b[0m \u001b[0mfibonacci\u001b[0m\u001b[0;34m(\u001b[0m\u001b[0mn\u001b[0m\u001b[0;34m-\u001b[0m\u001b[0;36m2\u001b[0m\u001b[0;34m)\u001b[0m\u001b[0;34m\u001b[0m\u001b[0;34m\u001b[0m\u001b[0m\n\u001b[0m\u001b[1;32m      8\u001b[0m \u001b[0;34m\u001b[0m\u001b[0m\n\u001b[1;32m      9\u001b[0m \u001b[0;31m# Example usage:\u001b[0m\u001b[0;34m\u001b[0m\u001b[0;34m\u001b[0m\u001b[0m\n",
            "\u001b[0;32m<ipython-input-51-5319eeeba83f>\u001b[0m in \u001b[0;36mfibonacci\u001b[0;34m(n)\u001b[0m\n\u001b[1;32m      5\u001b[0m     \u001b[0;32melse\u001b[0m\u001b[0;34m:\u001b[0m\u001b[0;34m\u001b[0m\u001b[0;34m\u001b[0m\u001b[0m\n\u001b[1;32m      6\u001b[0m         \u001b[0;31m# Recursive case: Fibonacci number is sum of previous two Fibonacci numbers\u001b[0m\u001b[0;34m\u001b[0m\u001b[0;34m\u001b[0m\u001b[0m\n\u001b[0;32m----> 7\u001b[0;31m         \u001b[0;32mreturn\u001b[0m \u001b[0mfibonacci\u001b[0m\u001b[0;34m(\u001b[0m\u001b[0mn\u001b[0m\u001b[0;34m-\u001b[0m\u001b[0;36m1\u001b[0m\u001b[0;34m)\u001b[0m \u001b[0;34m+\u001b[0m \u001b[0mfibonacci\u001b[0m\u001b[0;34m(\u001b[0m\u001b[0mn\u001b[0m\u001b[0;34m-\u001b[0m\u001b[0;36m2\u001b[0m\u001b[0;34m)\u001b[0m\u001b[0;34m\u001b[0m\u001b[0;34m\u001b[0m\u001b[0m\n\u001b[0m\u001b[1;32m      8\u001b[0m \u001b[0;34m\u001b[0m\u001b[0m\n\u001b[1;32m      9\u001b[0m \u001b[0;31m# Example usage:\u001b[0m\u001b[0;34m\u001b[0m\u001b[0;34m\u001b[0m\u001b[0m\n",
            "\u001b[0;32m<ipython-input-51-5319eeeba83f>\u001b[0m in \u001b[0;36mfibonacci\u001b[0;34m(n)\u001b[0m\n\u001b[1;32m      5\u001b[0m     \u001b[0;32melse\u001b[0m\u001b[0;34m:\u001b[0m\u001b[0;34m\u001b[0m\u001b[0;34m\u001b[0m\u001b[0m\n\u001b[1;32m      6\u001b[0m         \u001b[0;31m# Recursive case: Fibonacci number is sum of previous two Fibonacci numbers\u001b[0m\u001b[0;34m\u001b[0m\u001b[0;34m\u001b[0m\u001b[0m\n\u001b[0;32m----> 7\u001b[0;31m         \u001b[0;32mreturn\u001b[0m \u001b[0mfibonacci\u001b[0m\u001b[0;34m(\u001b[0m\u001b[0mn\u001b[0m\u001b[0;34m-\u001b[0m\u001b[0;36m1\u001b[0m\u001b[0;34m)\u001b[0m \u001b[0;34m+\u001b[0m \u001b[0mfibonacci\u001b[0m\u001b[0;34m(\u001b[0m\u001b[0mn\u001b[0m\u001b[0;34m-\u001b[0m\u001b[0;36m2\u001b[0m\u001b[0;34m)\u001b[0m\u001b[0;34m\u001b[0m\u001b[0;34m\u001b[0m\u001b[0m\n\u001b[0m\u001b[1;32m      8\u001b[0m \u001b[0;34m\u001b[0m\u001b[0m\n\u001b[1;32m      9\u001b[0m \u001b[0;31m# Example usage:\u001b[0m\u001b[0;34m\u001b[0m\u001b[0;34m\u001b[0m\u001b[0m\n",
            "\u001b[0;32m<ipython-input-51-5319eeeba83f>\u001b[0m in \u001b[0;36mfibonacci\u001b[0;34m(n)\u001b[0m\n\u001b[1;32m      5\u001b[0m     \u001b[0;32melse\u001b[0m\u001b[0;34m:\u001b[0m\u001b[0;34m\u001b[0m\u001b[0;34m\u001b[0m\u001b[0m\n\u001b[1;32m      6\u001b[0m         \u001b[0;31m# Recursive case: Fibonacci number is sum of previous two Fibonacci numbers\u001b[0m\u001b[0;34m\u001b[0m\u001b[0;34m\u001b[0m\u001b[0m\n\u001b[0;32m----> 7\u001b[0;31m         \u001b[0;32mreturn\u001b[0m \u001b[0mfibonacci\u001b[0m\u001b[0;34m(\u001b[0m\u001b[0mn\u001b[0m\u001b[0;34m-\u001b[0m\u001b[0;36m1\u001b[0m\u001b[0;34m)\u001b[0m \u001b[0;34m+\u001b[0m \u001b[0mfibonacci\u001b[0m\u001b[0;34m(\u001b[0m\u001b[0mn\u001b[0m\u001b[0;34m-\u001b[0m\u001b[0;36m2\u001b[0m\u001b[0;34m)\u001b[0m\u001b[0;34m\u001b[0m\u001b[0;34m\u001b[0m\u001b[0m\n\u001b[0m\u001b[1;32m      8\u001b[0m \u001b[0;34m\u001b[0m\u001b[0m\n\u001b[1;32m      9\u001b[0m \u001b[0;31m# Example usage:\u001b[0m\u001b[0;34m\u001b[0m\u001b[0;34m\u001b[0m\u001b[0m\n",
            "\u001b[0;32m<ipython-input-51-5319eeeba83f>\u001b[0m in \u001b[0;36mfibonacci\u001b[0;34m(n)\u001b[0m\n\u001b[1;32m      5\u001b[0m     \u001b[0;32melse\u001b[0m\u001b[0;34m:\u001b[0m\u001b[0;34m\u001b[0m\u001b[0;34m\u001b[0m\u001b[0m\n\u001b[1;32m      6\u001b[0m         \u001b[0;31m# Recursive case: Fibonacci number is sum of previous two Fibonacci numbers\u001b[0m\u001b[0;34m\u001b[0m\u001b[0;34m\u001b[0m\u001b[0m\n\u001b[0;32m----> 7\u001b[0;31m         \u001b[0;32mreturn\u001b[0m \u001b[0mfibonacci\u001b[0m\u001b[0;34m(\u001b[0m\u001b[0mn\u001b[0m\u001b[0;34m-\u001b[0m\u001b[0;36m1\u001b[0m\u001b[0;34m)\u001b[0m \u001b[0;34m+\u001b[0m \u001b[0mfibonacci\u001b[0m\u001b[0;34m(\u001b[0m\u001b[0mn\u001b[0m\u001b[0;34m-\u001b[0m\u001b[0;36m2\u001b[0m\u001b[0;34m)\u001b[0m\u001b[0;34m\u001b[0m\u001b[0;34m\u001b[0m\u001b[0m\n\u001b[0m\u001b[1;32m      8\u001b[0m \u001b[0;34m\u001b[0m\u001b[0m\n\u001b[1;32m      9\u001b[0m \u001b[0;31m# Example usage:\u001b[0m\u001b[0;34m\u001b[0m\u001b[0;34m\u001b[0m\u001b[0m\n",
            "\u001b[0;32m<ipython-input-51-5319eeeba83f>\u001b[0m in \u001b[0;36mfibonacci\u001b[0;34m(n)\u001b[0m\n\u001b[1;32m      5\u001b[0m     \u001b[0;32melse\u001b[0m\u001b[0;34m:\u001b[0m\u001b[0;34m\u001b[0m\u001b[0;34m\u001b[0m\u001b[0m\n\u001b[1;32m      6\u001b[0m         \u001b[0;31m# Recursive case: Fibonacci number is sum of previous two Fibonacci numbers\u001b[0m\u001b[0;34m\u001b[0m\u001b[0;34m\u001b[0m\u001b[0m\n\u001b[0;32m----> 7\u001b[0;31m         \u001b[0;32mreturn\u001b[0m \u001b[0mfibonacci\u001b[0m\u001b[0;34m(\u001b[0m\u001b[0mn\u001b[0m\u001b[0;34m-\u001b[0m\u001b[0;36m1\u001b[0m\u001b[0;34m)\u001b[0m \u001b[0;34m+\u001b[0m \u001b[0mfibonacci\u001b[0m\u001b[0;34m(\u001b[0m\u001b[0mn\u001b[0m\u001b[0;34m-\u001b[0m\u001b[0;36m2\u001b[0m\u001b[0;34m)\u001b[0m\u001b[0;34m\u001b[0m\u001b[0;34m\u001b[0m\u001b[0m\n\u001b[0m\u001b[1;32m      8\u001b[0m \u001b[0;34m\u001b[0m\u001b[0m\n\u001b[1;32m      9\u001b[0m \u001b[0;31m# Example usage:\u001b[0m\u001b[0;34m\u001b[0m\u001b[0;34m\u001b[0m\u001b[0m\n",
            "\u001b[0;32m<ipython-input-51-5319eeeba83f>\u001b[0m in \u001b[0;36mfibonacci\u001b[0;34m(n)\u001b[0m\n\u001b[1;32m      5\u001b[0m     \u001b[0;32melse\u001b[0m\u001b[0;34m:\u001b[0m\u001b[0;34m\u001b[0m\u001b[0;34m\u001b[0m\u001b[0m\n\u001b[1;32m      6\u001b[0m         \u001b[0;31m# Recursive case: Fibonacci number is sum of previous two Fibonacci numbers\u001b[0m\u001b[0;34m\u001b[0m\u001b[0;34m\u001b[0m\u001b[0m\n\u001b[0;32m----> 7\u001b[0;31m         \u001b[0;32mreturn\u001b[0m \u001b[0mfibonacci\u001b[0m\u001b[0;34m(\u001b[0m\u001b[0mn\u001b[0m\u001b[0;34m-\u001b[0m\u001b[0;36m1\u001b[0m\u001b[0;34m)\u001b[0m \u001b[0;34m+\u001b[0m \u001b[0mfibonacci\u001b[0m\u001b[0;34m(\u001b[0m\u001b[0mn\u001b[0m\u001b[0;34m-\u001b[0m\u001b[0;36m2\u001b[0m\u001b[0;34m)\u001b[0m\u001b[0;34m\u001b[0m\u001b[0;34m\u001b[0m\u001b[0m\n\u001b[0m\u001b[1;32m      8\u001b[0m \u001b[0;34m\u001b[0m\u001b[0m\n\u001b[1;32m      9\u001b[0m \u001b[0;31m# Example usage:\u001b[0m\u001b[0;34m\u001b[0m\u001b[0;34m\u001b[0m\u001b[0m\n",
            "\u001b[0;32m<ipython-input-51-5319eeeba83f>\u001b[0m in \u001b[0;36mfibonacci\u001b[0;34m(n)\u001b[0m\n\u001b[1;32m      5\u001b[0m     \u001b[0;32melse\u001b[0m\u001b[0;34m:\u001b[0m\u001b[0;34m\u001b[0m\u001b[0;34m\u001b[0m\u001b[0m\n\u001b[1;32m      6\u001b[0m         \u001b[0;31m# Recursive case: Fibonacci number is sum of previous two Fibonacci numbers\u001b[0m\u001b[0;34m\u001b[0m\u001b[0;34m\u001b[0m\u001b[0m\n\u001b[0;32m----> 7\u001b[0;31m         \u001b[0;32mreturn\u001b[0m \u001b[0mfibonacci\u001b[0m\u001b[0;34m(\u001b[0m\u001b[0mn\u001b[0m\u001b[0;34m-\u001b[0m\u001b[0;36m1\u001b[0m\u001b[0;34m)\u001b[0m \u001b[0;34m+\u001b[0m \u001b[0mfibonacci\u001b[0m\u001b[0;34m(\u001b[0m\u001b[0mn\u001b[0m\u001b[0;34m-\u001b[0m\u001b[0;36m2\u001b[0m\u001b[0;34m)\u001b[0m\u001b[0;34m\u001b[0m\u001b[0;34m\u001b[0m\u001b[0m\n\u001b[0m\u001b[1;32m      8\u001b[0m \u001b[0;34m\u001b[0m\u001b[0m\n\u001b[1;32m      9\u001b[0m \u001b[0;31m# Example usage:\u001b[0m\u001b[0;34m\u001b[0m\u001b[0;34m\u001b[0m\u001b[0m\n",
            "\u001b[0;32m<ipython-input-51-5319eeeba83f>\u001b[0m in \u001b[0;36mfibonacci\u001b[0;34m(n)\u001b[0m\n\u001b[1;32m      5\u001b[0m     \u001b[0;32melse\u001b[0m\u001b[0;34m:\u001b[0m\u001b[0;34m\u001b[0m\u001b[0;34m\u001b[0m\u001b[0m\n\u001b[1;32m      6\u001b[0m         \u001b[0;31m# Recursive case: Fibonacci number is sum of previous two Fibonacci numbers\u001b[0m\u001b[0;34m\u001b[0m\u001b[0;34m\u001b[0m\u001b[0m\n\u001b[0;32m----> 7\u001b[0;31m         \u001b[0;32mreturn\u001b[0m \u001b[0mfibonacci\u001b[0m\u001b[0;34m(\u001b[0m\u001b[0mn\u001b[0m\u001b[0;34m-\u001b[0m\u001b[0;36m1\u001b[0m\u001b[0;34m)\u001b[0m \u001b[0;34m+\u001b[0m \u001b[0mfibonacci\u001b[0m\u001b[0;34m(\u001b[0m\u001b[0mn\u001b[0m\u001b[0;34m-\u001b[0m\u001b[0;36m2\u001b[0m\u001b[0;34m)\u001b[0m\u001b[0;34m\u001b[0m\u001b[0;34m\u001b[0m\u001b[0m\n\u001b[0m\u001b[1;32m      8\u001b[0m \u001b[0;34m\u001b[0m\u001b[0m\n\u001b[1;32m      9\u001b[0m \u001b[0;31m# Example usage:\u001b[0m\u001b[0;34m\u001b[0m\u001b[0;34m\u001b[0m\u001b[0m\n",
            "\u001b[0;32m<ipython-input-51-5319eeeba83f>\u001b[0m in \u001b[0;36mfibonacci\u001b[0;34m(n)\u001b[0m\n\u001b[1;32m      5\u001b[0m     \u001b[0;32melse\u001b[0m\u001b[0;34m:\u001b[0m\u001b[0;34m\u001b[0m\u001b[0;34m\u001b[0m\u001b[0m\n\u001b[1;32m      6\u001b[0m         \u001b[0;31m# Recursive case: Fibonacci number is sum of previous two Fibonacci numbers\u001b[0m\u001b[0;34m\u001b[0m\u001b[0;34m\u001b[0m\u001b[0m\n\u001b[0;32m----> 7\u001b[0;31m         \u001b[0;32mreturn\u001b[0m \u001b[0mfibonacci\u001b[0m\u001b[0;34m(\u001b[0m\u001b[0mn\u001b[0m\u001b[0;34m-\u001b[0m\u001b[0;36m1\u001b[0m\u001b[0;34m)\u001b[0m \u001b[0;34m+\u001b[0m \u001b[0mfibonacci\u001b[0m\u001b[0;34m(\u001b[0m\u001b[0mn\u001b[0m\u001b[0;34m-\u001b[0m\u001b[0;36m2\u001b[0m\u001b[0;34m)\u001b[0m\u001b[0;34m\u001b[0m\u001b[0;34m\u001b[0m\u001b[0m\n\u001b[0m\u001b[1;32m      8\u001b[0m \u001b[0;34m\u001b[0m\u001b[0m\n\u001b[1;32m      9\u001b[0m \u001b[0;31m# Example usage:\u001b[0m\u001b[0;34m\u001b[0m\u001b[0;34m\u001b[0m\u001b[0m\n",
            "\u001b[0;32m<ipython-input-51-5319eeeba83f>\u001b[0m in \u001b[0;36mfibonacci\u001b[0;34m(n)\u001b[0m\n\u001b[1;32m      5\u001b[0m     \u001b[0;32melse\u001b[0m\u001b[0;34m:\u001b[0m\u001b[0;34m\u001b[0m\u001b[0;34m\u001b[0m\u001b[0m\n\u001b[1;32m      6\u001b[0m         \u001b[0;31m# Recursive case: Fibonacci number is sum of previous two Fibonacci numbers\u001b[0m\u001b[0;34m\u001b[0m\u001b[0;34m\u001b[0m\u001b[0m\n\u001b[0;32m----> 7\u001b[0;31m         \u001b[0;32mreturn\u001b[0m \u001b[0mfibonacci\u001b[0m\u001b[0;34m(\u001b[0m\u001b[0mn\u001b[0m\u001b[0;34m-\u001b[0m\u001b[0;36m1\u001b[0m\u001b[0;34m)\u001b[0m \u001b[0;34m+\u001b[0m \u001b[0mfibonacci\u001b[0m\u001b[0;34m(\u001b[0m\u001b[0mn\u001b[0m\u001b[0;34m-\u001b[0m\u001b[0;36m2\u001b[0m\u001b[0;34m)\u001b[0m\u001b[0;34m\u001b[0m\u001b[0;34m\u001b[0m\u001b[0m\n\u001b[0m\u001b[1;32m      8\u001b[0m \u001b[0;34m\u001b[0m\u001b[0m\n\u001b[1;32m      9\u001b[0m \u001b[0;31m# Example usage:\u001b[0m\u001b[0;34m\u001b[0m\u001b[0;34m\u001b[0m\u001b[0m\n",
            "\u001b[0;32m<ipython-input-51-5319eeeba83f>\u001b[0m in \u001b[0;36mfibonacci\u001b[0;34m(n)\u001b[0m\n\u001b[0;32m----> 1\u001b[0;31m \u001b[0;32mdef\u001b[0m \u001b[0mfibonacci\u001b[0m\u001b[0;34m(\u001b[0m\u001b[0mn\u001b[0m\u001b[0;34m)\u001b[0m\u001b[0;34m:\u001b[0m\u001b[0;34m\u001b[0m\u001b[0;34m\u001b[0m\u001b[0m\n\u001b[0m\u001b[1;32m      2\u001b[0m     \u001b[0;31m# Base case: if n is 0 or 1, Fibonacci number is n\u001b[0m\u001b[0;34m\u001b[0m\u001b[0;34m\u001b[0m\u001b[0m\n\u001b[1;32m      3\u001b[0m     \u001b[0;32mif\u001b[0m \u001b[0mn\u001b[0m \u001b[0;34m<=\u001b[0m \u001b[0;36m1\u001b[0m\u001b[0;34m:\u001b[0m\u001b[0;34m\u001b[0m\u001b[0;34m\u001b[0m\u001b[0m\n\u001b[1;32m      4\u001b[0m         \u001b[0;32mreturn\u001b[0m \u001b[0mn\u001b[0m\u001b[0;34m\u001b[0m\u001b[0;34m\u001b[0m\u001b[0m\n\u001b[1;32m      5\u001b[0m     \u001b[0;32melse\u001b[0m\u001b[0;34m:\u001b[0m\u001b[0;34m\u001b[0m\u001b[0;34m\u001b[0m\u001b[0m\n",
            "\u001b[0;31mKeyboardInterrupt\u001b[0m: "
          ]
        }
      ]
    },
    {
      "cell_type": "code",
      "source": [
        "def fact(n):\n",
        "  if n==0 or n==1:\n",
        "    return 1\n",
        "  else:\n",
        "    return n * fact(n-1)\n",
        "n = int(input())\n",
        "if n>0:\n",
        "  print(fact(n))\n",
        "else:\n",
        "  print('Not Possible')"
      ],
      "metadata": {
        "id": "j-mi0N_R3wpD",
        "outputId": "efb85fc6-b0c1-463f-b15c-df200f2a2173",
        "colab": {
          "base_uri": "https://localhost:8080/"
        }
      },
      "execution_count": null,
      "outputs": [
        {
          "output_type": "stream",
          "name": "stdout",
          "text": [
            "5\n",
            "120\n"
          ]
        }
      ]
    },
    {
      "cell_type": "code",
      "source": [],
      "metadata": {
        "id": "qw-uwpdA4nV3"
      },
      "execution_count": null,
      "outputs": []
    },
    {
      "cell_type": "code",
      "source": [],
      "metadata": {
        "id": "tuePm8p76ehR",
        "outputId": "ca1f019d-bba0-4a2d-b1db-1aeb9067343a",
        "colab": {
          "base_uri": "https://localhost:8080/"
        }
      },
      "execution_count": null,
      "outputs": [
        {
          "output_type": "stream",
          "name": "stdout",
          "text": [
            "5\n",
            "5 5 5 5 5 "
          ]
        }
      ]
    },
    {
      "cell_type": "code",
      "source": [
        "def fibo(n):\n",
        "    if n <= 1:\n",
        "        return n\n",
        "    else:\n",
        "        return fibo(n-1) + fibo(n-2)\n",
        "\n",
        "term = int(input(\"Enter the number of terms: \"))\n",
        "for i in range(term):\n",
        "    print(fibo(i), end=' ')\n"
      ],
      "metadata": {
        "id": "fqAV26CY65rK",
        "outputId": "e7e8bc52-2266-4bbd-f351-a5b4d8967a06",
        "colab": {
          "base_uri": "https://localhost:8080/"
        }
      },
      "execution_count": null,
      "outputs": [
        {
          "output_type": "stream",
          "name": "stdout",
          "text": [
            "Enter the number of terms: 5\n",
            "0 1 1 2 3 "
          ]
        }
      ]
    }
  ]
}