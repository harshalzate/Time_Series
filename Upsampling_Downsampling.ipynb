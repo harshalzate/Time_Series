{
  "nbformat": 4,
  "nbformat_minor": 0,
  "metadata": {
    "colab": {
      "private_outputs": true,
      "provenance": [],
      "authorship_tag": "ABX9TyNcGDvpIGnGoaQQkF4S2cjS",
      "include_colab_link": true
    },
    "kernelspec": {
      "name": "python3",
      "display_name": "Python 3"
    },
    "language_info": {
      "name": "python"
    }
  },
  "cells": [
    {
      "cell_type": "markdown",
      "metadata": {
        "id": "view-in-github",
        "colab_type": "text"
      },
      "source": [
        "<a href=\"https://colab.research.google.com/github/harshalzate/Time_Series/blob/main/Upsampling_Downsampling.ipynb\" target=\"_parent\"><img src=\"https://colab.research.google.com/assets/colab-badge.svg\" alt=\"Open In Colab\"/></a>"
      ]
    },
    {
      "cell_type": "code",
      "execution_count": null,
      "metadata": {
        "id": "1WLMOL1QASwU"
      },
      "outputs": [],
      "source": [
        "# Downsampling with dropping values\n",
        "import pandas as pd\n",
        "import numpy as np\n",
        "# Create a date range from January 2021 to June 2023 (30 months)\n",
        "date_range = pd.date_range(start='2021-01-01', end='2023-06-01', freq='M')\n",
        "# Generate random unemployment rates between 2.0 and 10.0\n",
        "np.random.seed(0)  # For reproducibility\n",
        "unrate = np.round(np.random.uniform(2.0, 10.0, len(date_range)), 1)\n",
        "# Create a DataFrame\n",
        "unemp = pd.DataFrame({\n",
        "    'DATE': date_range,\n",
        "    'UNRATE': unrate\n",
        "})\n",
        "# Select every 12th row to get annual unemployment rates (for every year)\n",
        "annual_unemp = unemp.iloc[::12]\n",
        "# Print the full dataset and the annual unemployment data\n",
        "print(\"Full Unemployment Data:\")\n",
        "print(unemp)\n",
        "print(\"\\nAnnual Unemployment Data:\")\n",
        "print(annual_unemp)"
      ]
    },
    {
      "cell_type": "code",
      "source": [
        "unemp"
      ],
      "metadata": {
        "id": "xrcu1lflAds_"
      },
      "execution_count": null,
      "outputs": []
    },
    {
      "cell_type": "code",
      "source": [
        "# Downsampling with sumation\n",
        "import pandas as pd\n",
        "import numpy as np\n",
        "\n",
        "# Create a date range from January 1948 to June 1967 (20 years of monthly data)\n",
        "date_range = pd.date_range(start='1948-01-01', end='1967-06-01', freq='M')\n",
        "\n",
        "# Generate random unemployment rates between 2.0 and 10.0\n",
        "np.random.seed(0)  # For reproducibility\n",
        "unrate = np.round(np.random.uniform(2.0, 10.0, len(date_range)), 1)\n",
        "\n",
        "# Create a DataFrame\n",
        "unemp = pd.DataFrame({\n",
        "    'DATE': date_range,\n",
        "    'UNRATE': unrate\n",
        "})\n",
        "\n",
        "# Convert 'DATE' column to datetime format (already in datetime format)\n",
        "# Extract year from the DATE column\n",
        "unemp['YEAR'] = unemp['DATE'].dt.year\n",
        "\n",
        "# Calculate the mean UNRATE by year\n",
        "mean_unrate_by_year = unemp.groupby('YEAR')['UNRATE'].mean().reset_index()\n",
        "\n",
        "# Rename the columns to match the output format\n",
        "mean_unrate_by_year.columns = ['format', 'V1']\n",
        "\n",
        "# Print the result\n",
        "print(mean_unrate_by_year)\n"
      ],
      "metadata": {
        "id": "J8OMdxf1Asgz"
      },
      "execution_count": null,
      "outputs": []
    },
    {
      "cell_type": "code",
      "source": [
        "import pandas as pd\n",
        "import numpy as np\n",
        "\n",
        "# Create a date range from January 1948 to June 1967 (20 years of monthly data)\n",
        "date_range = pd.date_range(start='1948-01-01', end='1967-06-01', freq='M')\n",
        "\n",
        "# Generate random unemployment rates between 2.0 and 10.0\n",
        "np.random.seed(0)  # For reproducibility\n",
        "unrate = np.round(np.random.uniform(2.0, 10.0, len(date_range)), 1)\n",
        "\n",
        "# Create a DataFrame\n",
        "unemp = pd.DataFrame({\n",
        "    'DATE': date_range,\n",
        "    'UNRATE': unrate\n",
        "})\n",
        "\n",
        "# Set 'DATE' as the index\n",
        "unemp.set_index('DATE', inplace=True)\n",
        "\n",
        "# Upsample to daily frequency and fill missing values\n",
        "upsampled_unemp = unemp.resample('D').ffill()  # Forward fill to maintain last observation\n",
        "\n",
        "# Reset the index if you want 'DATE' as a column again\n",
        "upsampled_unemp.reset_index(inplace=True)\n",
        "\n",
        "# Print the upsampled DataFrame\n",
        "print(upsampled_unemp)\n"
      ],
      "metadata": {
        "id": "SIWXdE3eboh3"
      },
      "execution_count": null,
      "outputs": []
    },
    {
      "cell_type": "code",
      "source": [
        "import pandas as pd\n",
        "# Assuming 'unemp' is a DataFrame with a 'DATE' column\n",
        "unemp['DATE'] = pd.to_datetime(unemp['DATE'])  # Ensure 'DATE' is in datetime format\n",
        "all_dates = pd.date_range(start=unemp['DATE'].iloc[0], end=unemp['DATE'].iloc[-1], freq='M')\n",
        "# Assuming 'rand_unemp' is another DataFrame with an index that can match 'all_dates'\n",
        "unemp = unemp.reindex(all_dates, method='ffill')  # Similar to rolling join in R"
      ],
      "metadata": {
        "id": "zY0z7d4Qa3aI"
      },
      "execution_count": null,
      "outputs": []
    },
    {
      "cell_type": "code",
      "source": [],
      "metadata": {
        "id": "o2OPtzU6bUrv"
      },
      "execution_count": null,
      "outputs": []
    }
  ]
}