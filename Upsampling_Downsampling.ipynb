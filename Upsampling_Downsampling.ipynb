{
  "nbformat": 4,
  "nbformat_minor": 0,
  "metadata": {
    "colab": {
      "private_outputs": true,
      "provenance": [],
      "authorship_tag": "ABX9TyN/3PA6WM9/Us8D95XSjW61",
      "include_colab_link": true
    },
    "kernelspec": {
      "name": "python3",
      "display_name": "Python 3"
    },
    "language_info": {
      "name": "python"
    }
  },
  "cells": [
    {
      "cell_type": "markdown",
      "metadata": {
        "id": "view-in-github",
        "colab_type": "text"
      },
      "source": [
        "<a href=\"https://colab.research.google.com/github/harshalzate/Time_Series/blob/main/Upsampling_Downsampling.ipynb\" target=\"_parent\"><img src=\"https://colab.research.google.com/assets/colab-badge.svg\" alt=\"Open In Colab\"/></a>"
      ]
    },
    {
      "cell_type": "code",
      "execution_count": null,
      "metadata": {
        "id": "1WLMOL1QASwU"
      },
      "outputs": [],
      "source": [
        "# Downsampling with dropping values\n",
        "import pandas as pd\n",
        "import numpy as np\n",
        "# Create a date range from January 2021 to June 2023 (30 months)\n",
        "date_range = pd.date_range(start='2021-01-01', end='2023-06-01', freq='M')\n",
        "# Generate random unemployment rates between 2.0 and 10.0\n",
        "np.random.seed(0)  # For reproducibility\n",
        "unrate = np.round(np.random.uniform(2.0, 10.0, len(date_range)), 1)\n",
        "# Create a DataFrame\n",
        "unemp = pd.DataFrame({\n",
        "    'DATE': date_range,\n",
        "    'UNRATE': unrate\n",
        "})\n",
        "# Select every 12th row to get annual unemployment rates (for every year)\n",
        "annual_unemp = unemp.iloc[::12]\n",
        "# Print the full dataset and the annual unemployment data\n",
        "print(\"Full Unemployment Data:\")\n",
        "print(unemp)\n",
        "print(\"\\nAnnual Unemployment Data:\")\n",
        "print(annual_unemp)"
      ]
    },
    {
      "cell_type": "code",
      "source": [
        "unemp"
      ],
      "metadata": {
        "id": "xrcu1lflAds_"
      },
      "execution_count": null,
      "outputs": []
    },
    {
      "cell_type": "code",
      "source": [
        "# Downsampling with sumation\n",
        "import pandas as pd\n",
        "import numpy as np\n",
        "\n",
        "# Create a date range from January 1948 to June 1967 (20 years of monthly data)\n",
        "date_range = pd.date_range(start='1948-01-01', end='1967-06-01', freq='M')\n",
        "\n",
        "# Generate random unemployment rates between 2.0 and 10.0\n",
        "np.random.seed(0)  # For reproducibility\n",
        "unrate = np.round(np.random.uniform(2.0, 10.0, len(date_range)), 1)\n",
        "\n",
        "# Create a DataFrame\n",
        "unemp = pd.DataFrame({\n",
        "    'DATE': date_range,\n",
        "    'UNRATE': unrate\n",
        "})\n",
        "\n",
        "# Convert 'DATE' column to datetime format (already in datetime format)\n",
        "# Extract year from the DATE column\n",
        "unemp['YEAR'] = unemp['DATE'].dt.year\n",
        "\n",
        "# Calculate the mean UNRATE by year\n",
        "mean_unrate_by_year = unemp.groupby('YEAR')['UNRATE'].mean().reset_index()\n",
        "\n",
        "# Rename the columns to match the output format\n",
        "mean_unrate_by_year.columns = ['format', 'V1']\n",
        "\n",
        "# Print the result\n",
        "print(mean_unrate_by_year)\n"
      ],
      "metadata": {
        "id": "J8OMdxf1Asgz"
      },
      "execution_count": null,
      "outputs": []
    },
    {
      "cell_type": "code",
      "source": [
        "unemp"
      ],
      "metadata": {
        "id": "t0G2UVKAF0jV"
      },
      "execution_count": null,
      "outputs": []
    },
    {
      "cell_type": "code",
      "source": [
        "import pandas as pd\n",
        "\n",
        "# Sample time series data\n",
        "date_rng = pd.date_range(start='2023-01-01', end='2023-01-10', freq='D')\n",
        "data = {'value': range(len(date_rng))}\n",
        "ts = pd.DataFrame(data, index=date_rng)\n",
        "\n",
        "# Display the original time series\n",
        "print(\"Original Time Series:\")\n",
        "print(ts)\n",
        "\n",
        "# Upsampling to hourly frequency with forward fill\n",
        "ts_upsampled_ffill = ts.resample('H').ffill()\n",
        "print(\"\\nUpsampled Time Series (Hourly, Forward Fill):\")\n",
        "print(ts_upsampled_ffill)\n",
        "\n",
        "# Upsampling to hourly frequency with linear interpolation\n",
        "ts_upsampled_interp = ts.resample('H').interpolate(method='linear')\n",
        "print(\"\\nUpsampled Time Series (Hourly, Linear Interpolation):\")\n",
        "print(ts_upsampled_interp)\n",
        "\n",
        "# Downsampling to daily frequency by taking the mean\n",
        "ts_downsampled_mean = ts.resample('D').mean()\n",
        "print(\"\\nDownsampled Time Series (Daily, Mean):\")\n",
        "print(ts_downsampled_mean)\n",
        "\n",
        "# Downsampling to daily frequency with a custom aggregation (e.g., sum)\n",
        "ts_downsampled_sum = ts.resample('D').sum()\n",
        "print(\"\\nDownsampled Time Series (Daily, Sum):\")\n",
        "print(ts_downsampled_sum)\n"
      ],
      "metadata": {
        "id": "Sb95KsG9GjWl"
      },
      "execution_count": null,
      "outputs": []
    }
  ]
}