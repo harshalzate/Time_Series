{
  "nbformat": 4,
  "nbformat_minor": 0,
  "metadata": {
    "colab": {
      "private_outputs": true,
      "provenance": [],
      "authorship_tag": "ABX9TyMOY8gFSZkvv67lc/z3Cgvm",
      "include_colab_link": true
    },
    "kernelspec": {
      "name": "python3",
      "display_name": "Python 3"
    },
    "language_info": {
      "name": "python"
    }
  },
  "cells": [
    {
      "cell_type": "markdown",
      "metadata": {
        "id": "view-in-github",
        "colab_type": "text"
      },
      "source": [
        "<a href=\"https://colab.research.google.com/github/harshalzate/Time_Series/blob/main/1.ipynb\" target=\"_parent\"><img src=\"https://colab.research.google.com/assets/colab-badge.svg\" alt=\"Open In Colab\"/></a>"
      ]
    },
    {
      "cell_type": "code",
      "source": [
        "import numpy as np\n",
        "import pandas as pd"
      ],
      "metadata": {
        "id": "3bBZoSwUKEh0"
      },
      "execution_count": null,
      "outputs": []
    },
    {
      "cell_type": "code",
      "source": [
        "from statsmodels.datasets import sunspots, macrodata, co2\n",
        "\n",
        "# Load sunspots data\n",
        "sunspots_data = sunspots.load_pandas().data\n",
        "\n",
        "# Load macroeconomic data\n",
        "macro_data = macrodata.load_pandas().data\n",
        "\n",
        "# Load CO2 data\n",
        "co2 = co2.load_pandas().data\n",
        "co2\n",
        "plt.plot(co2)"
      ],
      "metadata": {
        "id": "n3yMMRea6WpW"
      },
      "execution_count": null,
      "outputs": []
    },
    {
      "cell_type": "markdown",
      "source": [
        "# Method 1: calculate the mean and varience of the parts and check"
      ],
      "metadata": {
        "id": "cJ9BB5zbMRzw"
      }
    },
    {
      "cell_type": "code",
      "source": [
        "parts=len(co2)//3\n",
        "co2_1=co2.values[:parts]\n",
        "co2_2 = co2.values[:2*parts]\n",
        "co2_3 = co2.values[:3*parts]"
      ],
      "metadata": {
        "id": "tevUB8rxIxmJ"
      },
      "execution_count": null,
      "outputs": []
    },
    {
      "cell_type": "code",
      "source": [
        "mean_1=pd.Series(co2_1.flatten()).mean()\n",
        "mean_2 = pd.Series (co2_2.flatten()).mean()\n",
        "mean_3 = pd.Series(co2_3.flatten()).mean()\n",
        "mean_1,mean_2,mean_3"
      ],
      "metadata": {
        "id": "_JqARMcIJQHf"
      },
      "execution_count": null,
      "outputs": []
    },
    {
      "cell_type": "code",
      "source": [
        "var1=pd.Series(co2_1.flatten()).var()\n",
        "var2=pd.Series(co2_2.flatten()).var()\n",
        "var3 = pd.Series(co2_3.flatten()).var()\n",
        "var1,var2,var3"
      ],
      "metadata": {
        "id": "O-jbiHGHJ9bX"
      },
      "execution_count": null,
      "outputs": []
    },
    {
      "cell_type": "markdown",
      "source": [
        "# Method 2:Augmented Dickey-Fuller test\n",
        "Ho: Data is not stationary\n",
        "\n",
        "H1: Data is stationary"
      ],
      "metadata": {
        "id": "wM3wst8cMZ9e"
      }
    },
    {
      "cell_type": "code",
      "source": [
        "from statsmodels.tsa.stattools import adfuller"
      ],
      "metadata": {
        "id": "BfkupB09Lpii"
      },
      "execution_count": null,
      "outputs": []
    },
    {
      "cell_type": "code",
      "source": [
        "val=co2.dropna().values"
      ],
      "metadata": {
        "id": "brbvpBxCNNT0"
      },
      "execution_count": null,
      "outputs": []
    },
    {
      "cell_type": "code",
      "source": [
        "adf=adfuller(val)\n",
        "adf"
      ],
      "metadata": {
        "id": "DcYYfeRLOt4b"
      },
      "execution_count": null,
      "outputs": []
    },
    {
      "cell_type": "code",
      "source": [
        "len(adf)"
      ],
      "metadata": {
        "id": "8wLR9uO3Ow7U"
      },
      "execution_count": null,
      "outputs": []
    },
    {
      "cell_type": "code",
      "source": [
        "p_value=adf[1]\n",
        "p_value\n",
        "# as P value is way greater than alpha i.e. it lies in the null region that means we are failed to reject null hypotheis"
      ],
      "metadata": {
        "id": "bWgwweymPDkn"
      },
      "execution_count": null,
      "outputs": []
    },
    {
      "cell_type": "code",
      "source": [],
      "metadata": {
        "id": "UPqYYOMDPTs0"
      },
      "execution_count": null,
      "outputs": []
    }
  ]
}