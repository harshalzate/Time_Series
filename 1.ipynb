{
  "nbformat": 4,
  "nbformat_minor": 0,
  "metadata": {
    "colab": {
      "private_outputs": true,
      "provenance": [],
      "authorship_tag": "ABX9TyNgOE+MgX5nfIM2BwE/6xYx",
      "include_colab_link": true
    },
    "kernelspec": {
      "name": "python3",
      "display_name": "Python 3"
    },
    "language_info": {
      "name": "python"
    }
  },
  "cells": [
    {
      "cell_type": "markdown",
      "metadata": {
        "id": "view-in-github",
        "colab_type": "text"
      },
      "source": [
        "<a href=\"https://colab.research.google.com/github/harshalzate/Time_Series/blob/main/1.ipynb\" target=\"_parent\"><img src=\"https://colab.research.google.com/assets/colab-badge.svg\" alt=\"Open In Colab\"/></a>"
      ]
    },
    {
      "cell_type": "code",
      "source": [
        "import numpy as np\n",
        "import pandas as pd\n",
        "import matplotlib.pyplot as plt\n",
        "import seaborn as sns"
      ],
      "metadata": {
        "id": "3bBZoSwUKEh0"
      },
      "execution_count": null,
      "outputs": []
    },
    {
      "cell_type": "code",
      "source": [
        "from statsmodels.datasets import sunspots, macrodata, co2\n",
        "\n",
        "# Load sunspots data\n",
        "sunspots_data = sunspots.load_pandas().data\n",
        "\n",
        "# Load macroeconomic data\n",
        "macro_data = macrodata.load_pandas().data\n",
        "\n",
        "# Load CO2 data\n",
        "co2 = co2.load_pandas().data\n",
        "co2\n",
        "plt.plot(co2)"
      ],
      "metadata": {
        "id": "n3yMMRea6WpW"
      },
      "execution_count": null,
      "outputs": []
    },
    {
      "cell_type": "markdown",
      "source": [
        "# Method 1: calculate the mean and varience of the parts and check"
      ],
      "metadata": {
        "id": "cJ9BB5zbMRzw"
      }
    },
    {
      "cell_type": "code",
      "source": [
        "parts=len(co2)//3\n",
        "co2_1=co2.values[:parts]\n",
        "co2_2 = co2.values[:2*parts]\n",
        "co2_3 = co2.values[:3*parts]"
      ],
      "metadata": {
        "id": "tevUB8rxIxmJ"
      },
      "execution_count": null,
      "outputs": []
    },
    {
      "cell_type": "code",
      "source": [
        "mean_1=pd.Series(co2_1.flatten()).mean()\n",
        "mean_2 = pd.Series (co2_2.flatten()).mean()\n",
        "mean_3 = pd.Series(co2_3.flatten()).mean()\n",
        "mean_1,mean_2,mean_3"
      ],
      "metadata": {
        "id": "_JqARMcIJQHf"
      },
      "execution_count": null,
      "outputs": []
    },
    {
      "cell_type": "code",
      "source": [
        "var1=pd.Series(co2_1.flatten()).var()\n",
        "var2=pd.Series(co2_2.flatten()).var()\n",
        "var3 = pd.Series(co2_3.flatten()).var()\n",
        "var1,var2,var3"
      ],
      "metadata": {
        "id": "O-jbiHGHJ9bX"
      },
      "execution_count": null,
      "outputs": []
    },
    {
      "cell_type": "markdown",
      "source": [
        "# Method 2: Augmented Dickey-Fuller test\n",
        "Ho: Data is not stationary\n",
        "\n",
        "H1: Data is stationary"
      ],
      "metadata": {
        "id": "wM3wst8cMZ9e"
      }
    },
    {
      "cell_type": "code",
      "source": [
        "from statsmodels.tsa.stattools import adfuller"
      ],
      "metadata": {
        "id": "BfkupB09Lpii"
      },
      "execution_count": null,
      "outputs": []
    },
    {
      "cell_type": "code",
      "source": [
        "val=co2.dropna().values"
      ],
      "metadata": {
        "id": "brbvpBxCNNT0"
      },
      "execution_count": null,
      "outputs": []
    },
    {
      "cell_type": "code",
      "source": [
        "adf=adfuller(val)\n",
        "adf"
      ],
      "metadata": {
        "id": "DcYYfeRLOt4b"
      },
      "execution_count": null,
      "outputs": []
    },
    {
      "cell_type": "code",
      "source": [
        "len(adf)"
      ],
      "metadata": {
        "id": "8wLR9uO3Ow7U"
      },
      "execution_count": null,
      "outputs": []
    },
    {
      "cell_type": "code",
      "source": [
        "p_value=adf[1]\n",
        "p_value\n",
        "# as P value is way greater than alpha i.e. it lies in the null region that means we are failed to reject null hypotheis"
      ],
      "metadata": {
        "id": "bWgwweymPDkn"
      },
      "execution_count": null,
      "outputs": []
    },
    {
      "cell_type": "markdown",
      "source": [
        "# Differencing"
      ],
      "metadata": {
        "id": "AQwOXDDMTXRr"
      }
    },
    {
      "cell_type": "markdown",
      "source": [
        "# A. Seasonal Adjustment"
      ],
      "metadata": {
        "id": "p2W61P-x1Z4V"
      }
    },
    {
      "cell_type": "code",
      "source": [
        "url = 'https://raw.githubusercontent.com/jbrownlee/Datasets/master/airline-passengers.csv'\n",
        "df = pd.read_csv(url)\n",
        "df['Month'] = pd.to_datetime(df['Month'])\n",
        "df.set_index('Month', inplace=True)\n",
        "df"
      ],
      "metadata": {
        "id": "UPqYYOMDPTs0"
      },
      "execution_count": null,
      "outputs": []
    },
    {
      "cell_type": "code",
      "source": [
        "df.plot()"
      ],
      "metadata": {
        "id": "IiV0Uty0ZZQn"
      },
      "execution_count": null,
      "outputs": []
    },
    {
      "cell_type": "code",
      "source": [
        "import statsmodels.api as sm"
      ],
      "metadata": {
        "id": "RyXcRlsQZAZb"
      },
      "execution_count": null,
      "outputs": []
    },
    {
      "cell_type": "code",
      "source": [
        "result=sm.tsa.seasonal_decompose(df['Passengers'],model='multiplicative',period=12).plot()"
      ],
      "metadata": {
        "id": "zOrAziBfY6rf"
      },
      "execution_count": null,
      "outputs": []
    },
    {
      "cell_type": "code",
      "source": [
        "# result.trend.sample(10)"
      ],
      "metadata": {
        "id": "GfymOkXfaST-"
      },
      "execution_count": null,
      "outputs": []
    },
    {
      "cell_type": "code",
      "source": [
        "# Seasonal adjustment\n",
        "result = sm.tsa.seasonal_decompose(df['Passengers'], model='multiplicative', period=12)\n",
        "df['Seasonal_Adjusted'] = result.resid"
      ],
      "metadata": {
        "id": "3EWD4ULqZ87N"
      },
      "execution_count": null,
      "outputs": []
    },
    {
      "cell_type": "markdown",
      "source": [
        "# B. Differencing"
      ],
      "metadata": {
        "id": "17jQa9d71ghZ"
      }
    },
    {
      "cell_type": "code",
      "source": [
        "df['differenced']=df['Passengers'].diff()\n",
        "df.sample(5)"
      ],
      "metadata": {
        "id": "-M8oHip16RSP"
      },
      "execution_count": null,
      "outputs": []
    },
    {
      "cell_type": "code",
      "source": [
        "# Visualize the results\n",
        "plt.figure(figsize=(12, 8))\n",
        "\n",
        "# Original time series\n",
        "plt.subplot(3, 1, 1)\n",
        "plt.plot(df['Passengers'])\n",
        "plt.title('Original Time Series')\n",
        "plt.xlabel('Month')\n",
        "plt.ylabel('Passengers')\n",
        "\n",
        "# Seasonal Adjusted\n",
        "plt.subplot(3, 1, 2)\n",
        "plt.plot(df['Seasonal_Adjusted'])\n",
        "plt.title('Seasonal Adjusted Time Series')\n",
        "plt.xlabel('Month')\n",
        "plt.ylabel('Seasonal Adjusted Passengers')\n",
        "\n",
        "# Differenced\n",
        "plt.subplot(3, 1, 3)\n",
        "plt.plot(df['differenced'])\n",
        "plt.title('Differenced Time Series')\n",
        "plt.xlabel('Month')\n",
        "plt.ylabel('Differenced Passengers')\n",
        "\n",
        "plt.tight_layout()\n",
        "plt.show()\n"
      ],
      "metadata": {
        "id": "j9tHohxv1kSF"
      },
      "execution_count": null,
      "outputs": []
    },
    {
      "cell_type": "markdown",
      "source": [
        "# Moving Averages"
      ],
      "metadata": {
        "id": "MXivB09OW7VM"
      }
    }
  ]
}