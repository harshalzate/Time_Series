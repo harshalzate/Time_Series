{
  "nbformat": 4,
  "nbformat_minor": 0,
  "metadata": {
    "colab": {
      "private_outputs": true,
      "provenance": [],
      "authorship_tag": "ABX9TyMazoHBMdB24XcT0Jk0FkN4",
      "include_colab_link": true
    },
    "kernelspec": {
      "name": "python3",
      "display_name": "Python 3"
    },
    "language_info": {
      "name": "python"
    }
  },
  "cells": [
    {
      "cell_type": "markdown",
      "metadata": {
        "id": "view-in-github",
        "colab_type": "text"
      },
      "source": [
        "<a href=\"https://colab.research.google.com/github/harshalzate/Time_Series/blob/main/1.ipynb\" target=\"_parent\"><img src=\"https://colab.research.google.com/assets/colab-badge.svg\" alt=\"Open In Colab\"/></a>"
      ]
    },
    {
      "cell_type": "code",
      "source": [
        "import numpy as np\n",
        "import pandas as pd\n",
        "import matplotlib.pyplot as plt\n",
        "import seaborn as sns"
      ],
      "metadata": {
        "id": "3bBZoSwUKEh0"
      },
      "execution_count": null,
      "outputs": []
    },
    {
      "cell_type": "code",
      "source": [
        "from statsmodels.datasets import sunspots, macrodata, co2\n",
        "\n",
        "# Load sunspots data\n",
        "sunspots_data = sunspots.load_pandas().data\n",
        "\n",
        "# Load macroeconomic data\n",
        "macro_data = macrodata.load_pandas().data\n",
        "\n",
        "# Load CO2 data\n",
        "co2 = co2.load_pandas().data\n",
        "co2\n",
        "plt.plot(co2)"
      ],
      "metadata": {
        "id": "n3yMMRea6WpW"
      },
      "execution_count": null,
      "outputs": []
    },
    {
      "cell_type": "markdown",
      "source": [
        "# Decomposition\n",
        "# 1. Aditive\n",
        "# 2. Multiplicative\n",
        "\n",
        "# 1. Additive modeling the"
      ],
      "metadata": {
        "id": "iqHrGs2GGSpJ"
      }
    },
    {
      "cell_type": "code",
      "source": [],
      "metadata": {
        "id": "utO3zeqiGVY0"
      },
      "execution_count": null,
      "outputs": []
    },
    {
      "cell_type": "markdown",
      "source": [
        "# Stationarity"
      ],
      "metadata": {
        "id": "Xf4pd7C7GOKL"
      }
    },
    {
      "cell_type": "markdown",
      "source": [
        "# Method 1: calculate the mean and varience of the parts and check"
      ],
      "metadata": {
        "id": "cJ9BB5zbMRzw"
      }
    },
    {
      "cell_type": "code",
      "source": [
        "parts=len(co2)//3\n",
        "co2_1=co2.values[:parts]\n",
        "co2_2 = co2.values[:2*parts]\n",
        "co2_3 = co2.values[:3*parts]"
      ],
      "metadata": {
        "id": "tevUB8rxIxmJ"
      },
      "execution_count": null,
      "outputs": []
    },
    {
      "cell_type": "code",
      "source": [
        "mean_1=pd.Series(co2_1.flatten()).mean()\n",
        "mean_2 = pd.Series (co2_2.flatten()).mean()\n",
        "mean_3 = pd.Series(co2_3.flatten()).mean()\n",
        "mean_1,mean_2,mean_3"
      ],
      "metadata": {
        "id": "_JqARMcIJQHf"
      },
      "execution_count": null,
      "outputs": []
    },
    {
      "cell_type": "code",
      "source": [
        "var1=pd.Series(co2_1.flatten()).var()\n",
        "var2=pd.Series(co2_2.flatten()).var()\n",
        "var3 = pd.Series(co2_3.flatten()).var()\n",
        "var1,var2,var3"
      ],
      "metadata": {
        "id": "O-jbiHGHJ9bX"
      },
      "execution_count": null,
      "outputs": []
    },
    {
      "cell_type": "markdown",
      "source": [
        "# Method 2: Augmented Dickey-Fuller test\n",
        "Ho: Data is not stationary\n",
        "\n",
        "H1: Data is stationary"
      ],
      "metadata": {
        "id": "wM3wst8cMZ9e"
      }
    },
    {
      "cell_type": "code",
      "source": [
        "from statsmodels.tsa.stattools import adfuller"
      ],
      "metadata": {
        "id": "BfkupB09Lpii"
      },
      "execution_count": null,
      "outputs": []
    },
    {
      "cell_type": "code",
      "source": [
        "val=co2.dropna().values"
      ],
      "metadata": {
        "id": "brbvpBxCNNT0"
      },
      "execution_count": null,
      "outputs": []
    },
    {
      "cell_type": "code",
      "source": [
        "adf=adfuller(val)\n",
        "adf"
      ],
      "metadata": {
        "id": "DcYYfeRLOt4b"
      },
      "execution_count": null,
      "outputs": []
    },
    {
      "cell_type": "code",
      "source": [
        "len(adf)"
      ],
      "metadata": {
        "id": "8wLR9uO3Ow7U"
      },
      "execution_count": null,
      "outputs": []
    },
    {
      "cell_type": "code",
      "source": [
        "p_value=adf[1]\n",
        "p_value\n",
        "# as P value is way greater than alpha i.e. it lies in the null region that means we are failed to reject null hypotheis"
      ],
      "metadata": {
        "id": "bWgwweymPDkn"
      },
      "execution_count": null,
      "outputs": []
    },
    {
      "cell_type": "markdown",
      "source": [
        "# Differencing"
      ],
      "metadata": {
        "id": "AQwOXDDMTXRr"
      }
    },
    {
      "cell_type": "markdown",
      "source": [
        "# A. Seasonal Adjustment"
      ],
      "metadata": {
        "id": "p2W61P-x1Z4V"
      }
    },
    {
      "cell_type": "code",
      "source": [
        "url = 'https://raw.githubusercontent.com/jbrownlee/Datasets/master/airline-passengers.csv'\n",
        "df = pd.read_csv(url)\n",
        "df['Month'] = pd.to_datetime(df['Month'])\n",
        "df.set_index('Month', inplace=True)\n",
        "df"
      ],
      "metadata": {
        "id": "UPqYYOMDPTs0"
      },
      "execution_count": null,
      "outputs": []
    },
    {
      "cell_type": "code",
      "source": [
        "df.plot()"
      ],
      "metadata": {
        "id": "IiV0Uty0ZZQn"
      },
      "execution_count": null,
      "outputs": []
    },
    {
      "cell_type": "code",
      "source": [
        "import statsmodels.api as sm"
      ],
      "metadata": {
        "id": "RyXcRlsQZAZb"
      },
      "execution_count": null,
      "outputs": []
    },
    {
      "cell_type": "code",
      "source": [
        "result=sm.tsa.seasonal_decompose(df['Passengers'],model='multiplicative',period=12).plot()"
      ],
      "metadata": {
        "id": "zOrAziBfY6rf"
      },
      "execution_count": null,
      "outputs": []
    },
    {
      "cell_type": "code",
      "source": [
        "# LOESS DECOMP\n",
        "import numpy as np\n",
        "import pandas as pd\n",
        "import matplotlib.pyplot as plt\n",
        "import statsmodels.api as sm\n",
        "\n",
        "# Generate synthetic data\n",
        "np.random.seed(0)\n",
        "x = np.linspace(0, 10, 100)\n",
        "y = np.sin(x) + np.random.normal(scale=0.5, size=x.shape)\n",
        "\n",
        "# Create a DataFrame\n",
        "data = pd.DataFrame({'x': x, 'y': y})\n",
        "\n",
        "# Fit a Loess model\n",
        "lowess = sm.nonparametric.lowess(data['y'], data['x'], frac=0.3)  # frac determines the smoothness\n",
        "\n",
        "# Extract the smoothed values\n",
        "smoothed_y = lowess[:, 1]\n",
        "\n",
        "# Plot the results\n",
        "plt.figure(figsize=(10, 6))\n",
        "plt.scatter(data['x'], data['y'], label='Original Data', alpha=0.5)\n",
        "plt.plot(data['x'], smoothed_y, color='red', label='Loess Smoothing', linewidth=2)\n",
        "plt.title('Loess Smoothing Example')\n",
        "plt.xlabel('X')\n",
        "plt.ylabel('Y')\n",
        "plt.legend()\n",
        "plt.show()\n"
      ],
      "metadata": {
        "id": "Srb6LhrW94xX"
      },
      "execution_count": null,
      "outputs": []
    },
    {
      "cell_type": "code",
      "source": [
        "# Seasonal adjustment\n",
        "result = sm.tsa.seasonal_decompose(df['Passengers'], model='multiplicative', period=12)"
      ],
      "metadata": {
        "id": "KG9S_43vDfwy"
      },
      "execution_count": null,
      "outputs": []
    },
    {
      "cell_type": "code",
      "source": [
        "new_df=df[:]\n",
        "new_df['Trend']=result.trend\n",
        "new_df['Seasonal']=result.seasonal\n",
        "new_df['Residual']=result.resid\n",
        "new_df['final'] = new_df['Trend'] * new_df['Seasonal'] * new_df['Residual']\n",
        "new_df.sample(10)"
      ],
      "metadata": {
        "id": "Q9dreg0oFEOo"
      },
      "execution_count": null,
      "outputs": []
    },
    {
      "cell_type": "code",
      "source": [
        "# FOr"
      ],
      "metadata": {
        "id": "LI6aQxzgF__p"
      },
      "execution_count": null,
      "outputs": []
    },
    {
      "cell_type": "code",
      "source": [
        "|result.seasonal.sample(15)"
      ],
      "metadata": {
        "id": "rs-9Om1sEyu1"
      },
      "execution_count": null,
      "outputs": []
    },
    {
      "cell_type": "code",
      "source": [
        "# result.trend.sample(10)"
      ],
      "metadata": {
        "id": "GfymOkXfaST-"
      },
      "execution_count": null,
      "outputs": []
    },
    {
      "cell_type": "code",
      "source": [
        "# Seasonal adjustment\n",
        "result = sm.tsa.seasonal_decompose(df['Passengers'], model='multiplicative', period=12)\n",
        "df['Seasonal_Adjusted'] = result.resid"
      ],
      "metadata": {
        "id": "3EWD4ULqZ87N"
      },
      "execution_count": null,
      "outputs": []
    },
    {
      "cell_type": "markdown",
      "source": [
        "# B. Differencing"
      ],
      "metadata": {
        "id": "17jQa9d71ghZ"
      }
    },
    {
      "cell_type": "code",
      "source": [
        "df['differenced']=df['Passengers'].diff()\n",
        "df.sample(5)"
      ],
      "metadata": {
        "id": "-M8oHip16RSP"
      },
      "execution_count": null,
      "outputs": []
    },
    {
      "cell_type": "code",
      "source": [
        "# Visualize the results\n",
        "plt.figure(figsize=(12, 8))\n",
        "\n",
        "# Original time series\n",
        "plt.subplot(3, 1, 1)\n",
        "plt.plot(df['Passengers'])\n",
        "plt.title('Original Time Series')\n",
        "plt.xlabel('Month')\n",
        "plt.ylabel('Passengers')\n",
        "\n",
        "# Seasonal Adjusted\n",
        "plt.subplot(3, 1, 2)\n",
        "plt.plot(df['Seasonal_Adjusted'])\n",
        "plt.title('Seasonal Adjusted Time Series')\n",
        "plt.xlabel('Month')\n",
        "plt.ylabel('Seasonal Adjusted Passengers')\n",
        "\n",
        "# Differenced\n",
        "plt.subplot(3, 1, 3)\n",
        "plt.plot(df['differenced'])\n",
        "plt.title('Differenced Time Series')\n",
        "plt.xlabel('Month')\n",
        "plt.ylabel('Differenced Passengers')\n",
        "\n",
        "plt.tight_layout()\n",
        "plt.show()\n"
      ],
      "metadata": {
        "id": "j9tHohxv1kSF"
      },
      "execution_count": null,
      "outputs": []
    },
    {
      "cell_type": "markdown",
      "source": [
        "# Moving Averages"
      ],
      "metadata": {
        "id": "MXivB09OW7VM"
      }
    },
    {
      "cell_type": "code",
      "source": [
        "import pandas as pd\n",
        "import numpy as np\n",
        "import matplotlib.pyplot as plt\n",
        "from statsmodels.graphics.tsaplots import plot_acf, plot_pacf\n",
        "from statsmodels.tsa.arima.model import ARIMA\n",
        "\n",
        "import yfinance as yf\n",
        "import warnings\n",
        "warnings.filterwarnings(\"ignore\")\n",
        "\n",
        "plt.rcParams['figure.figsize'] = 15, 5"
      ],
      "metadata": {
        "id": "p4labpEdUONx"
      },
      "execution_count": null,
      "outputs": []
    },
    {
      "cell_type": "code",
      "source": [
        "AMD = yf.Ticker(\"AMD\")\n",
        "\n",
        "# getting the historical market data\n",
        "AMD_values = AMD.history(start=\"2020-01-01\")\n",
        "\n",
        "# Plotting the close price of AMD\n",
        "AMD_values[['Close']].plot();"
      ],
      "metadata": {
        "id": "UTyhrvTqU0LD"
      },
      "execution_count": null,
      "outputs": []
    },
    {
      "cell_type": "code",
      "source": [
        "AMD_values['Rolling']=AMD_values['Close'].rolling(10).mean()"
      ],
      "metadata": {
        "id": "WIXijAcyVrKv"
      },
      "execution_count": null,
      "outputs": []
    },
    {
      "cell_type": "code",
      "source": [
        "AMD_values[['Close','Rolling']].plot()"
      ],
      "metadata": {
        "id": "r16E_BbSV4ax"
      },
      "execution_count": null,
      "outputs": []
    },
    {
      "cell_type": "markdown",
      "source": [
        "# AutoCorrelation\n"
      ],
      "metadata": {
        "id": "BhkyI9ownMVP"
      }
    },
    {
      "cell_type": "code",
      "source": [
        "import pandas as pd\n",
        "import numpy as np\n",
        "import matplotlib.pyplot as plt\n",
        "import statsmodels.api as sm\n",
        "from statsmodels.stats.stattools import durbin_watson\n",
        "from statsmodels.regression.linear_model import OLS\n",
        "from statsmodels.graphics.tsaplots import plot_acf"
      ],
      "metadata": {
        "id": "6VjxY12pWGzt"
      },
      "execution_count": null,
      "outputs": []
    },
    {
      "cell_type": "code",
      "source": [
        "goog_stock_Data=pd.read_csv('https://raw.githubusercontent.com/harshalzate/Time_Series/refs/heads/main/DATA_FILES/GOOGL.csv',parse_dates=['Date'],index_col='Date')"
      ],
      "metadata": {
        "id": "8cMgQJ-joGv8"
      },
      "execution_count": null,
      "outputs": []
    },
    {
      "cell_type": "code",
      "source": [
        "goog_stock_Data['Adj Close'].plot()\n",
        "plt.show()"
      ],
      "metadata": {
        "id": "AH5U0w-jtPNo"
      },
      "execution_count": null,
      "outputs": []
    },
    {
      "cell_type": "code",
      "source": [
        "goog_stock_Data.columns"
      ],
      "metadata": {
        "id": "UwRtpd36ud26"
      },
      "execution_count": null,
      "outputs": []
    },
    {
      "cell_type": "code",
      "source": [
        "# plotting acf\n",
        "plot_acf(goog_stock_Data['Adj Close'], alpha =0.05,lags=50)\n",
        "plt.show()"
      ],
      "metadata": {
        "id": "7iMgDQDRt2x3"
      },
      "execution_count": null,
      "outputs": []
    },
    {
      "cell_type": "code",
      "source": [
        "# fittng the regression model\n",
        "X=np.arange(len(goog_stock_Data['Adj Close']))\n",
        "Y=np.asarray(goog_stock_Data[['Adj Close']])\n",
        "X=sm.add_constant(X)\n",
        "model=OLS(Y,X).fit()\n",
        "resid = model.resid\n",
        "durbin_watson(resid)"
      ],
      "metadata": {
        "id": "8f3au2pe-azj"
      },
      "execution_count": null,
      "outputs": []
    },
    {
      "cell_type": "markdown",
      "source": [
        "The durbin watson coefficent is very close 0 on positive side indicating the positive correlation between the lag variables"
      ],
      "metadata": {
        "id": "O-pgNlFg_e0W"
      }
    },
    {
      "cell_type": "markdown",
      "source": [
        "# Partial AutoCorrelation (PACF)"
      ],
      "metadata": {
        "id": "VuFc2nD0JKvm"
      }
    },
    {
      "cell_type": "code",
      "source": [
        "from statsmodels.tsa.stattools import pacf\n",
        "from statsmodels.graphics.tsaplots import plot_pacf"
      ],
      "metadata": {
        "id": "JWaZTTrZ-OaM"
      },
      "execution_count": null,
      "outputs": []
    },
    {
      "cell_type": "code",
      "source": [
        "pacf_values=pacf(goog_stock_Data['Adj Close'],nlags=50)\n",
        "pacf_values"
      ],
      "metadata": {
        "id": "nDu_j548K7Mb"
      },
      "execution_count": null,
      "outputs": []
    },
    {
      "cell_type": "code",
      "source": [
        "plot_pacf(goog_stock_Data['Adj Close'],alpha=0.05)\n",
        "plt.show()"
      ],
      "metadata": {
        "id": "IJspOkzfJYyf"
      },
      "execution_count": null,
      "outputs": []
    },
    {
      "cell_type": "code",
      "source": [
        "# PACF on the new dataset\n",
        "from statsmodels.datasets import get_rdataset\n",
        "data = get_rdataset('AirPassengers').data\n",
        "data"
      ],
      "metadata": {
        "id": "cKEwXNHdJqS4"
      },
      "execution_count": null,
      "outputs": []
    },
    {
      "cell_type": "code",
      "source": [
        "# Plot the time series data\n",
        "plt.figure(figsize=(10, 5))\n",
        "plt.plot(data['value'])\n",
        "plt.title('Airline Passengers Over Time')\n",
        "plt.xlabel('Year')\n",
        "plt.ylabel('Passenger Count')\n",
        "plt.grid(True)\n",
        "plt.show()\n"
      ],
      "metadata": {
        "id": "_1S1ZknxLspT"
      },
      "execution_count": null,
      "outputs": []
    },
    {
      "cell_type": "code",
      "source": [
        "plot_pacf(data['value'], lags=20)\n",
        "plt.show()"
      ],
      "metadata": {
        "id": "YQqdpYdOMwjJ"
      },
      "execution_count": null,
      "outputs": []
    },
    {
      "cell_type": "code",
      "source": [
        "# Calculate PACF using statsmodels pacf function\n",
        "pacf_values = pacf(data['value'], nlags=20)\n",
        "\n",
        "# Plot PACF\n",
        "plt.figure(figsize=(10, 5))\n",
        "plt.bar(range(len(pacf_values)), pacf_values)\n",
        "plt.title('Partial Autocorrelation Function (PACF)')\n",
        "plt.xlabel('Lags')\n",
        "plt.ylabel('PACF')\n",
        "plt.grid(True)\n",
        "plt.show()"
      ],
      "metadata": {
        "id": "giu2xNvRMbnq"
      },
      "execution_count": null,
      "outputs": []
    },
    {
      "cell_type": "markdown",
      "source": [
        "# Box - jenkins mehtod"
      ],
      "metadata": {
        "id": "_bh-DtAUdEFk"
      }
    },
    {
      "cell_type": "code",
      "source": [
        "# 1. Identification\n",
        "# 2. Estimation\n",
        "# 3. Diagnostic Check\n",
        "# 4. Refinement"
      ],
      "metadata": {
        "id": "EmWLeM-2c9xq"
      },
      "execution_count": null,
      "outputs": []
    },
    {
      "cell_type": "code",
      "source": [
        "import yfinance as yf\n",
        "import pandas as pd\n",
        "import numpy as np\n",
        "import matplotlib.pyplot as plt\n",
        "from statsmodels.tsa.stattools import adfuller\n",
        "from statsmodels.tsa.arima.model import ARIMA\n",
        "from statsmodels.graphics.tsaplots import plot_acf,plot_pacf\n",
        "from statsmodels.tsa.seasonal import seasonal_decompose\n",
        "from statsmodels.stats.diagnostic import acorr_ljungbox\n",
        "import warnings\n",
        "warnings.filterwarnings('ignore')"
      ],
      "metadata": {
        "id": "TKRK1sWujdX4"
      },
      "execution_count": null,
      "outputs": []
    },
    {
      "cell_type": "code",
      "source": [
        "# Function to check stationarity using Augmented Dickey-Fuller test\n",
        "def check_stationarity(ts):\n",
        "    result = adfuller(ts)\n",
        "    print(f'ADF Statistic: {result[0]}')\n",
        "    print(f'p-value: {result[1]}')\n",
        "    print(f'Critical Values: {result[4]}')\n",
        "\n",
        "# Function to plot ACF and PACF\n",
        "def plot_acf_pacf(ts):\n",
        "    fig, (ax1, ax2) = plt.subplots(1, 2, figsize=(12, 4))\n",
        "    plot_acf(ts, ax=ax1, lags=20)\n",
        "    plot_pacf(ts, ax=ax2, lags=20)\n",
        "    plt.show()"
      ],
      "metadata": {
        "id": "hsszOUVYmpjW"
      },
      "execution_count": null,
      "outputs": []
    },
    {
      "cell_type": "code",
      "source": [
        "# Load stock data\n",
        "stock_symbol = \"AAPL\"\n",
        "start_date = \"2015-01-01\"\n",
        "end_date = \"2023-01-01\"\n",
        "stock_data = yf.download(stock_symbol, start=start_date, end=end_date)['Close']\n",
        "\n",
        "# Log transformation to stabilize variance\n",
        "log_returns = stock_data.pct_change().dropna()\n",
        "# Using the percentage change instead of actual values better for normalization, stationarity, scale independancy\n",
        "log_returns = log_returns.apply(lambda x: np.log(1 + x))"
      ],
      "metadata": {
        "id": "MsYNpulmmzCI"
      },
      "execution_count": null,
      "outputs": []
    },
    {
      "cell_type": "code",
      "source": [
        "df=pd.DataFrame([1,2,3,4])\n",
        "df['pct']=df.pct_change().dropna()\n",
        "df"
      ],
      "metadata": {
        "id": "U4rXpWtMo2wC"
      },
      "execution_count": null,
      "outputs": []
    },
    {
      "cell_type": "code",
      "source": [
        "# Check stationarity\n",
        "check_stationarity(log_returns)\n",
        "\n",
        "# Differencing to make the series stationary\n",
        "log_returns_diff = log_returns.diff().dropna()\n",
        "\n",
        "# Check stationarity after differencing\n",
        "check_stationarity(log_returns_diff)\n",
        "\n",
        "# Plot ACF and PACF after differencing\n",
        "plot_acf_pacf(log_returns_diff)"
      ],
      "metadata": {
        "id": "kYqDtyjGnCWV"
      },
      "execution_count": null,
      "outputs": []
    },
    {
      "cell_type": "code",
      "source": [
        "# Find optimal values for p, d, q based on AIC and BIC\n",
        "best_aic = float('inf')\n",
        "best_bic = float('inf')\n",
        "best_order = None\n",
        "\n",
        "for p in range(3):  # Choose a range for p\n",
        "    for d in range(2):  # Choose a range for d\n",
        "        for q in range(3):  # Choose a range for q\n",
        "            arima_model = ARIMA(log_returns, order=(p, d, q))\n",
        "            arima_results = arima_model.fit()\n",
        "\n",
        "            # Calculate AIC and BIC\n",
        "            current_aic = arima_results.aic\n",
        "            current_bic = arima_results.bic\n",
        "\n",
        "            # Update best values\n",
        "            if current_aic < best_aic and current_bic < best_bic:\n",
        "                best_aic = current_aic\n",
        "                best_bic = current_bic\n",
        "                best_order = (p, d, q)\n",
        "\n",
        "print(f'Best AIC: {best_aic}, Best BIC: {best_bic}, Best Order: {best_order}')"
      ],
      "metadata": {
        "id": "6V_p7tm6u8Y_"
      },
      "execution_count": null,
      "outputs": []
    },
    {
      "cell_type": "code",
      "source": [
        "# Refinement\n"
      ],
      "metadata": {
        "id": "GS2EniMEvLHG"
      },
      "execution_count": null,
      "outputs": []
    },
    {
      "cell_type": "markdown",
      "source": [
        "# Time series Models"
      ],
      "metadata": {
        "id": "xN3PVNSiMLFD"
      }
    },
    {
      "cell_type": "markdown",
      "source": [
        "# 1. Autoregresssive(AR) Models"
      ],
      "metadata": {
        "id": "aTvV4kIoRGqo"
      }
    },
    {
      "cell_type": "code",
      "source": [
        "df=pd.read_csv('https://raw.githubusercontent.com/harshalzate/Time_Series/refs/heads/main/DATA_FILES/GOOGL.csv',parse_dates=['Date'],index_col='Date')\n",
        "df=df['Adj Close'].to_frame()"
      ],
      "metadata": {
        "id": "072O55kKRCY3"
      },
      "execution_count": null,
      "outputs": []
    },
    {
      "cell_type": "code",
      "source": [
        "# plot\n",
        "plt.figure(figsize=(15,5))\n",
        "plt.plot(df,label=data)\n",
        "plt.xlabel('Date')\n",
        "plt.ylabel('Adj Close')\n",
        "# plt.legend()\n",
        "plt.title('Stock data')\n",
        "plt.show()"
      ],
      "metadata": {
        "id": "KSg4sRHqRpgQ"
      },
      "execution_count": null,
      "outputs": []
    },
    {
      "cell_type": "code",
      "source": [
        "df"
      ],
      "metadata": {
        "id": "oA-0ipKZTtVI"
      },
      "execution_count": null,
      "outputs": []
    },
    {
      "cell_type": "code",
      "source": [
        "# prepocessing\n",
        "# 1. lags\n",
        "for i in range(1,6):\n",
        "  df['Lag{}'.format(i)]=df['Adj Close'].shift(i)\n",
        "df"
      ],
      "metadata": {
        "id": "_m7DG2WSSRbg"
      },
      "execution_count": null,
      "outputs": []
    },
    {
      "cell_type": "code",
      "source": [
        "df.shape"
      ],
      "metadata": {
        "id": "MVYfAsfpUVO_"
      },
      "execution_count": null,
      "outputs": []
    },
    {
      "cell_type": "code",
      "source": [
        "df.dropna(inplace=True)"
      ],
      "metadata": {
        "id": "9aVuGULvTrGg"
      },
      "execution_count": null,
      "outputs": []
    },
    {
      "cell_type": "code",
      "source": [
        "df.shape"
      ],
      "metadata": {
        "id": "YX0aPXhaUXts"
      },
      "execution_count": null,
      "outputs": []
    },
    {
      "cell_type": "code",
      "source": [
        "#3 Training And Testing Dataset\n",
        "n=int(np.floor(0.8*len(df)))\n",
        "y_train = df.iloc[:n,:]\n",
        "y_test = df.iloc[n:,:]\n",
        "len(y_train),len(y_test)"
      ],
      "metadata": {
        "id": "pKeefbUzUZxp"
      },
      "execution_count": null,
      "outputs": []
    },
    {
      "cell_type": "code",
      "source": [
        "from statsmodels.graphics.tsaplots import plot_acf,plot_pacf\n",
        "plot_acf(y_train['Adj Close'])"
      ],
      "metadata": {
        "id": "exk6pozQV780"
      },
      "execution_count": null,
      "outputs": []
    },
    {
      "cell_type": "code",
      "source": [
        "# 3. Model Building\n",
        "from statsmodels.tsa.ar_model import AutoReg\n",
        "from statsmodels.tsa.api import AutoReg  # This import is redundant\n",
        "from sklearn.metrics import mean_squared_error, mean_absolute_error\n",
        "\n",
        "order = 999\n",
        "model = AutoReg(y_train['Adj Close'], lags=order)\n",
        "results = model.fit()  # Store the fitted results\n",
        "\n",
        "# Assuming 'l' is the length of y_train\n",
        "l = len(y_test)\n",
        "n=len(y_train)\n",
        "y_pred = results.predict(n, end=l+n-1,dynamic=False)  # Use results.predict, not model.predict\n",
        "\n",
        "# Make sure y_test and y_pred have the same length\n",
        "# y_test_subset = y_test[:5]  # Assuming y_test is a Series or 1D array\n",
        "\n",
        "MAE = mean_absolute_error(y_test['Adj Close'], y_pred)\n",
        "MSE= mean_squared_error(y_test['Adj Close'], y_pred)\n",
        "RMSE = np.sqrt(MSE)\n",
        "\n",
        "print(\"Mean Absolute Error (MAE):\", MAE)\n",
        "print(\"Mean Squared Error (MSE):\", MSE)\n",
        "print(\"Root Mean Squared Error (RMSE):\", RMSE)"
      ],
      "metadata": {
        "id": "6e-zYZ6IdHJy"
      },
      "execution_count": null,
      "outputs": []
    },
    {
      "cell_type": "code",
      "source": [
        "plt.plot(y_test['Adj Close'].index,y_test['Adj Close'],label='Actual')\n",
        "plt.plot(y_test['Adj Close'].index,y_pred,label='Actual')\n",
        "plt.legend()\n",
        "plt.show()"
      ],
      "metadata": {
        "id": "84U3JbCShexH"
      },
      "execution_count": null,
      "outputs": []
    },
    {
      "cell_type": "code",
      "source": [],
      "metadata": {
        "id": "gQOoT5Vmg-Zb"
      },
      "execution_count": null,
      "outputs": []
    }
  ]
}