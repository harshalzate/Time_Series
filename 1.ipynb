{
  "nbformat": 4,
  "nbformat_minor": 0,
  "metadata": {
    "colab": {
      "private_outputs": true,
      "provenance": [],
      "authorship_tag": "ABX9TyPBh/8bPKFyMsVQprvDowFr",
      "include_colab_link": true
    },
    "kernelspec": {
      "name": "python3",
      "display_name": "Python 3"
    },
    "language_info": {
      "name": "python"
    }
  },
  "cells": [
    {
      "cell_type": "markdown",
      "metadata": {
        "id": "view-in-github",
        "colab_type": "text"
      },
      "source": [
        "<a href=\"https://colab.research.google.com/github/harshalzate/Time_Series/blob/main/1.ipynb\" target=\"_parent\"><img src=\"https://colab.research.google.com/assets/colab-badge.svg\" alt=\"Open In Colab\"/></a>"
      ]
    },
    {
      "cell_type": "code",
      "source": [
        "import pandas as pd\n",
        "import numpy as np\n",
        "import matplotlib.pyplot as plt\n",
        "\n",
        "# Step 1: Create a sample time series dataset\n",
        "date_range = pd.date_range(start='2023-01-01', periods=30, freq='D')\n",
        "data = np.random.rand(len(date_range)) * 100  # Random data\n",
        "data[[5, 10, 15, 20]] = np.nan  # Introduce some missing values"
      ],
      "metadata": {
        "id": "iSCoEUowlZVQ"
      },
      "execution_count": null,
      "outputs": []
    },
    {
      "cell_type": "code",
      "source": [
        "df=pd.DataFrame(data,index=date_range,columns=['values'])\n",
        "df"
      ],
      "metadata": {
        "id": "UBstDzErlZlX"
      },
      "execution_count": null,
      "outputs": []
    },
    {
      "cell_type": "code",
      "source": [
        "plt.figure(figsize=(12, 6))\n",
        "plt.plot(df, marker='o', label='Original Data', color='blue')\n",
        "plt.title('Time Series Data with Missing Values')\n",
        "plt.xlabel('Date')\n",
        "plt.ylabel('Value')\n",
        "plt.legend()\n",
        "plt.show()"
      ],
      "metadata": {
        "id": "vr1C8unpnp-e"
      },
      "execution_count": null,
      "outputs": []
    },
    {
      "cell_type": "code",
      "source": [
        "#1 ForwardFill\n",
        "f_df=df.copy()\n",
        "f_df=df.fillna(method='ffill')\n",
        "f_df=df.ffill()"
      ],
      "metadata": {
        "id": "VHyYEzLgnyS9"
      },
      "execution_count": null,
      "outputs": []
    },
    {
      "cell_type": "code",
      "source": [
        "#2 BackwardFilll\n",
        "b_df=df.copy()\n",
        "b_df=df.fillna(method='bfill')\n",
        "b_df=df.bfill()"
      ],
      "metadata": {
        "id": "t7Em6qP3pa0u"
      },
      "execution_count": null,
      "outputs": []
    },
    {
      "cell_type": "code",
      "source": [
        "# ROlling Average (Forward i.e previous data points or forward & backward both )\n",
        "r_df=df.copy()\n",
        "r_df.fillna(r_df.rolling(window=5,min_periods=1).mean(),inplace=True)"
      ],
      "metadata": {
        "id": "gyvdJNF9qKLP"
      },
      "execution_count": null,
      "outputs": []
    },
    {
      "cell_type": "code",
      "source": [
        "# Interpolation\n",
        "i_df=df.copy()\n",
        "i_df=i_df.interpolate(method='linear')\n",
        "i_df=i_df.interpolate(method='spline',order=3)"
      ],
      "metadata": {
        "id": "b7AOOuvcL86I"
      },
      "execution_count": null,
      "outputs": []
    },
    {
      "cell_type": "code",
      "source": [],
      "metadata": {
        "id": "DkuuWw4DMzDg"
      },
      "execution_count": null,
      "outputs": []
    }
  ]
}