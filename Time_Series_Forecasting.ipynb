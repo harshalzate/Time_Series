{
  "nbformat": 4,
  "nbformat_minor": 0,
  "metadata": {
    "colab": {
      "private_outputs": true,
      "provenance": [],
      "authorship_tag": "ABX9TyPtLDV0pwIy+1evZcXRw5Tm",
      "include_colab_link": true
    },
    "kernelspec": {
      "name": "python3",
      "display_name": "Python 3"
    },
    "language_info": {
      "name": "python"
    }
  },
  "cells": [
    {
      "cell_type": "markdown",
      "metadata": {
        "id": "view-in-github",
        "colab_type": "text"
      },
      "source": [
        "<a href=\"https://colab.research.google.com/github/harshalzate/Time_Series/blob/main/Time_Series_Forecasting.ipynb\" target=\"_parent\"><img src=\"https://colab.research.google.com/assets/colab-badge.svg\" alt=\"Open In Colab\"/></a>"
      ]
    },
    {
      "cell_type": "markdown",
      "source": [
        "# Time series Models"
      ],
      "metadata": {
        "id": "xN3PVNSiMLFD"
      }
    },
    {
      "cell_type": "markdown",
      "source": [
        "# 1. Autoregresssive(AR) Models"
      ],
      "metadata": {
        "id": "aTvV4kIoRGqo"
      }
    },
    {
      "cell_type": "code",
      "source": [
        "import pandas as pd\n",
        "import matplotlib.pyplot as plt\n",
        "import numpy as np"
      ],
      "metadata": {
        "id": "dpGF7iJ8nt8K"
      },
      "execution_count": null,
      "outputs": []
    },
    {
      "cell_type": "code",
      "source": [
        "df=pd.read_csv('https://raw.githubusercontent.com/harshalzate/Time_Series/refs/heads/main/DATA_FILES/GOOGL.csv',parse_dates=['Date'],index_col='Date')\n",
        "df=df['Adj Close'].to_frame()"
      ],
      "metadata": {
        "id": "072O55kKRCY3"
      },
      "execution_count": null,
      "outputs": []
    },
    {
      "cell_type": "code",
      "source": [
        "# plot\n",
        "plt.figure(figsize=(15,5))\n",
        "plt.plot(df,label='data')\n",
        "plt.xlabel('Date')\n",
        "plt.ylabel('Adj Close')\n",
        "# plt.legend()\n",
        "plt.title('Stock data')\n",
        "plt.show()"
      ],
      "metadata": {
        "id": "KSg4sRHqRpgQ"
      },
      "execution_count": null,
      "outputs": []
    },
    {
      "cell_type": "code",
      "source": [
        "df"
      ],
      "metadata": {
        "id": "oA-0ipKZTtVI"
      },
      "execution_count": null,
      "outputs": []
    },
    {
      "cell_type": "code",
      "source": [
        "# prepocessing\n",
        "# 1. lags\n",
        "for i in range(1,6):\n",
        "  df['Lag{}'.format(i)]=df['Adj Close'].shift(i)\n",
        "df"
      ],
      "metadata": {
        "id": "_m7DG2WSSRbg"
      },
      "execution_count": null,
      "outputs": []
    },
    {
      "cell_type": "code",
      "source": [
        "df.shape"
      ],
      "metadata": {
        "id": "MVYfAsfpUVO_"
      },
      "execution_count": null,
      "outputs": []
    },
    {
      "cell_type": "code",
      "source": [
        "df.dropna(inplace=True)"
      ],
      "metadata": {
        "id": "9aVuGULvTrGg"
      },
      "execution_count": null,
      "outputs": []
    },
    {
      "cell_type": "code",
      "source": [
        "df.shape"
      ],
      "metadata": {
        "id": "YX0aPXhaUXts"
      },
      "execution_count": null,
      "outputs": []
    },
    {
      "cell_type": "code",
      "source": [
        "#2 Training And Testing Dataset\n",
        "n=int(np.floor(0.8*len(df)))\n",
        "y_train = df.iloc[:n,:]\n",
        "y_test = df.iloc[n:,:]\n",
        "len(y_train),len(y_test)"
      ],
      "metadata": {
        "id": "pKeefbUzUZxp"
      },
      "execution_count": null,
      "outputs": []
    },
    {
      "cell_type": "code",
      "source": [
        "from statsmodels.graphics.tsaplots import plot_acf,plot_pacf\n",
        "plot_acf(y_train['Adj Close'])"
      ],
      "metadata": {
        "id": "exk6pozQV780"
      },
      "execution_count": null,
      "outputs": []
    },
    {
      "cell_type": "code",
      "source": [
        "# 3. Model Building\n",
        "from statsmodels.tsa.ar_model import AutoReg\n",
        "from statsmodels.tsa.api import AutoReg  # This import is redundant\n",
        "from sklearn.metrics import mean_squared_error, mean_absolute_error\n",
        "\n",
        "order = 999\n",
        "model = AutoReg(y_train['Adj Close'], lags=order)\n",
        "results = model.fit()  # Store the fitted results\n",
        "\n",
        "# Assuming 'l' is the length of y_train\n",
        "l = len(y_test)\n",
        "n=len(y_train)\n",
        "y_pred = results.predict(n, end=l+n-1,dynamic=False)  # Use results.predict, not model.predict\n",
        "\n",
        "# Make sure y_test and y_pred have the same length\n",
        "# y_test_subset = y_test[:5]  # Assuming y_test is a Series or 1D array\n",
        "\n",
        "MAE = mean_absolute_error(y_test['Adj Close'], y_pred)\n",
        "MSE= mean_squared_error(y_test['Adj Close'], y_pred)\n",
        "RMSE = np.sqrt(MSE)\n",
        "\n",
        "print(\"Mean Absolute Error (MAE):\", MAE)\n",
        "print(\"Mean Squared Error (MSE):\", MSE)\n",
        "print(\"Root Mean Squared Error (RMSE):\", RMSE)"
      ],
      "metadata": {
        "id": "6e-zYZ6IdHJy"
      },
      "execution_count": null,
      "outputs": []
    },
    {
      "cell_type": "code",
      "source": [
        "# Future Predictions\n",
        "n=200\n",
        "future_result = results.predict(start=len(y_train),end=len(y_train)+len(y_test)+n,dynamic=False)[-n:]"
      ],
      "metadata": {
        "id": "UDAJgfpKnnz2"
      },
      "execution_count": null,
      "outputs": []
    },
    {
      "cell_type": "code",
      "source": [
        "future_result"
      ],
      "metadata": {
        "id": "iCEvBEE_qfGB"
      },
      "execution_count": null,
      "outputs": []
    },
    {
      "cell_type": "code",
      "source": [
        "future= pd.date_range(start=y_test.index[-1],periods=n,freq='D')"
      ],
      "metadata": {
        "id": "KPYNaa1Yo8zJ"
      },
      "execution_count": null,
      "outputs": []
    },
    {
      "cell_type": "code",
      "source": [
        "plt.plot(y_test['Adj Close'].index,y_test['Adj Close'],label='Actual')\n",
        "plt.plot(y_test['Adj Close'].index,y_pred,label='Actual')\n",
        "plt.plot(future,future_result, label='Future' )\n",
        "plt.legend()\n",
        "plt.show()"
      ],
      "metadata": {
        "id": "NjnDasdTqBPm"
      },
      "execution_count": null,
      "outputs": []
    },
    {
      "cell_type": "markdown",
      "source": [
        "#2. ARIMA"
      ],
      "metadata": {
        "id": "gu6jvpXGneEa"
      }
    },
    {
      "cell_type": "code",
      "source": [
        "df=pd.read_csv('https://raw.githubusercontent.com/harshalzate/Time_Series/refs/heads/main/DATA_FILES/GOOGL.csv',parse_dates=['Date'],index_col='Date')"
      ],
      "metadata": {
        "id": "kd2SxxFZFFbe"
      },
      "execution_count": null,
      "outputs": []
    },
    {
      "cell_type": "code",
      "source": [
        "df.sample(5)"
      ],
      "metadata": {
        "id": "POLT-1rJFM32"
      },
      "execution_count": null,
      "outputs": []
    },
    {
      "cell_type": "code",
      "source": [
        "!pip install pmdarima"
      ],
      "metadata": {
        "id": "VDWWL1IWFcPP"
      },
      "execution_count": null,
      "outputs": []
    },
    {
      "cell_type": "code",
      "source": [
        "import pandas as pd\n",
        "from pmdarima import auto_arima\n",
        "import matplotlib.pyplot as plt"
      ],
      "metadata": {
        "id": "tOtqSep4FxT1"
      },
      "execution_count": null,
      "outputs": []
    },
    {
      "cell_type": "code",
      "source": [
        "df.sample(4)"
      ],
      "metadata": {
        "id": "_HSowWAfGKNk"
      },
      "execution_count": null,
      "outputs": []
    },
    {
      "cell_type": "code",
      "source": [
        "auto_arima(df['Adj Close'],seasonal=False, stepwise=True, trace=False)\n",
        "# initial model parameters are set to (0,0,0)"
      ],
      "metadata": {
        "id": "UsmHcEIKF8De"
      },
      "execution_count": null,
      "outputs": []
    },
    {
      "cell_type": "code",
      "source": [],
      "metadata": {
        "id": "SdPyq8i2G87r"
      },
      "execution_count": null,
      "outputs": []
    }
  ]
}